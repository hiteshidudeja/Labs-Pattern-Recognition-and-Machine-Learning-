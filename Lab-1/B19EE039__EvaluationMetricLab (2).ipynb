{
  "nbformat": 4,
  "nbformat_minor": 0,
  "metadata": {
    "colab": {
      "name": "B19EE039__EvaluationMetricLab.ipynb",
      "provenance": [],
      "collapsed_sections": []
    },
    "kernelspec": {
      "name": "python3",
      "display_name": "Python 3"
    }
  },
  "cells": [
    {
      "cell_type": "code",
      "metadata": {
        "id": "9l7HD94rODqX"
      },
      "source": [
        "import pandas as pd\n",
        "import numpy as np\n",
        "import sklearn\n",
        "# from google.colab import drive"
      ],
      "execution_count": 142,
      "outputs": []
    },
    {
      "cell_type": "code",
      "metadata": {
        "id": "30qfWl1uOGVv"
      },
      "source": [
        "# drive.mount('/content/drive')"
      ],
      "execution_count": 143,
      "outputs": []
    },
    {
      "cell_type": "code",
      "metadata": {
        "id": "uXcnDs55OhzG"
      },
      "source": [
        "# give path to the data.csv \r\n",
        "file_path = '/content/data (2).csv' "
      ],
      "execution_count": 144,
      "outputs": []
    },
    {
      "cell_type": "markdown",
      "metadata": {
        "id": "P2izkRL5GOiV"
      },
      "source": [
        "As one may see, the csv file contains actual labels and the predicted probabilities from two ML model (random forest and logistic regression)."
      ]
    },
    {
      "cell_type": "code",
      "metadata": {
        "id": "Ps5StOSZOzc3",
        "colab": {
          "base_uri": "https://localhost:8080/",
          "height": 204
        },
        "outputId": "737131a4-5c44-4a74-a11f-b5608f44d581"
      },
      "source": [
        "df = pd.read_csv(file_path)\n",
        "df.head()\n"
      ],
      "execution_count": 145,
      "outputs": [
        {
          "output_type": "execute_result",
          "data": {
            "text/html": [
              "<div>\n",
              "<style scoped>\n",
              "    .dataframe tbody tr th:only-of-type {\n",
              "        vertical-align: middle;\n",
              "    }\n",
              "\n",
              "    .dataframe tbody tr th {\n",
              "        vertical-align: top;\n",
              "    }\n",
              "\n",
              "    .dataframe thead th {\n",
              "        text-align: right;\n",
              "    }\n",
              "</style>\n",
              "<table border=\"1\" class=\"dataframe\">\n",
              "  <thead>\n",
              "    <tr style=\"text-align: right;\">\n",
              "      <th></th>\n",
              "      <th>y_act</th>\n",
              "      <th>y_pred_random_forest</th>\n",
              "      <th>y_pred_logistic</th>\n",
              "    </tr>\n",
              "  </thead>\n",
              "  <tbody>\n",
              "    <tr>\n",
              "      <th>0</th>\n",
              "      <td>1</td>\n",
              "      <td>0.639816</td>\n",
              "      <td>0.531904</td>\n",
              "    </tr>\n",
              "    <tr>\n",
              "      <th>1</th>\n",
              "      <td>0</td>\n",
              "      <td>0.490993</td>\n",
              "      <td>0.414496</td>\n",
              "    </tr>\n",
              "    <tr>\n",
              "      <th>2</th>\n",
              "      <td>1</td>\n",
              "      <td>0.623815</td>\n",
              "      <td>0.569883</td>\n",
              "    </tr>\n",
              "    <tr>\n",
              "      <th>3</th>\n",
              "      <td>1</td>\n",
              "      <td>0.506616</td>\n",
              "      <td>0.443674</td>\n",
              "    </tr>\n",
              "    <tr>\n",
              "      <th>4</th>\n",
              "      <td>0</td>\n",
              "      <td>0.418302</td>\n",
              "      <td>0.369532</td>\n",
              "    </tr>\n",
              "  </tbody>\n",
              "</table>\n",
              "</div>"
            ],
            "text/plain": [
              "   y_act  y_pred_random_forest  y_pred_logistic\n",
              "0      1              0.639816         0.531904\n",
              "1      0              0.490993         0.414496\n",
              "2      1              0.623815         0.569883\n",
              "3      1              0.506616         0.443674\n",
              "4      0              0.418302         0.369532"
            ]
          },
          "metadata": {
            "tags": []
          },
          "execution_count": 145
        }
      ]
    },
    {
      "cell_type": "markdown",
      "metadata": {
        "id": "ya4LrEfQGlJ6"
      },
      "source": [
        "You have to take a threshold value and will have to predict final label. \r\n",
        "So add two new columns named as 'y_pred_rf'and 'y_pred_lr' in the df dataframe. These new columns will have final label predicted by the two models based on the threshold set."
      ]
    },
    {
      "cell_type": "code",
      "metadata": {
        "id": "djBcS1sPO2hP",
        "colab": {
          "base_uri": "https://localhost:8080/",
          "height": 204
        },
        "outputId": "b7073f67-172b-4473-c2c0-bbb60b13d2a1"
      },
      "source": [
        "thresh = 0.5\n",
        "df['y_pred_rf'] = (df.y_pred_random_forest >= 0.5).astype('int')\n",
        "df['y_pred_lr'] = (df.y_pred_logistic >= 0.5).astype('int')\n",
        "df.head()\n",
        "\n",
        "\n",
        "def predict(thresh, y_pred_random_forest, y_pred_logistic):\n",
        "  df['y_pred_rf'] = (y_pred_random_forest >= thresh).astype('int')\n",
        "  df['y_pred_lr'] = (y_pred_logistic >= thresh).astype('int')\n",
        "  \n",
        "predict(0.5, df.y_pred_random_forest, df.y_pred_logistic)\n",
        "df.head()\n",
        "\n",
        "\n"
      ],
      "execution_count": 146,
      "outputs": [
        {
          "output_type": "execute_result",
          "data": {
            "text/html": [
              "<div>\n",
              "<style scoped>\n",
              "    .dataframe tbody tr th:only-of-type {\n",
              "        vertical-align: middle;\n",
              "    }\n",
              "\n",
              "    .dataframe tbody tr th {\n",
              "        vertical-align: top;\n",
              "    }\n",
              "\n",
              "    .dataframe thead th {\n",
              "        text-align: right;\n",
              "    }\n",
              "</style>\n",
              "<table border=\"1\" class=\"dataframe\">\n",
              "  <thead>\n",
              "    <tr style=\"text-align: right;\">\n",
              "      <th></th>\n",
              "      <th>y_act</th>\n",
              "      <th>y_pred_random_forest</th>\n",
              "      <th>y_pred_logistic</th>\n",
              "      <th>y_pred_rf</th>\n",
              "      <th>y_pred_lr</th>\n",
              "    </tr>\n",
              "  </thead>\n",
              "  <tbody>\n",
              "    <tr>\n",
              "      <th>0</th>\n",
              "      <td>1</td>\n",
              "      <td>0.639816</td>\n",
              "      <td>0.531904</td>\n",
              "      <td>1</td>\n",
              "      <td>1</td>\n",
              "    </tr>\n",
              "    <tr>\n",
              "      <th>1</th>\n",
              "      <td>0</td>\n",
              "      <td>0.490993</td>\n",
              "      <td>0.414496</td>\n",
              "      <td>0</td>\n",
              "      <td>0</td>\n",
              "    </tr>\n",
              "    <tr>\n",
              "      <th>2</th>\n",
              "      <td>1</td>\n",
              "      <td>0.623815</td>\n",
              "      <td>0.569883</td>\n",
              "      <td>1</td>\n",
              "      <td>1</td>\n",
              "    </tr>\n",
              "    <tr>\n",
              "      <th>3</th>\n",
              "      <td>1</td>\n",
              "      <td>0.506616</td>\n",
              "      <td>0.443674</td>\n",
              "      <td>1</td>\n",
              "      <td>0</td>\n",
              "    </tr>\n",
              "    <tr>\n",
              "      <th>4</th>\n",
              "      <td>0</td>\n",
              "      <td>0.418302</td>\n",
              "      <td>0.369532</td>\n",
              "      <td>0</td>\n",
              "      <td>0</td>\n",
              "    </tr>\n",
              "  </tbody>\n",
              "</table>\n",
              "</div>"
            ],
            "text/plain": [
              "   y_act  y_pred_random_forest  y_pred_logistic  y_pred_rf  y_pred_lr\n",
              "0      1              0.639816         0.531904          1          1\n",
              "1      0              0.490993         0.414496          0          0\n",
              "2      1              0.623815         0.569883          1          1\n",
              "3      1              0.506616         0.443674          1          0\n",
              "4      0              0.418302         0.369532          0          0"
            ]
          },
          "metadata": {
            "tags": []
          },
          "execution_count": 146
        }
      ]
    },
    {
      "cell_type": "code",
      "metadata": {
        "id": "MyCUFrItPlPO",
        "colab": {
          "base_uri": "https://localhost:8080/"
        },
        "outputId": "6b438a8e-324b-4631-9a6e-d78120b363b9"
      },
      "source": [
        "df.shape\r\n",
        "\r\n"
      ],
      "execution_count": 147,
      "outputs": [
        {
          "output_type": "execute_result",
          "data": {
            "text/plain": [
              "(15758, 5)"
            ]
          },
          "metadata": {
            "tags": []
          },
          "execution_count": 147
        }
      ]
    },
    {
      "cell_type": "markdown",
      "metadata": {
        "id": "--7qeK98HW0i"
      },
      "source": [
        "Complete below function to compute true positive (tp), tn, fn, fp"
      ]
    },
    {
      "cell_type": "code",
      "metadata": {
        "id": "odU7dUxRPJ0l"
      },
      "source": [
        "def compute_tp_tn_fn_fp(y_act, y_pred):\n",
        "   tp=0\n",
        "   fn=0\n",
        "   tn=0\n",
        "   fp=0\n",
        "   for i in range (df.shape[0]):\n",
        "    if y_act[i]==1 and y_pred[i]==y_act[i]:\n",
        "       tp+=1\n",
        "    if y_act[i]==1 and y_pred[i]!=y_act[i]:\n",
        "       fn+=1\n",
        "    if y_act[i]==0 and y_pred[i]==y_act[i]:\n",
        "       tn+=1\n",
        "    if y_act[i]==0 and y_pred[i]!= y_act[i]:\n",
        "       fp+=1\n",
        "   return tp, tn, fp, fn"
      ],
      "execution_count": 148,
      "outputs": []
    },
    {
      "cell_type": "code",
      "metadata": {
        "id": "NUr_BhRdPScf",
        "colab": {
          "base_uri": "https://localhost:8080/"
        },
        "outputId": "fb7e4b57-8f24-45e6-fc9e-0d2409a086b2"
      },
      "source": [
        "tp_lr, tn_lr, fp_lr, fn_lr = compute_tp_tn_fn_fp(df.y_act, df.y_pred_lr)\n",
        "print('TP for Logistic Reg :', tp_lr)\n",
        "print('TN for Logistic Reg :', tn_lr)\n",
        "print('FP for Logistic Reg :', fp_lr)\n",
        "print('FN for Logistic Reg :', fn_lr)"
      ],
      "execution_count": 149,
      "outputs": [
        {
          "output_type": "stream",
          "text": [
            "TP for Logistic Reg : 4279\n",
            "TN for Logistic Reg : 5425\n",
            "FP for Logistic Reg : 2454\n",
            "FN for Logistic Reg : 3600\n"
          ],
          "name": "stdout"
        }
      ]
    },
    {
      "cell_type": "code",
      "metadata": {
        "id": "I_g7lSw0QXSW",
        "colab": {
          "base_uri": "https://localhost:8080/"
        },
        "outputId": "cff60555-0ec2-4806-9112-f4280712d4c3"
      },
      "source": [
        "tp_rf, tn_rf, fp_rf, fn_rf = compute_tp_tn_fn_fp(df.y_act, df.y_pred_rf)\n",
        "print('TP for Random Forest :', tp_rf)\n",
        "print('TN for Random Forest :', tn_rf)\n",
        "print('FP for Random Forest :', fp_rf)\n",
        "print('FN for Random Forest :', fn_rf)"
      ],
      "execution_count": 150,
      "outputs": [
        {
          "output_type": "stream",
          "text": [
            "TP for Random Forest : 5047\n",
            "TN for Random Forest : 5519\n",
            "FP for Random Forest : 2360\n",
            "FN for Random Forest : 2832\n"
          ],
          "name": "stdout"
        }
      ]
    },
    {
      "cell_type": "markdown",
      "metadata": {
        "id": "GvCtMtH1H26J"
      },
      "source": [
        "Let's verify result from sklearn"
      ]
    },
    {
      "cell_type": "code",
      "metadata": {
        "id": "bgZP9T4CZ1Li"
      },
      "source": [
        "from sklearn.metrics import confusion_matrix\n",
        "tn_rf1, fp_rf1, fn_rf1, tp_rf1 = confusion_matrix(df.y_act, df.y_pred_rf).ravel()"
      ],
      "execution_count": 151,
      "outputs": []
    },
    {
      "cell_type": "code",
      "metadata": {
        "id": "_rtIci_rZ9J7",
        "colab": {
          "base_uri": "https://localhost:8080/"
        },
        "outputId": "268f9863-8f0a-4616-986f-7a06726c7d40"
      },
      "source": [
        "print('TP for Random Forest :', tp_rf1)\n",
        "print('TN for Random Forest :', tn_rf1)\n",
        "print('FP for Random Forest :', fp_rf1)\n",
        "print('FN for Random Forest :', fn_rf1)"
      ],
      "execution_count": 152,
      "outputs": [
        {
          "output_type": "stream",
          "text": [
            "TP for Random Forest : 5047\n",
            "TN for Random Forest : 5519\n",
            "FP for Random Forest : 2360\n",
            "FN for Random Forest : 2832\n"
          ],
          "name": "stdout"
        }
      ]
    },
    {
      "cell_type": "markdown",
      "metadata": {
        "id": "jhjYqqR2H8xU"
      },
      "source": [
        "In a similar way complete all the functions below"
      ]
    },
    {
      "cell_type": "code",
      "metadata": {
        "id": "G8RHrb5kQ_I_"
      },
      "source": [
        "def compute_accuracy(tp, tn, fn, fp):\n",
        " acc= (tp/(tp+fn)+tn/(tn+fp))/2 *100\n",
        " return acc"
      ],
      "execution_count": 153,
      "outputs": []
    },
    {
      "cell_type": "code",
      "metadata": {
        "id": "NR5DT6tHRvc5",
        "colab": {
          "base_uri": "https://localhost:8080/"
        },
        "outputId": "df11e66b-4f8e-451a-eddb-8b11a38d5fce"
      },
      "source": [
        "print('Accuracy for Logistic Regression :', compute_accuracy(tp_lr, tn_lr, fn_lr, fp_lr))\n",
        "print('Accuracy for Random Forest :', compute_accuracy(tp_rf, tn_rf, fn_rf, fp_rf))"
      ],
      "execution_count": 154,
      "outputs": [
        {
          "output_type": "stream",
          "text": [
            "Accuracy for Logistic Regression : 61.58141896179718\n",
            "Accuracy for Random Forest : 67.05165630156111\n"
          ],
          "name": "stdout"
        }
      ]
    },
    {
      "cell_type": "code",
      "metadata": {
        "id": "Oa_Yf9boSN3M"
      },
      "source": [
        "from sklearn.metrics import accuracy_score"
      ],
      "execution_count": 155,
      "outputs": []
    },
    {
      "cell_type": "code",
      "metadata": {
        "id": "SUiyyqq-SWer",
        "colab": {
          "base_uri": "https://localhost:8080/"
        },
        "outputId": "58d9a47a-505e-497a-bea6-1a13f02cabf7"
      },
      "source": [
        "print('Accuracy for Logistic Regression :', 100* accuracy_score(df.y_act, \n",
        "                                                           df.y_pred_lr))\n",
        "print('Accuracy for Logistic Regression :', 100*accuracy_score(df.y_act, \n",
        "                                                           df.y_pred_rf))"
      ],
      "execution_count": 156,
      "outputs": [
        {
          "output_type": "stream",
          "text": [
            "Accuracy for Logistic Regression : 61.58141896179718\n",
            "Accuracy for Logistic Regression : 67.05165630156111\n"
          ],
          "name": "stdout"
        }
      ]
    },
    {
      "cell_type": "code",
      "metadata": {
        "id": "Lirv9_L0SZ85"
      },
      "source": [
        "def compute_precision(tp, fp):\n",
        " precision= tp/(tp+fp) \n",
        " return precision"
      ],
      "execution_count": 157,
      "outputs": []
    },
    {
      "cell_type": "code",
      "metadata": {
        "id": "fXBCPFF9XVqR",
        "colab": {
          "base_uri": "https://localhost:8080/"
        },
        "outputId": "9d66dc06-400d-4fd3-a2da-e90c18d020b3"
      },
      "source": [
        "print('Precision for Logistic Regression :', 100* compute_precision(tp_lr, fp_lr))\n",
        "print('Precision for Random Forest :', 100* compute_precision(tp_rf, fp_rf))"
      ],
      "execution_count": 158,
      "outputs": [
        {
          "output_type": "stream",
          "text": [
            "Precision for Logistic Regression : 63.55265112134264\n",
            "Precision for Random Forest : 68.1382476036182\n"
          ],
          "name": "stdout"
        }
      ]
    },
    {
      "cell_type": "code",
      "metadata": {
        "id": "bKvrMNKSYpWW",
        "colab": {
          "base_uri": "https://localhost:8080/"
        },
        "outputId": "94a4b972-497b-4248-ade9-72338f30afb9"
      },
      "source": [
        "from sklearn.metrics import precision_score\n",
        "print('Precision for Logistic Regression :', 100* precision_score(df.y_act, \n",
        "                                                           df.y_pred_lr))\n",
        "print('Precision for Random Forest :', 100* precision_score(df.y_act, \n",
        "                                                           df.y_pred_rf))"
      ],
      "execution_count": 159,
      "outputs": [
        {
          "output_type": "stream",
          "text": [
            "Precision for Logistic Regression : 63.55265112134264\n",
            "Precision for Random Forest : 68.1382476036182\n"
          ],
          "name": "stdout"
        }
      ]
    },
    {
      "cell_type": "code",
      "metadata": {
        "id": "ZsrGqhaMY2j9"
      },
      "source": [
        "def compute_recall(tp,fn):\n",
        " recall= tp/ (tp+fn)\n",
        " return recall"
      ],
      "execution_count": 160,
      "outputs": []
    },
    {
      "cell_type": "code",
      "metadata": {
        "id": "t9nsMZwBbFqF",
        "colab": {
          "base_uri": "https://localhost:8080/"
        },
        "outputId": "6bebd9f1-26ff-445f-b7b3-fe5e32de72ed"
      },
      "source": [
        "print('Recall for Logistic Regression :', 100* compute_recall(tp_lr, fn_lr))\n",
        "print('Recall for Random Forest :', 100* compute_recall(tp_rf, fn_rf))"
      ],
      "execution_count": 161,
      "outputs": [
        {
          "output_type": "stream",
          "text": [
            "Recall for Logistic Regression : 54.30892245208783\n",
            "Recall for Random Forest : 64.05635232897576\n"
          ],
          "name": "stdout"
        }
      ]
    },
    {
      "cell_type": "code",
      "metadata": {
        "id": "hctMfFOCa-OX",
        "colab": {
          "base_uri": "https://localhost:8080/"
        },
        "outputId": "6f9b9481-60fa-44e3-8200-dfd6998e01c8"
      },
      "source": [
        "from sklearn.metrics import recall_score\n",
        "\n",
        "print('Recall for Logistic Regression :', 100* recall_score(df.y_act, \n",
        "                                                           df.y_pred_lr))\n",
        "print('Recall for Random Forest :', 100* recall_score(df.y_act, \n",
        "                                                           df.y_pred_rf))"
      ],
      "execution_count": 162,
      "outputs": [
        {
          "output_type": "stream",
          "text": [
            "Recall for Logistic Regression : 54.30892245208783\n",
            "Recall for Random Forest : 64.05635232897576\n"
          ],
          "name": "stdout"
        }
      ]
    },
    {
      "cell_type": "code",
      "metadata": {
        "id": "oYF1hlSGbiN4"
      },
      "source": [
        "def compute_f1_score(y_true, y_pred):\n",
        "  tp, tn, fp, fn = compute_tp_tn_fn_fp(y_true, y_pred)\n",
        "  recall= compute_recall(tp, fn)\n",
        "  precision= compute_precision(tp, fp)\n",
        "  f1_score= 2/ (1/precision + 1/recall)  \n",
        "  return f1_score"
      ],
      "execution_count": 163,
      "outputs": []
    },
    {
      "cell_type": "code",
      "metadata": {
        "id": "6BQl8guud5c8",
        "colab": {
          "base_uri": "https://localhost:8080/"
        },
        "outputId": "619c272c-4412-4bcf-ed91-00fc6db51be9"
      },
      "source": [
        "print('F1 score for Logistic Regression :', compute_f1_score(df.y_act, \n",
        "                                                             df.y_pred_lr))\n",
        "print('F1 score for Random Forest :', compute_f1_score(df.y_act, \n",
        "                                                             df.y_pred_rf))"
      ],
      "execution_count": 164,
      "outputs": [
        {
          "output_type": "stream",
          "text": [
            "F1 score for Logistic Regression : 0.5856830002737476\n",
            "F1 score for Random Forest : 0.6603427973308911\n"
          ],
          "name": "stdout"
        }
      ]
    },
    {
      "cell_type": "code",
      "metadata": {
        "id": "qBrixsxLeFHq",
        "colab": {
          "base_uri": "https://localhost:8080/"
        },
        "outputId": "6861ed0b-3024-4c59-af4b-ce857f712fa4"
      },
      "source": [
        "from sklearn.metrics import f1_score\n",
        "print('F1 score for Logistic Regression :', f1_score(df.y_act, df.y_pred_lr))\n",
        "print('F1 score for Random Forest :', f1_score(df.y_act, df.y_pred_rf))"
      ],
      "execution_count": 165,
      "outputs": [
        {
          "output_type": "stream",
          "text": [
            "F1 score for Logistic Regression : 0.5856830002737475\n",
            "F1 score for Random Forest : 0.660342797330891\n"
          ],
          "name": "stdout"
        }
      ]
    },
    {
      "cell_type": "code",
      "metadata": {
        "id": "_ehAwBc4ecS_"
      },
      "source": [
        "import matplotlib.pyplot as plt\r\n",
        "from sklearn.metrics import roc_curve, roc_auc_score\r\n",
        "rf_auc = roc_auc_score(df.y_act, df.y_pred_rf)\r\n",
        "lr_auc = roc_auc_score(df.y_act, df.y_pred_lr)\r\n",
        "\r\n",
        "# fpr = dict()\r\n",
        "# tpr = dict()\r\n",
        "# roc_auc = dict()\r\n",
        "# for i in range(6):\r\n",
        "#     fpr[i], tpr[i], _ = roc_curve(df.y_act, df.y_pred_lr)\r\n",
        "#     roc_auc[i] = auc(fpr[i], tpr[i])\r\n",
        "\r\n",
        "# print (roc_auc_score(df.y_act, df.y_pred_lr))\r\n",
        "# plt.figure()\r\n",
        "# plt.plot(fpr[1], tpr[1])\r\n",
        "# plt.xlim([0.0, 1.0])\r\n",
        "# plt.ylim([0.0, 1.05])\r\n",
        "# plt.xlabel('False Positive Rate')\r\n",
        "# plt.ylabel('True Positive Rate')\r\n",
        "# plt.title('Receiver operating characteristic')\r\n",
        "# plt.show()\r\n",
        "\r\n",
        "\r\n",
        "\r\n"
      ],
      "execution_count": 166,
      "outputs": []
    },
    {
      "cell_type": "code",
      "metadata": {
        "id": "vfWU-9GsI0B3",
        "colab": {
          "base_uri": "https://localhost:8080/"
        },
        "outputId": "fb413839-9a86-4097-a6f6-6332b5d0e901"
      },
      "source": [
        "print('Random Forest: AUROC = %.3f' % (rf_auc))\r\n",
        "print('Logistic Regression: AUROC = %.3f' % (lr_auc))"
      ],
      "execution_count": 167,
      "outputs": [
        {
          "output_type": "stream",
          "text": [
            "Random Forest: AUROC = 0.671\n",
            "Logistic Regression: AUROC = 0.616\n"
          ],
          "name": "stdout"
        }
      ]
    },
    {
      "cell_type": "code",
      "metadata": {
        "id": "RxxBExb_I7zy"
      },
      "source": [
        "rf_fpr, rf_tpr, _ = roc_curve(df.y_act, df.y_pred_rf)\r\n",
        "lr_fpr, lr_tpr, _ = roc_curve(df.y_act, df.y_pred_lr)"
      ],
      "execution_count": 168,
      "outputs": []
    },
    {
      "cell_type": "code",
      "metadata": {
        "id": "8Ne1F_inJP-A",
        "colab": {
          "base_uri": "https://localhost:8080/",
          "height": 295
        },
        "outputId": "d18010fd-55d2-4d69-851f-61fb436ad4eb"
      },
      "source": [
        "import matplotlib.pyplot as plt\r\n",
        "\r\n",
        "\r\n",
        "plt.plot(rf_fpr, rf_tpr, marker='.', label='Random Forest (AUC = %0.3f)' % rf_auc)\r\n",
        "plt.plot(lr_fpr, lr_tpr, marker='.', label='Logistic Regression (AUC = %0.3f)' % lr_auc)\r\n",
        "\r\n",
        "# Title\r\n",
        "plt.title('ROC Plot')\r\n",
        "# Axis labels\r\n",
        "plt.xlabel('False Positive Rate')\r\n",
        "plt.ylabel('True Positive Rate')\r\n",
        "# Show legend\r\n",
        "plt.legend() # \r\n",
        "# Show plot\r\n",
        "plt.show()"
      ],
      "execution_count": 169,
      "outputs": [
        {
          "output_type": "display_data",
          "data": {
            "image/png": "[encoded data removed]",
            "text/plain": [
              "<Figure size 432x288 with 1 Axes>"
            ]
          },
          "metadata": {
            "tags": [],
            "needs_background": "light"
          }
        }
      ]
    }
  ]
}