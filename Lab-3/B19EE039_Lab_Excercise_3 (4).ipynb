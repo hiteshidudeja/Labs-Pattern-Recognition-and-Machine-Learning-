{
  "nbformat": 4,
  "nbformat_minor": 0,
  "metadata": {
    "colab": {
      "name": "B19EE039 Lab_Excercise-3.ipynb",
      "provenance": [],
      "collapsed_sections": []
    },
    "kernelspec": {
      "display_name": "Python 3",
      "name": "python3"
    },
    "language_info": {
      "name": "python"
    }
  },
  "cells": [
    {
      "cell_type": "markdown",
      "metadata": {
        "id": "c1bdHZpVR49x"
      },
      "source": [
        "Dependecies: Add your Dependencies here"
      ]
    },
    {
      "cell_type": "code",
      "metadata": {
        "id": "ZAhH4iltSA-g"
      },
      "source": [
        "import pandas as pd\n",
        "import numpy as np\n",
        "import seaborn as sns\n",
        "from matplotlib import pyplot as plt\n",
        "from matplotlib import rcParams\n",
        "from sklearn.model_selection import cross_val_score\n",
        "rcParams['figure.figsize']= 10,10"
      ],
      "execution_count": null,
      "outputs": []
    },
    {
      "cell_type": "markdown",
      "metadata": {
        "id": "F5ZZ6LuuSvP-"
      },
      "source": [
        "Read the dataset from the CSV file"
      ]
    },
    {
      "cell_type": "code",
      "metadata": {
        "id": "LWGOAbf7Sxiu",
        "colab": {
          "base_uri": "https://localhost:8080/",
          "height": 202
        },
        "outputId": "b2b65568-618f-4a1a-b0c5-8e70d855f2f5"
      },
      "source": [
        "dic = {'Serious_Dlq_in_2yrs':0,'Debt_Ratio':0.24,'age':23,'Number_Of_Time_30-59_Days_Past_Due':0,'Number_Of_Time_60-89_Days_Past_Due':0,'Number_Of_Times_90_Days_Late':0,'Monthly_Income':78,'Dependents':0}\n",
        "data = pd.read_csv('/content/credit_scoring_sample.csv')\n",
        "data\n",
        "# print(data.shape)\n",
        "data.head()"
      ],
      "execution_count": null,
      "outputs": [
        {
          "output_type": "execute_result",
          "data": {
            "text/html": [
              "<div>\n",
              "<style scoped>\n",
              "    .dataframe tbody tr th:only-of-type {\n",
              "        vertical-align: middle;\n",
              "    }\n",
              "\n",
              "    .dataframe tbody tr th {\n",
              "        vertical-align: top;\n",
              "    }\n",
              "\n",
              "    .dataframe thead th {\n",
              "        text-align: right;\n",
              "    }\n",
              "</style>\n",
              "<table border=\"1\" class=\"dataframe\">\n",
              "  <thead>\n",
              "    <tr style=\"text-align: right;\">\n",
              "      <th></th>\n",
              "      <th>Serious_Dlq_in_2yrs</th>\n",
              "      <th>Debt_Ratio</th>\n",
              "      <th>age</th>\n",
              "      <th>Number_Of_Time_30-59_Days_Past_Due</th>\n",
              "      <th>Number_Of_Time_60-89_Days_Past_Due</th>\n",
              "      <th>Number_Of_Times_90_Days_Late</th>\n",
              "      <th>Monthly_Income</th>\n",
              "      <th>Dependents</th>\n",
              "    </tr>\n",
              "  </thead>\n",
              "  <tbody>\n",
              "    <tr>\n",
              "      <th>0</th>\n",
              "      <td>0</td>\n",
              "      <td>454.000000</td>\n",
              "      <td>21</td>\n",
              "      <td>0</td>\n",
              "      <td>0</td>\n",
              "      <td>0</td>\n",
              "      <td>NaN</td>\n",
              "      <td>NaN</td>\n",
              "    </tr>\n",
              "    <tr>\n",
              "      <th>1</th>\n",
              "      <td>1</td>\n",
              "      <td>0.174377</td>\n",
              "      <td>22</td>\n",
              "      <td>1</td>\n",
              "      <td>1</td>\n",
              "      <td>1</td>\n",
              "      <td>280.0</td>\n",
              "      <td>0.0</td>\n",
              "    </tr>\n",
              "    <tr>\n",
              "      <th>2</th>\n",
              "      <td>0</td>\n",
              "      <td>0.000000</td>\n",
              "      <td>22</td>\n",
              "      <td>0</td>\n",
              "      <td>0</td>\n",
              "      <td>0</td>\n",
              "      <td>1500.0</td>\n",
              "      <td>0.0</td>\n",
              "    </tr>\n",
              "    <tr>\n",
              "      <th>3</th>\n",
              "      <td>1</td>\n",
              "      <td>0.000000</td>\n",
              "      <td>23</td>\n",
              "      <td>98</td>\n",
              "      <td>98</td>\n",
              "      <td>98</td>\n",
              "      <td>NaN</td>\n",
              "      <td>0.0</td>\n",
              "    </tr>\n",
              "    <tr>\n",
              "      <th>4</th>\n",
              "      <td>1</td>\n",
              "      <td>111.000000</td>\n",
              "      <td>23</td>\n",
              "      <td>0</td>\n",
              "      <td>1</td>\n",
              "      <td>2</td>\n",
              "      <td>NaN</td>\n",
              "      <td>0.0</td>\n",
              "    </tr>\n",
              "  </tbody>\n",
              "</table>\n",
              "</div>"
            ],
            "text/plain": [
              "   Serious_Dlq_in_2yrs  Debt_Ratio  ...  Monthly_Income  Dependents\n",
              "0                    0  454.000000  ...             NaN         NaN\n",
              "1                    1    0.174377  ...           280.0         0.0\n",
              "2                    0    0.000000  ...          1500.0         0.0\n",
              "3                    1    0.000000  ...             NaN         0.0\n",
              "4                    1  111.000000  ...             NaN         0.0\n",
              "\n",
              "[5 rows x 8 columns]"
            ]
          },
          "metadata": {
            "tags": []
          },
          "execution_count": 112
        }
      ]
    },
    {
      "cell_type": "code",
      "metadata": {
        "id": "n5gKW5Y3VHYi",
        "colab": {
          "base_uri": "https://localhost:8080/",
          "height": 592
        },
        "outputId": "b91a8723-e61b-4024-93cb-0905c1b8ed57"
      },
      "source": [
        "plt.scatter(data.index , data['Serious_Dlq_in_2yrs'])\n",
        "\n",
        "plt.show()"
      ],
      "execution_count": null,
      "outputs": [
        {
          "output_type": "display_data",
          "data": {
            "image/png": "[encoded data removed]",
            "text/plain": [
              "<Figure size 720x720 with 1 Axes>"
            ]
          },
          "metadata": {
            "tags": [],
            "needs_background": "light"
          }
        }
      ]
    },
    {
      "cell_type": "code",
      "metadata": {
        "id": "IneYVQDulg_O",
        "colab": {
          "base_uri": "https://localhost:8080/"
        },
        "outputId": "75f90c2f-e540-40af-c577-3d5d816fcec9"
      },
      "source": [
        "y = 'Serious_Dlq_in_2yrs'\n",
        "print(data[y].value_counts().sort_values())"
      ],
      "execution_count": null,
      "outputs": [
        {
          "output_type": "stream",
          "text": [
            "1    300\n",
            "0    699\n",
            "Name: Serious_Dlq_in_2yrs, dtype: int64\n"
          ],
          "name": "stdout"
        }
      ]
    },
    {
      "cell_type": "code",
      "metadata": {
        "id": "riScbAhNQzWz",
        "colab": {
          "base_uri": "https://localhost:8080/",
          "height": 662
        },
        "outputId": "14607e8c-c3e8-4108-ee5e-5bc1fc173f83"
      },
      "source": [
        "ax = data[y].value_counts().sort_values().plot(kind=\"barh\")\n",
        "totals= []\n",
        "for i in ax.patches:\n",
        "    totals.append(i.get_width())\n",
        "total = sum(totals)\n",
        "for i in ax.patches:\n",
        "     ax.text(i.get_width()+.3, i.get_y()+.20, \n",
        "     str(round((i.get_width()/total)*100, 2))+'%', \n",
        "     fontsize=10, color='black')\n",
        "ax.grid(axis=\"x\")\n",
        "plt.suptitle(y, fontsize=20)\n",
        "plt.show()"
      ],
      "execution_count": null,
      "outputs": [
        {
          "output_type": "display_data",
          "data": {
            "image/png": "[encoded data removed]",
            "text/plain": [
              "<Figure size 720x720 with 1 Axes>"
            ]
          },
          "metadata": {
            "tags": [],
            "needs_background": "light"
          }
        }
      ]
    },
    {
      "cell_type": "code",
      "metadata": {
        "id": "7ZzCv1MBUSeH",
        "colab": {
          "base_uri": "https://localhost:8080/"
        },
        "outputId": "a508e1b6-7787-424a-bd9a-135fef12eabb"
      },
      "source": [
        "data.isna().sum().sum()"
      ],
      "execution_count": null,
      "outputs": [
        {
          "output_type": "execute_result",
          "data": {
            "text/plain": [
              "209"
            ]
          },
          "metadata": {
            "tags": []
          },
          "execution_count": 116
        }
      ]
    },
    {
      "cell_type": "code",
      "metadata": {
        "id": "Y3bVn6c-Vk1C",
        "colab": {
          "base_uri": "https://localhost:8080/"
        },
        "outputId": "a53c6e42-77f1-403d-f5bd-84faa305efaf"
      },
      "source": [
        "# Handle the NaN values\n",
        "data.fillna(data.mean(), inplace=True)\n",
        "data.isna().sum()\n",
        "print(data.shape)"
      ],
      "execution_count": null,
      "outputs": [
        {
          "output_type": "stream",
          "text": [
            "(999, 8)\n"
          ],
          "name": "stdout"
        }
      ]
    },
    {
      "cell_type": "code",
      "metadata": {
        "id": "gM817FetVsSO",
        "colab": {
          "base_uri": "https://localhost:8080/",
          "height": 1000
        },
        "outputId": "89f7069d-9159-415d-8b60-8d1186507a61"
      },
      "source": [
        "# Visualize the distribution of data for every feature\n",
        "for x in data.columns:\n",
        "  if x != \"Serious_Dlq_in_2yrs\":\n",
        "    plt.xlabel(\"index\")\n",
        "    plt.ylabel(x)\n",
        "    plt.scatter(data.index,data[x])\n",
        "    plt.figure(figsize=(20,10))\n",
        "    plt.show()\n",
        "    print('\\n')"
      ],
      "execution_count": null,
      "outputs": [
        {
          "output_type": "display_data",
          "data": {
            "image/png": "[encoded data removed]",
            "text/plain": [
              "<Figure size 720x720 with 1 Axes>"
            ]
          },
          "metadata": {
            "tags": [],
            "needs_background": "light"
          }
        },
        {
          "output_type": "display_data",
          "data": {
            "text/plain": [
              "<Figure size 1440x720 with 0 Axes>"
            ]
          },
          "metadata": {
            "tags": []
          }
        },
        {
          "output_type": "stream",
          "text": [
            "\n",
            "\n"
          ],
          "name": "stdout"
        },
        {
          "output_type": "display_data",
          "data": {
            "image/png": "[encoded data removed]",
            "text/plain": [
              "<Figure size 720x720 with 1 Axes>"
            ]
          },
          "metadata": {
            "tags": [],
            "needs_background": "light"
          }
        },
        {
          "output_type": "display_data",
          "data": {
            "text/plain": [
              "<Figure size 1440x720 with 0 Axes>"
            ]
          },
          "metadata": {
            "tags": []
          }
        },
        {
          "output_type": "stream",
          "text": [
            "\n",
            "\n"
          ],
          "name": "stdout"
        },
        {
          "output_type": "display_data",
          "data": {
            "image/png": "[encoded data removed]",
            "text/plain": [
              "<Figure size 720x720 with 1 Axes>"
            ]
          },
          "metadata": {
            "tags": [],
            "needs_background": "light"
          }
        },
        {
          "output_type": "display_data",
          "data": {
            "text/plain": [
              "<Figure size 1440x720 with 0 Axes>"
            ]
          },
          "metadata": {
            "tags": []
          }
        },
        {
          "output_type": "stream",
          "text": [
            "\n",
            "\n"
          ],
          "name": "stdout"
        },
        {
          "output_type": "display_data",
          "data": {
            "image/png": "[encoded data removed]",
            "text/plain": [
              "<Figure size 720x720 with 1 Axes>"
            ]
          },
          "metadata": {
            "tags": [],
            "needs_background": "light"
          }
        },
        {
          "output_type": "display_data",
          "data": {
            "text/plain": [
              "<Figure size 1440x720 with 0 Axes>"
            ]
          },
          "metadata": {
            "tags": []
          }
        },
        {
          "output_type": "stream",
          "text": [
            "\n",
            "\n"
          ],
          "name": "stdout"
        },
        {
          "output_type": "display_data",
          "data": {
            "image/png": "[encoded data removed]",
            "text/plain": [
              "<Figure size 720x720 with 1 Axes>"
            ]
          },
          "metadata": {
            "tags": [],
            "needs_background": "light"
          }
        },
        {
          "output_type": "display_data",
          "data": {
            "text/plain": [
              "<Figure size 1440x720 with 0 Axes>"
            ]
          },
          "metadata": {
            "tags": []
          }
        },
        {
          "output_type": "stream",
          "text": [
            "\n",
            "\n"
          ],
          "name": "stdout"
        },
        {
          "output_type": "display_data",
          "data": {
            "image/png": "[encoded data removed]",
            "text/plain": [
              "<Figure size 720x720 with 1 Axes>"
            ]
          },
          "metadata": {
            "tags": [],
            "needs_background": "light"
          }
        },
        {
          "output_type": "display_data",
          "data": {
            "text/plain": [
              "<Figure size 1440x720 with 0 Axes>"
            ]
          },
          "metadata": {
            "tags": []
          }
        },
        {
          "output_type": "stream",
          "text": [
            "\n",
            "\n"
          ],
          "name": "stdout"
        },
        {
          "output_type": "display_data",
          "data": {
            "image/png": "[encoded data removed]",
            "text/plain": [
              "<Figure size 720x720 with 1 Axes>"
            ]
          },
          "metadata": {
            "tags": [],
            "needs_background": "light"
          }
        },
        {
          "output_type": "display_data",
          "data": {
            "text/plain": [
              "<Figure size 1440x720 with 0 Axes>"
            ]
          },
          "metadata": {
            "tags": []
          }
        },
        {
          "output_type": "stream",
          "text": [
            "\n",
            "\n"
          ],
          "name": "stdout"
        }
      ]
    },
    {
      "cell_type": "markdown",
      "metadata": {
        "id": "z8iur7tiWuwT"
      },
      "source": [
        "**Train the Random Forest Classifier**"
      ]
    },
    {
      "cell_type": "code",
      "metadata": {
        "id": "jwijwtAVWwNq"
      },
      "source": [
        "from sklearn.ensemble import RandomForestClassifier\n",
        "from sklearn.model_selection import StratifiedKFold\n",
        "from sklearn.model_selection import GridSearchCV\n",
        "from sklearn.model_selection import train_test_split"
      ],
      "execution_count": null,
      "outputs": []
    },
    {
      "cell_type": "code",
      "metadata": {
        "id": "6HCU6WgdW9hP"
      },
      "source": [
        "# seperate depedendent and independent variables from the dataset\n",
        "X = data.iloc[:,1:].values #indep.\n",
        "y = data.iloc[:,0:1].values #dep.\n",
        "\n"
      ],
      "execution_count": null,
      "outputs": []
    },
    {
      "cell_type": "code",
      "metadata": {
        "id": "r20IBUNmXOKM"
      },
      "source": [
        "# define paramerts for the random forest\n",
        "parameters = {'max_features': [1, 2, 4], 'max_depth': [2,3,4,5]}\n",
        "rf = RandomForestClassifier(n_estimators=100, max_features=1, max_depth=3)"
      ],
      "execution_count": null,
      "outputs": []
    },
    {
      "cell_type": "markdown",
      "metadata": {
        "id": "_Cvoxg5vavhw"
      },
      "source": [
        "**Cross Validation**"
      ]
    },
    {
      "cell_type": "code",
      "metadata": {
        "id": "JhQA2dzeXZpg"
      },
      "source": [
        "# perform cross validation"
      ],
      "execution_count": null,
      "outputs": []
    },
    {
      "cell_type": "code",
      "metadata": {
        "id": "he1SIplBHqzY",
        "colab": {
          "base_uri": "https://localhost:8080/"
        },
        "outputId": "8b40b1f4-9a41-4cb6-f328-cedf368a028c"
      },
      "source": [
        "skf = StratifiedKFold(n_splits=5, shuffle=True, random_state=5)\n",
        "lst_accu_stratified = []\n",
        "for train_index, test_index in skf.split(X, y):\n",
        "    # print(\"TRAIN:\", train_index, \"TEST:\", test_index)\n",
        "    X_train, X_test = X[train_index], X[test_index]\n",
        "    y_train, y_test = y[train_index], y[test_index]\n",
        "    rf.fit(X_train, y_train.ravel())\n",
        "    lst_accu_stratified.append(rf.score(X_test, y_test))\n",
        "lst_accu_stratified"
      ],
      "execution_count": null,
      "outputs": [
        {
          "output_type": "execute_result",
          "data": {
            "text/plain": [
              "[0.805, 0.78, 0.77, 0.81, 0.7839195979899497]"
            ]
          },
          "metadata": {
            "tags": []
          },
          "execution_count": 123
        }
      ]
    },
    {
      "cell_type": "code",
      "metadata": {
        "id": "FE7AZCemXrmh",
        "colab": {
          "base_uri": "https://localhost:8080/"
        },
        "outputId": "7e30819c-502c-4007-ceec-a082af575b6d"
      },
      "source": [
        "grid_search = GridSearchCV(rf, parameters, n_jobs=-1, scoring='roc_auc', cv=skf)\n",
        "grid_search.fit(X_train, y_train.ravel()) \n",
        "print(grid_search.best_params_)"
      ],
      "execution_count": null,
      "outputs": [
        {
          "output_type": "stream",
          "text": [
            "{'max_depth': 5, 'max_features': 2}\n"
          ],
          "name": "stdout"
        }
      ]
    },
    {
      "cell_type": "code",
      "metadata": {
        "id": "OQBsgN-7YBY8",
        "colab": {
          "base_uri": "https://localhost:8080/"
        },
        "outputId": "bbe33092-17b8-4cc1-c14f-088da6bb9673"
      },
      "source": [
        "#Get the best score from the grid search\n",
        "print(grid_search.best_score_) "
      ],
      "execution_count": null,
      "outputs": [
        {
          "output_type": "stream",
          "text": [
            "0.8242001488095239\n"
          ],
          "name": "stdout"
        }
      ]
    },
    {
      "cell_type": "code",
      "metadata": {
        "id": "bDMHRrkW8eCr",
        "colab": {
          "base_uri": "https://localhost:8080/"
        },
        "outputId": "ff0e86e8-74b0-4ac4-8ea9-369ed3e94b1e"
      },
      "source": [
        "clf = grid_search.best_estimator_\n",
        "clf.fit(X_train,y_train.ravel())"
      ],
      "execution_count": null,
      "outputs": [
        {
          "output_type": "execute_result",
          "data": {
            "text/plain": [
              "RandomForestClassifier(bootstrap=True, ccp_alpha=0.0, class_weight=None,\n",
              "                       criterion='gini', max_depth=5, max_features=2,\n",
              "                       max_leaf_nodes=None, max_samples=None,\n",
              "                       min_impurity_decrease=0.0, min_impurity_split=None,\n",
              "                       min_samples_leaf=1, min_samples_split=2,\n",
              "                       min_weight_fraction_leaf=0.0, n_estimators=100,\n",
              "                       n_jobs=None, oob_score=False, random_state=None,\n",
              "                       verbose=0, warm_start=False)"
            ]
          },
          "metadata": {
            "tags": []
          },
          "execution_count": 126
        }
      ]
    },
    {
      "cell_type": "code",
      "metadata": {
        "id": "6w3KlgGA_0JH",
        "colab": {
          "base_uri": "https://localhost:8080/"
        },
        "outputId": "e58e0dfa-6786-40ef-c5f1-1ee47894cb1b"
      },
      "source": [
        "clf.score(X_test,y_test)"
      ],
      "execution_count": null,
      "outputs": [
        {
          "output_type": "execute_result",
          "data": {
            "text/plain": [
              "0.8040201005025126"
            ]
          },
          "metadata": {
            "tags": []
          },
          "execution_count": 127
        }
      ]
    },
    {
      "cell_type": "code",
      "metadata": {
        "id": "VeiN0kkc_5ls",
        "colab": {
          "base_uri": "https://localhost:8080/"
        },
        "outputId": "60d8d371-c4c4-4fb2-cfa5-2ed88d3956ec"
      },
      "source": [
        "a = clf.predict(X_test[2:3,:])\n",
        "print(a, y_test[2:3,:])"
      ],
      "execution_count": null,
      "outputs": [
        {
          "output_type": "stream",
          "text": [
            "[1] [[1]]\n"
          ],
          "name": "stdout"
        }
      ]
    },
    {
      "cell_type": "code",
      "metadata": {
        "id": "qHDsq1n8C0I0"
      },
      "source": [
        "# from sklearn.datasets import make_friedman1\n",
        "# from sklearn.ensemble import GradientBoostingRegressor\n",
        "# X, y = make_friedman1()\n",
        "# clf = GradientBoostingRegressor(n_estimators=10).fit(X, y)\n",
        "# plot_partial_dependence(clf, X, [0, 1,2]) \n",
        "# y"
      ],
      "execution_count": null,
      "outputs": []
    },
    {
      "cell_type": "code",
      "metadata": {
        "id": "mk0XcJkgEBd_",
        "colab": {
          "base_uri": "https://localhost:8080/"
        },
        "outputId": "00b7ad2f-23eb-44bc-e9e7-92b6096eaae9"
      },
      "source": [
        "grid_search.cv_results_"
      ],
      "execution_count": null,
      "outputs": [
        {
          "output_type": "execute_result",
          "data": {
            "text/plain": [
              "{'mean_fit_time': array([0.2263742 , 0.22078891, 0.22820315, 0.22116728, 0.23010859,\n",
              "        0.25340309, 0.2246057 , 0.23224988, 0.25546899, 0.23157945,\n",
              "        0.24124293, 0.23533268]),\n",
              " 'mean_score_time': array([0.01684384, 0.01721349, 0.01528535, 0.01734328, 0.01606021,\n",
              "        0.01625195, 0.01591191, 0.01606345, 0.01627417, 0.016536  ,\n",
              "        0.01620178, 0.01389675]),\n",
              " 'mean_test_score': array([0.81661086, 0.81915923, 0.81595982, 0.81934524, 0.82161458,\n",
              "        0.81791295, 0.81941964, 0.82126116, 0.82217262, 0.8172061 ,\n",
              "        0.82319568, 0.81850818]),\n",
              " 'param_max_depth': masked_array(data=[2, 2, 2, 3, 3, 3, 4, 4, 4, 5, 5, 5],\n",
              "              mask=[False, False, False, False, False, False, False, False,\n",
              "                    False, False, False, False],\n",
              "        fill_value='?',\n",
              "             dtype=object),\n",
              " 'param_max_features': masked_array(data=[1, 2, 4, 1, 2, 4, 1, 2, 4, 1, 2, 4],\n",
              "              mask=[False, False, False, False, False, False, False, False,\n",
              "                    False, False, False, False],\n",
              "        fill_value='?',\n",
              "             dtype=object),\n",
              " 'params': [{'max_depth': 2, 'max_features': 1},\n",
              "  {'max_depth': 2, 'max_features': 2},\n",
              "  {'max_depth': 2, 'max_features': 4},\n",
              "  {'max_depth': 3, 'max_features': 1},\n",
              "  {'max_depth': 3, 'max_features': 2},\n",
              "  {'max_depth': 3, 'max_features': 4},\n",
              "  {'max_depth': 4, 'max_features': 1},\n",
              "  {'max_depth': 4, 'max_features': 2},\n",
              "  {'max_depth': 4, 'max_features': 4},\n",
              "  {'max_depth': 5, 'max_features': 1},\n",
              "  {'max_depth': 5, 'max_features': 2},\n",
              "  {'max_depth': 5, 'max_features': 4}],\n",
              " 'rank_test_score': array([11,  7, 12,  6,  3,  9,  5,  4,  2, 10,  1,  8], dtype=int32),\n",
              " 'split0_test_score': array([0.88467262, 0.86579241, 0.8718378 , 0.88783482, 0.88857887,\n",
              "        0.87276786, 0.88337054, 0.88671875, 0.88876488, 0.87704613,\n",
              "        0.88299851, 0.88244048]),\n",
              " 'split1_test_score': array([0.84867932, 0.8547247 , 0.84607515, 0.85212054, 0.85760789,\n",
              "        0.85212054, 0.85825893, 0.85342262, 0.85453869, 0.84709821,\n",
              "        0.85081845, 0.8484003 ]),\n",
              " 'split2_test_score': array([0.80887277, 0.80357143, 0.80133929, 0.79771205, 0.79659598,\n",
              "        0.79547991, 0.80412946, 0.80850074, 0.80143229, 0.80124628,\n",
              "        0.80422247, 0.80533854]),\n",
              " 'split3_test_score': array([0.72256324, 0.75651042, 0.76385789, 0.74906994, 0.76041667,\n",
              "        0.76311384, 0.74962798, 0.74888393, 0.75967262, 0.74460565,\n",
              "        0.77362351, 0.75613839]),\n",
              " 'split4_test_score': array([0.81826637, 0.81519717, 0.79668899, 0.80998884, 0.80487351,\n",
              "        0.80608259, 0.80171131, 0.80877976, 0.80645461, 0.81603423,\n",
              "        0.80431548, 0.80022321]),\n",
              " 'std_fit_time': array([0.00361647, 0.00863899, 0.0101099 , 0.005833  , 0.00289942,\n",
              "        0.00523332, 0.01344581, 0.00311825, 0.00527167, 0.00562855,\n",
              "        0.00645295, 0.02992766]),\n",
              " 'std_score_time': array([0.00054489, 0.00174624, 0.00062625, 0.00207998, 0.00034791,\n",
              "        0.00062555, 0.00034638, 0.00064855, 0.00022192, 0.00033731,\n",
              "        0.00069535, 0.00276799]),\n",
              " 'std_test_score': array([0.05397844, 0.0390464 , 0.03828581, 0.04745355, 0.04567518,\n",
              "        0.03956099, 0.04693923, 0.04663932, 0.04486771, 0.04472423,\n",
              "        0.03876401, 0.04330969])}"
            ]
          },
          "metadata": {
            "tags": []
          },
          "execution_count": 130
        }
      ]
    },
    {
      "cell_type": "code",
      "metadata": {
        "colab": {
          "base_uri": "https://localhost:8080/"
        },
        "id": "Zi5V_bd8iIF0",
        "outputId": "f49e924a-a7c9-48f9-b03e-d3f6c84d5c54"
      },
      "source": [
        "f= data.columns\n",
        "f[1:]"
      ],
      "execution_count": null,
      "outputs": [
        {
          "output_type": "execute_result",
          "data": {
            "text/plain": [
              "Index(['Debt_Ratio', 'age', 'Number_Of_Time_30-59_Days_Past_Due',\n",
              "       'Number_Of_Time_60-89_Days_Past_Due', 'Number_Of_Times_90_Days_Late',\n",
              "       'Monthly_Income', 'Dependents'],\n",
              "      dtype='object')"
            ]
          },
          "metadata": {
            "tags": []
          },
          "execution_count": 131
        }
      ]
    },
    {
      "cell_type": "code",
      "metadata": {
        "id": "7Jaw-AA-YIv8",
        "colab": {
          "base_uri": "https://localhost:8080/",
          "height": 624
        },
        "outputId": "22676fd5-4404-4a8e-c9aa-5bf1ae543ce3"
      },
      "source": [
        "# Find the feature which has the weakest impact in Random Forest Model\n",
        "from sklearn.inspection import plot_partial_dependence\n",
        "features = [0,1,2,3,4,5,6]\n",
        "plot_partial_dependence(clf,X,features,feature_names= f[1:])\n"
      ],
      "execution_count": null,
      "outputs": [
        {
          "output_type": "execute_result",
          "data": {
            "text/plain": [
              "<sklearn.inspection._partial_dependence.PartialDependenceDisplay at 0x7f262e908790>"
            ]
          },
          "metadata": {
            "tags": []
          },
          "execution_count": 132
        },
        {
          "output_type": "display_data",
          "data": {
            "image/png": "[encoded data removed]",
            "text/plain": [
              "<Figure size 720x720 with 8 Axes>"
            ]
          },
          "metadata": {
            "tags": [],
            "needs_background": "light"
          }
        }
      ]
    },
    {
      "cell_type": "code",
      "metadata": {
        "id": "iwKMqeWSQB5C",
        "colab": {
          "base_uri": "https://localhost:8080/"
        },
        "outputId": "dccd216d-bb3f-4ec9-94c5-c790fe61fde9"
      },
      "source": [
        "clf.feature_importances_"
      ],
      "execution_count": null,
      "outputs": [
        {
          "output_type": "execute_result",
          "data": {
            "text/plain": [
              "array([0.07077535, 0.12968003, 0.21476083, 0.14519785, 0.31550347,\n",
              "       0.10220667, 0.02187579])"
            ]
          },
          "metadata": {
            "tags": []
          },
          "execution_count": 133
        }
      ]
    },
    {
      "cell_type": "code",
      "metadata": {
        "id": "q0hRrrPtiUmM",
        "colab": {
          "base_uri": "https://localhost:8080/",
          "height": 264
        },
        "outputId": "37dbda26-9fa6-4785-ea91-bf50246edd1e"
      },
      "source": [
        "pd.DataFrame({'feat': f[1:],\n",
        "              'coef': clf.feature_importances_}).sort_values(by='coef', ascending=True)"
      ],
      "execution_count": null,
      "outputs": [
        {
          "output_type": "execute_result",
          "data": {
            "text/html": [
              "<div>\n",
              "<style scoped>\n",
              "    .dataframe tbody tr th:only-of-type {\n",
              "        vertical-align: middle;\n",
              "    }\n",
              "\n",
              "    .dataframe tbody tr th {\n",
              "        vertical-align: top;\n",
              "    }\n",
              "\n",
              "    .dataframe thead th {\n",
              "        text-align: right;\n",
              "    }\n",
              "</style>\n",
              "<table border=\"1\" class=\"dataframe\">\n",
              "  <thead>\n",
              "    <tr style=\"text-align: right;\">\n",
              "      <th></th>\n",
              "      <th>feat</th>\n",
              "      <th>coef</th>\n",
              "    </tr>\n",
              "  </thead>\n",
              "  <tbody>\n",
              "    <tr>\n",
              "      <th>6</th>\n",
              "      <td>Dependents</td>\n",
              "      <td>0.021876</td>\n",
              "    </tr>\n",
              "    <tr>\n",
              "      <th>0</th>\n",
              "      <td>Debt_Ratio</td>\n",
              "      <td>0.070775</td>\n",
              "    </tr>\n",
              "    <tr>\n",
              "      <th>5</th>\n",
              "      <td>Monthly_Income</td>\n",
              "      <td>0.102207</td>\n",
              "    </tr>\n",
              "    <tr>\n",
              "      <th>1</th>\n",
              "      <td>age</td>\n",
              "      <td>0.129680</td>\n",
              "    </tr>\n",
              "    <tr>\n",
              "      <th>3</th>\n",
              "      <td>Number_Of_Time_60-89_Days_Past_Due</td>\n",
              "      <td>0.145198</td>\n",
              "    </tr>\n",
              "    <tr>\n",
              "      <th>2</th>\n",
              "      <td>Number_Of_Time_30-59_Days_Past_Due</td>\n",
              "      <td>0.214761</td>\n",
              "    </tr>\n",
              "    <tr>\n",
              "      <th>4</th>\n",
              "      <td>Number_Of_Times_90_Days_Late</td>\n",
              "      <td>0.315503</td>\n",
              "    </tr>\n",
              "  </tbody>\n",
              "</table>\n",
              "</div>"
            ],
            "text/plain": [
              "                                 feat      coef\n",
              "6                          Dependents  0.021876\n",
              "0                          Debt_Ratio  0.070775\n",
              "5                      Monthly_Income  0.102207\n",
              "1                                 age  0.129680\n",
              "3  Number_Of_Time_60-89_Days_Past_Due  0.145198\n",
              "2  Number_Of_Time_30-59_Days_Past_Due  0.214761\n",
              "4        Number_Of_Times_90_Days_Late  0.315503"
            ]
          },
          "metadata": {
            "tags": []
          },
          "execution_count": 134
        }
      ]
    },
    {
      "cell_type": "code",
      "metadata": {
        "id": "iV2J5A_qgi9t",
        "colab": {
          "base_uri": "https://localhost:8080/",
          "height": 745
        },
        "outputId": "cc8452b8-19c4-4771-8a51-2cf27316b63a"
      },
      "source": [
        "importances = clf.feature_importances_\n",
        "std = np.std([tree.feature_importances_ for tree in clf.estimators_],\n",
        "             axis=0)\n",
        "indices = np.argsort(importances)[::-1]\n",
        "\n",
        "# Print the feature ranking\n",
        "print(\"Feature ranking:\")\n",
        "\n",
        "for f in range(X.shape[1]):\n",
        "    print(\"%d. feature %d (%f)\" % (f + 1, indices[f], importances[indices[f]]))\n",
        "\n",
        "# Plot the impurity-based feature importances of the forest\n",
        "plt.figure()\n",
        "plt.title(\"Feature importances\")\n",
        "plt.bar(range(X.shape[1]), importances[indices],\n",
        "        color=\"b\", yerr=std[indices], align=\"center\")\n",
        "plt.xticks(range(X.shape[1]), indices)\n",
        "plt.xlim([-1, X.shape[1]])\n",
        "plt.show()"
      ],
      "execution_count": null,
      "outputs": [
        {
          "output_type": "stream",
          "text": [
            "Feature ranking:\n",
            "1. feature 4 (0.315503)\n",
            "2. feature 2 (0.214761)\n",
            "3. feature 3 (0.145198)\n",
            "4. feature 1 (0.129680)\n",
            "5. feature 5 (0.102207)\n",
            "6. feature 0 (0.070775)\n",
            "7. feature 6 (0.021876)\n"
          ],
          "name": "stdout"
        },
        {
          "output_type": "display_data",
          "data": {
            "image/png": "[encoded data removed]",
            "text/plain": [
              "<Figure size 720x720 with 1 Axes>"
            ]
          },
          "metadata": {
            "tags": [],
            "needs_background": "light"
          }
        }
      ]
    },
    {
      "cell_type": "code",
      "metadata": {
        "id": "QZuGyMe8YMDp"
      },
      "source": [
        "# Perform bagging classification using decision trees as the base classifier\n"
      ],
      "execution_count": null,
      "outputs": []
    },
    {
      "cell_type": "code",
      "metadata": {
        "id": "w_aJPspMYQI-"
      },
      "source": [
        "from sklearn.ensemble import BaggingClassifier\n",
        "from sklearn.model_selection import cross_val_score\n",
        "from sklearn import tree"
      ],
      "execution_count": null,
      "outputs": []
    },
    {
      "cell_type": "code",
      "metadata": {
        "id": "q9JwYgWfYU_f"
      },
      "source": [
        "\n",
        "# get a list of models to evaluate\n",
        "def get_models():\n",
        " param_grid = {\n",
        "    'base_estimator__max_depth' : [1, 2, 3, 4, 5],\n",
        "    'max_samples' : [0.05, 0.1, 0.2, 0.5]\n",
        "}\n",
        " models= []\n",
        " clf = tree.DecisionTreeClassifier()\n",
        " model_1 = GridSearchCV(BaggingClassifier(clf, n_estimators=2, bootstrap=True), param_grid, scoring = 'roc_auc')\n",
        " model_2 = GridSearchCV(BaggingClassifier(clf, n_estimators=3, bootstrap=True), param_grid, scoring = 'roc_auc')\n",
        " model_3 = GridSearchCV(BaggingClassifier(clf, n_estimators=4, bootstrap=True), param_grid, scoring = 'roc_auc')\n",
        " models.append( model_1)\n",
        " models.append( model_2)\n",
        " models.append( model_3)\n",
        " return models"
      ],
      "execution_count": null,
      "outputs": []
    },
    {
      "cell_type": "code",
      "metadata": {
        "id": "98NB3pA8YuhJ"
      },
      "source": [
        "# evaluate a given model using cross-validation\n",
        "def evaluate_model(model, X, y):\n",
        " scores = cross_val_score(model, X, y, cv=5)\n",
        " return scores"
      ],
      "execution_count": null,
      "outputs": []
    },
    {
      "cell_type": "code",
      "metadata": {
        "id": "QRZiG79HY3xr",
        "colab": {
          "base_uri": "https://localhost:8080/"
        },
        "outputId": "0148eb54-7c21-4094-c855-68c2e8781f62"
      },
      "source": [
        "# Summarize the performance by getting mean and standard deviation of scores\n",
        "\n",
        "results = []\n",
        "names = [\"model_1\", \"model_2\", \"model_3\"]\n",
        "standard_deviations =[]\n",
        "models = get_models()\n",
        "for i in range (0,3):\n",
        " scores = evaluate_model(models[i], X, y.ravel())\n",
        " results.append(scores)\n",
        " msg = \"%s: %f (%f)\" % (names[i], scores.mean(), scores.std())\n",
        " standard_deviations.append(scores.std)\n",
        " print(msg)\n",
        " \n"
      ],
      "execution_count": null,
      "outputs": [
        {
          "output_type": "stream",
          "text": [
            "model_1: 0.667193 (0.115203)\n",
            "model_2: 0.752629 (0.056928)\n",
            "model_3: 0.671756 (0.166596)\n"
          ],
          "name": "stdout"
        }
      ]
    },
    {
      "cell_type": "code",
      "metadata": {
        "id": "INeV_C2ZZFdD",
        "colab": {
          "base_uri": "https://localhost:8080/",
          "height": 626
        },
        "outputId": "f6fe505b-baf8-4a4a-fc45-8159e7f112a9"
      },
      "source": [
        "# Plot the model performance for comparison using boxplot\n",
        "# fig = plt.figure()\n",
        "# fig.suptitle('Comparison')\n",
        "# ax = fig.add_subplot(111)\n",
        "# plt.boxplot(results)\n",
        "# ax.set_xticklabels(names)\n",
        "# plt.show()\n",
        "print(results)\n",
        "sns.boxplot( data = results, width = 0.5, fliersize= 2)\n",
        "\n"
      ],
      "execution_count": null,
      "outputs": [
        {
          "output_type": "stream",
          "text": [
            "[array([0.60404762, 0.7485119 , 0.7575    , 0.75738095, 0.46852518]), array([0.71404762, 0.84970238, 0.77      , 0.74720238, 0.68219424]), array([0.76928571, 0.69232143, 0.8       , 0.75113095, 0.34604317])]\n"
          ],
          "name": "stdout"
        },
        {
          "output_type": "execute_result",
          "data": {
            "text/plain": [
              "<matplotlib.axes._subplots.AxesSubplot at 0x7f262c7ef750>"
            ]
          },
          "metadata": {
            "tags": []
          },
          "execution_count": 141
        },
        {
          "output_type": "display_data",
          "data": {
            "image/png": "[encoded data removed]",
            "text/plain": [
              "<Figure size 720x720 with 1 Axes>"
            ]
          },
          "metadata": {
            "tags": [],
            "needs_background": "light"
          }
        }
      ]
    },
    {
      "cell_type": "code",
      "metadata": {
        "colab": {
          "base_uri": "https://localhost:8080/"
        },
        "id": "eiNEBrnjrXdS",
        "outputId": "8b714808-8ec2-418f-e67f-3fabfe765349"
      },
      "source": [
        "parameters = {'n_estimators':[2,3,4]}\n",
        "grid_search_bag= GridSearchCV(BaggingClassifier(), parameters, n_jobs=-1, scoring='roc_auc', cv=skf)\n",
        "grid_search_bag.fit(X_train, y_train.ravel()) \n",
        "num_estimators =grid_search_bag.best_params_['n_estimators']\n",
        "print(num_estimators)"
      ],
      "execution_count": null,
      "outputs": [
        {
          "output_type": "stream",
          "text": [
            "4\n"
          ],
          "name": "stdout"
        }
      ]
    },
    {
      "cell_type": "code",
      "metadata": {
        "id": "t-p0DA7UZIaH",
        "colab": {
          "base_uri": "https://localhost:8080/",
          "height": 609
        },
        "outputId": "23a13cbe-c0ae-45a5-e937-fa920ec503b5"
      },
      "source": [
        "# Compare the best performance of bagging with random forest\n",
        "num_est =[2,3,4]\n",
        "index = num_est.index(num_estimators)\n",
        "results_bag_rf= [results[index]]\n",
        "results_bag_rf.append(lst_accu_stratified)\n",
        "sns.boxplot( data = results_bag_rf, width = 0.5, fliersize= 2)\n",
        "print(results_bag_rf)"
      ],
      "execution_count": null,
      "outputs": [
        {
          "output_type": "stream",
          "text": [
            "[array([0.76928571, 0.69232143, 0.8       , 0.75113095, 0.34604317]), [0.805, 0.78, 0.77, 0.81, 0.7839195979899497]]\n"
          ],
          "name": "stdout"
        },
        {
          "output_type": "display_data",
          "data": {
            "image/png": "[encoded data removed]",
            "text/plain": [
              "<Figure size 720x720 with 1 Axes>"
            ]
          },
          "metadata": {
            "tags": [],
            "needs_background": "light"
          }
        }
      ]
    },
    {
      "cell_type": "markdown",
      "metadata": {
        "id": "E_cQVM807kro"
      },
      "source": [
        "References:-\n",
        "\n",
        "\n",
        "*   [Decision Tree](https://https://scikit-learn.org/stable/modules/generated/sklearn.tree.DecisionTreeClassifier.html)\n",
        "*   [Seaborn](https://https://https://seaborn.pydata.org/)\n",
        "*   [Random Forest](https://scikit-learn.org/stable/modules/generated/sklearn.ensemble.RandomForestClassifier.html)\n",
        "*   [Stratified Kfold](https://scikit-learn.org/stable/modules/generated/sklearn.model_selection.StratifiedKFold.html)\n",
        "*   [Grid Search](https://https://scikit-learn.org/stable/modules/generated/sklearn.model_selection.GridSearchCV.html)\n",
        "*   [Bagging](https://scikit-learn.org/stable/modules/generated/sklearn.ensemble.BaggingClassifier.html) \n",
        "*   [Cross Val Score](https://https://scikit-learn.org/stable/modules/generated/sklearn.model_selection.cross_val_score.html)\n",
        "\n",
        "\n",
        "\n",
        "\n",
        "\n",
        "\n",
        "\n",
        "\n",
        "\n"
      ]
    },
    {
      "cell_type": "code",
      "metadata": {
        "id": "c5rn2pNM96zi"
      },
      "source": [
        ""
      ],
      "execution_count": null,
      "outputs": []
    },
    {
      "cell_type": "code",
      "metadata": {
        "id": "O0YXkHL0Y1ns"
      },
      "source": [
        ""
      ],
      "execution_count": null,
      "outputs": []
    }
  ]
}