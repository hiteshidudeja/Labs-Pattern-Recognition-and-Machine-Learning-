{
  "nbformat": 4,
  "nbformat_minor": 0,
  "metadata": {
    "colab": {
      "name": "B19EE039_ Visualisation(Notebook-2).ipynb",
      "provenance": [],
      "collapsed_sections": [],
      "toc_visible": true
    },
    "kernelspec": {
      "display_name": "visualise",
      "language": "python",
      "name": "visualise"
    },
    "language_info": {
      "codemirror_mode": {
        "name": "ipython",
        "version": 3
      },
      "file_extension": ".py",
      "mimetype": "text/x-python",
      "name": "python",
      "nbconvert_exporter": "python",
      "pygments_lexer": "ipython3",
      "version": "3.8.3"
    }
  },
  "cells": [
    {
      "cell_type": "markdown",
      "metadata": {
        "id": "izU8PETajYKi"
      },
      "source": [
        "Create two random data sets with two features and two classes"
      ]
    },
    {
      "cell_type": "markdown",
      "metadata": {
        "id": "Jzz_J_uiAAYZ"
      },
      "source": [
        "Dependencies"
      ]
    },
    {
      "cell_type": "code",
      "metadata": {
        "id": "fEMx2juljs4x"
      },
      "source": [
        "import numpy as np\n",
        "import pandas as pd\n",
        "import matplotlib.pyplot as plt\n",
        "import warnings\n",
        "warnings.filterwarnings('ignore')"
      ],
      "execution_count": 34,
      "outputs": []
    },
    {
      "cell_type": "markdown",
      "metadata": {
        "id": "tOL1rB9NAD-x"
      },
      "source": [
        "Consider that you are given a car height and you have the class label as 1 if cost of car is greater than 550 and 0 if it is less than or equal to 550."
      ]
    },
    {
      "cell_type": "code",
      "metadata": {
        "id": "cw-G401DAaTV",
        "colab": {
          "base_uri": "https://localhost:8080/"
        },
        "outputId": "f1f32f92-e93a-42c2-dd53-7b7376fde0e4"
      },
      "source": [
        "df = pd.read_csv('/content/Data (3).csv')\n",
        "data = df.to_numpy()\n",
        "data.shape"
      ],
      "execution_count": 35,
      "outputs": [
        {
          "output_type": "execute_result",
          "data": {
            "text/plain": [
              "(27, 2)"
            ]
          },
          "metadata": {
            "tags": []
          },
          "execution_count": 35
        }
      ]
    },
    {
      "cell_type": "markdown",
      "metadata": {
        "id": "yj4KM4I2CA_L"
      },
      "source": [
        "# Create the labels from the data"
      ]
    },
    {
      "cell_type": "code",
      "metadata": {
        "id": "CTVzL0koBd_s",
        "colab": {
          "base_uri": "https://localhost:8080/"
        },
        "outputId": "f5f8d7a0-1f8b-439a-c543-ec0968629e11"
      },
      "source": [
        "label = []\n",
        "x_c1 = []\n",
        "x_c2 = []\n",
        "c1_count = 0\n",
        "c2_count = 0\n",
        "for i in range(data.shape[0]):\n",
        "  if(data[i][1] > 550):\n",
        "    label.append(1)\n",
        "    x_c1.append(data[i][0])\n",
        "    c1_count += 1\n",
        "  else:\n",
        "    label.append(0)\n",
        "    x_c2.append(data[i][0])\n",
        "    c2_count += 1\n",
        "print(x_c1)\n",
        "print(x_c2)"
      ],
      "execution_count": 36,
      "outputs": [
        {
          "output_type": "stream",
          "text": [
            "[3.0, 4.0, 3.0, 2.0, 3.0, 3.0, 2.0, 1.0, 3.0, 2.0, 2.0, 1.0, 1.5, 2.5, 1.5, 1.5, 3.0, 1.5, 1.0, 2.5, 1.0, 1.5, 1.0]\n",
            "[1.0, 5.0, 3.0, 2.5]\n"
          ],
          "name": "stdout"
        }
      ]
    },
    {
      "cell_type": "code",
      "metadata": {
        "colab": {
          "base_uri": "https://localhost:8080/"
        },
        "id": "kr7BWRO4wxH-",
        "outputId": "2e231275-780f-485e-e4c8-685c4bd4ef66"
      },
      "source": [
        "c1_count"
      ],
      "execution_count": 37,
      "outputs": [
        {
          "output_type": "execute_result",
          "data": {
            "text/plain": [
              "23"
            ]
          },
          "metadata": {
            "tags": []
          },
          "execution_count": 37
        }
      ]
    },
    {
      "cell_type": "code",
      "metadata": {
        "colab": {
          "base_uri": "https://localhost:8080/"
        },
        "id": "i0IRVOXCE3zM",
        "outputId": "1d7cf0a9-ddd5-41ea-a831-e4694e991f75"
      },
      "source": [
        "c2_count"
      ],
      "execution_count": 38,
      "outputs": [
        {
          "output_type": "execute_result",
          "data": {
            "text/plain": [
              "4"
            ]
          },
          "metadata": {
            "tags": []
          },
          "execution_count": 38
        }
      ]
    },
    {
      "cell_type": "markdown",
      "metadata": {
        "id": "kaLcCoaVCN-v"
      },
      "source": [
        "# Plotting the distribution of samples."
      ]
    },
    {
      "cell_type": "code",
      "metadata": {
        "colab": {
          "base_uri": "https://localhost:8080/",
          "height": 533
        },
        "id": "YJUJkPO1CTGI",
        "outputId": "d76aecf0-111a-4ca3-aff7-bfbfe289b149"
      },
      "source": [
        "import seaborn as sns\n",
        "sns.set(rc={'figure.figsize':(8,8)})\n",
        "x = data[:,0]\n",
        "print(x)\n",
        "sns.histplot(x)\n",
        "#Not a preferred way to plot distribution\n",
        "# number of cars corresponding to each height"
      ],
      "execution_count": 39,
      "outputs": [
        {
          "output_type": "stream",
          "text": [
            "[1.  3.  4.  3.  5.  2.  3.  3.  2.  1.  3.  2.  2.  1.  1.5 3.  2.5 1.5\n",
            " 1.5 3.  1.5 1.  2.5 2.5 1.  1.5 1. ]\n"
          ],
          "name": "stdout"
        },
        {
          "output_type": "execute_result",
          "data": {
            "text/plain": [
              "<matplotlib.axes._subplots.AxesSubplot at 0x7f58edb43410>"
            ]
          },
          "metadata": {
            "tags": []
          },
          "execution_count": 39
        },
        {
          "output_type": "display_data",
          "data": {
            "image/png": "[encoded data removed]",
            "text/plain": [
              "<Figure size 576x576 with 1 Axes>"
            ]
          },
          "metadata": {
            "tags": []
          }
        }
      ]
    },
    {
      "cell_type": "code",
      "metadata": {
        "colab": {
          "base_uri": "https://localhost:8080/",
          "height": 502
        },
        "id": "Oc5zBirFHbUN",
        "outputId": "e9e3719a-2e57-46fa-cc84-b7341df9510b"
      },
      "source": [
        "#This gives a clear idea\n",
        "plt.hist(x)\n",
        "plt.xlabel(\"Height\")\n",
        "plt.ylabel(\"Count\")\n",
        "plt.show()"
      ],
      "execution_count": 40,
      "outputs": [
        {
          "output_type": "display_data",
          "data": {
            "image/png": "[encoded data removed]",
            "text/plain": [
              "<Figure size 576x576 with 1 Axes>"
            ]
          },
          "metadata": {
            "tags": []
          }
        }
      ]
    },
    {
      "cell_type": "markdown",
      "metadata": {
        "id": "x9jp64nSDLjp"
      },
      "source": [
        "# Prior Probabilities for both the classes"
      ]
    },
    {
      "cell_type": "code",
      "metadata": {
        "colab": {
          "base_uri": "https://localhost:8080/"
        },
        "id": "5rCzFekrDO0s",
        "outputId": "d4012878-038e-4c66-a442-cd5c4189421f"
      },
      "source": [
        "no_of_samples = len(data)\n",
        "prob_c1 = c1_count/no_of_samples\n",
        "prob_c2 = c2_count/no_of_samples\n",
        "print(\"Prior Class 1:\",prob_c1)\n",
        "print(\"Prior Class 2:\",prob_c2)"
      ],
      "execution_count": 41,
      "outputs": [
        {
          "output_type": "stream",
          "text": [
            "Prior Class 1: 0.8518518518518519\n",
            "Prior Class 2: 0.14814814814814814\n"
          ],
          "name": "stdout"
        }
      ]
    },
    {
      "cell_type": "markdown",
      "metadata": {
        "id": "NxqjnXOQEWTd"
      },
      "source": [
        "# Unique Values"
      ]
    },
    {
      "cell_type": "code",
      "metadata": {
        "colab": {
          "base_uri": "https://localhost:8080/"
        },
        "id": "aUL6jBoZGoUK",
        "outputId": "a2944cab-736a-40ec-e44f-5386905001eb"
      },
      "source": [
        "print(x_c1)\n",
        "print(x_c2)"
      ],
      "execution_count": 42,
      "outputs": [
        {
          "output_type": "stream",
          "text": [
            "[3.0, 4.0, 3.0, 2.0, 3.0, 3.0, 2.0, 1.0, 3.0, 2.0, 2.0, 1.0, 1.5, 2.5, 1.5, 1.5, 3.0, 1.5, 1.0, 2.5, 1.0, 1.5, 1.0]\n",
            "[1.0, 5.0, 3.0, 2.5]\n"
          ],
          "name": "stdout"
        }
      ]
    },
    {
      "cell_type": "code",
      "metadata": {
        "id": "z-lzaxRbFUpG"
      },
      "source": [
        "from collections import Counter\n",
        "unique_c1 = Counter(x_c1).keys() \n",
        "count_unique_c1 = list(Counter(x_c1).values()) \n",
        "unique_c2 = Counter(x_c2).keys() \n",
        "count_unique_c2 = list(Counter(x_c2).values()) "
      ],
      "execution_count": 43,
      "outputs": []
    },
    {
      "cell_type": "markdown",
      "metadata": {
        "id": "TKVN0qP8GpcF"
      },
      "source": [
        "Plot the count of each unique element of the feature"
      ]
    },
    {
      "cell_type": "code",
      "metadata": {
        "colab": {
          "base_uri": "https://localhost:8080/"
        },
        "id": "uMKviaLiJ02z",
        "outputId": "da01d6d1-11bf-4383-8cbd-5d0f747ea14f"
      },
      "source": [
        "unique_c1"
      ],
      "execution_count": 44,
      "outputs": [
        {
          "output_type": "execute_result",
          "data": {
            "text/plain": [
              "dict_keys([3.0, 4.0, 2.0, 1.0, 1.5, 2.5])"
            ]
          },
          "metadata": {
            "tags": []
          },
          "execution_count": 44
        }
      ]
    },
    {
      "cell_type": "code",
      "metadata": {
        "colab": {
          "base_uri": "https://localhost:8080/"
        },
        "id": "zVrxG0XOJ30W",
        "outputId": "2fc87841-29ab-4e2b-c5e5-6b190e2a22e6"
      },
      "source": [
        "count_unique_c1"
      ],
      "execution_count": 45,
      "outputs": [
        {
          "output_type": "execute_result",
          "data": {
            "text/plain": [
              "[6, 1, 4, 5, 5, 2]"
            ]
          },
          "metadata": {
            "tags": []
          },
          "execution_count": 45
        }
      ]
    },
    {
      "cell_type": "code",
      "metadata": {
        "colab": {
          "base_uri": "https://localhost:8080/",
          "height": 502
        },
        "id": "NMKYZoUQGq16",
        "outputId": "25f1eec6-9842-4b51-9bcf-f7ddc916ecb1"
      },
      "source": [
        "#Not a preferred way to plot distribution\n",
        "plt.bar(unique_c1,count_unique_c1)\n",
        "plt.xlabel(\"Elements in class\")\n",
        "plt.ylabel(\"Count\")\n",
        "plt.show()"
      ],
      "execution_count": 46,
      "outputs": [
        {
          "output_type": "display_data",
          "data": {
            "image/png": "[encoded data removed]",
            "text/plain": [
              "<Figure size 576x576 with 1 Axes>"
            ]
          },
          "metadata": {
            "tags": []
          }
        }
      ]
    },
    {
      "cell_type": "code",
      "metadata": {
        "colab": {
          "base_uri": "https://localhost:8080/",
          "height": 502
        },
        "id": "GjcrMXXnKxq-",
        "outputId": "7bbee8f7-c3d2-46c0-e048-25a5f9d1b3a9"
      },
      "source": [
        "sns.lineplot(list(unique_c1),count_unique_c1)\n",
        "plt.xlabel(\"Elements in class\")\n",
        "plt.ylabel(\"Count\")\n",
        "plt.show()"
      ],
      "execution_count": 47,
      "outputs": [
        {
          "output_type": "display_data",
          "data": {
            "image/png": "[encoded data removed]",
            "text/plain": [
              "<Figure size 576x576 with 1 Axes>"
            ]
          },
          "metadata": {
            "tags": []
          }
        }
      ]
    },
    {
      "cell_type": "code",
      "metadata": {
        "colab": {
          "base_uri": "https://localhost:8080/",
          "height": 502
        },
        "id": "QAmdvoVtWB1K",
        "outputId": "5e77a42f-62af-42c5-9b60-53ac2329d7d3"
      },
      "source": [
        "#Probability distribution of x_c2\n",
        "sns.distplot(x_c2)\n",
        "plt.xlabel(\"Elements in class\")\n",
        "plt.ylabel(\"Count\")\n",
        "plt.show()"
      ],
      "execution_count": 48,
      "outputs": [
        {
          "output_type": "display_data",
          "data": {
            "image/png": "[encoded data removed]",
            "text/plain": [
              "<Figure size 576x576 with 1 Axes>"
            ]
          },
          "metadata": {
            "tags": []
          }
        }
      ]
    },
    {
      "cell_type": "code",
      "metadata": {
        "colab": {
          "base_uri": "https://localhost:8080/",
          "height": 502
        },
        "id": "R6BHvHIpL1R1",
        "outputId": "8f7b8af7-3400-4310-9f2e-a1bbdc0ea6a1"
      },
      "source": [
        "#Plot for the unique values in class c2\n",
        "sns.scatterplot(list(unique_c2),count_unique_c2)\n",
        "plt.xlabel(\"Elements in class\")\n",
        "plt.ylabel(\"Count\")\n",
        "plt.show()"
      ],
      "execution_count": 49,
      "outputs": [
        {
          "output_type": "display_data",
          "data": {
            "image/png": "[encoded data removed]",
            "text/plain": [
              "<Figure size 576x576 with 1 Axes>"
            ]
          },
          "metadata": {
            "tags": []
          }
        }
      ]
    },
    {
      "cell_type": "markdown",
      "metadata": {
        "id": "JuJ3ut-Kv0OW"
      },
      "source": [
        "# Likelihood"
      ]
    },
    {
      "cell_type": "markdown",
      "metadata": {
        "id": "fb34_4t7Phao"
      },
      "source": [
        "Plot P(x|C1) and P(x|C2)"
      ]
    },
    {
      "cell_type": "code",
      "metadata": {
        "colab": {
          "base_uri": "https://localhost:8080/",
          "height": 582
        },
        "id": "bAWU2UelOclu",
        "outputId": "b73bdd06-f979-482b-9a78-b13331dbf2c8"
      },
      "source": [
        "#sns.color_palette(\"Paired\", 9)\n",
        "print(count_unique_c1)\n",
        "print(x_c1)\n",
        "y1 = np.array(count_unique_c1)/len(x_c1)\n",
        "sns.pointplot(list(unique_c1),y1, linestyles=\"--\",markers =['x'] )\n",
        "print(y1)\n",
        "print(count_unique_c2)\n",
        "print(x_c2)\n",
        "y2 = np.array(count_unique_c2)/len(x_c2)\n",
        "print(y2)\n"
      ],
      "execution_count": 50,
      "outputs": [
        {
          "output_type": "stream",
          "text": [
            "[6, 1, 4, 5, 5, 2]\n",
            "[3.0, 4.0, 3.0, 2.0, 3.0, 3.0, 2.0, 1.0, 3.0, 2.0, 2.0, 1.0, 1.5, 2.5, 1.5, 1.5, 3.0, 1.5, 1.0, 2.5, 1.0, 1.5, 1.0]\n",
            "[0.26086957 0.04347826 0.17391304 0.2173913  0.2173913  0.08695652]\n",
            "[1, 1, 1, 1]\n",
            "[1.0, 5.0, 3.0, 2.5]\n",
            "[0.25 0.25 0.25 0.25]\n"
          ],
          "name": "stdout"
        },
        {
          "output_type": "display_data",
          "data": {
            "image/png": "[encoded data removed]",
            "text/plain": [
              "<Figure size 576x576 with 1 Axes>"
            ]
          },
          "metadata": {
            "tags": []
          }
        }
      ]
    },
    {
      "cell_type": "markdown",
      "metadata": {
        "id": "n-aTLzeVEnvL"
      },
      "source": [
        "# Posterior Probability"
      ]
    },
    {
      "cell_type": "code",
      "metadata": {
        "collapsed": true,
        "id": "jILlWDYyExKs",
        "colab": {
          "base_uri": "https://localhost:8080/",
          "height": 191
        },
        "outputId": "08633ec8-96d4-4e07-ab28-d7908485a240"
      },
      "source": [
        "df.head()"
      ],
      "execution_count": 51,
      "outputs": [
        {
          "output_type": "execute_result",
          "data": {
            "text/html": [
              "<div>\n",
              "<style scoped>\n",
              "    .dataframe tbody tr th:only-of-type {\n",
              "        vertical-align: middle;\n",
              "    }\n",
              "\n",
              "    .dataframe tbody tr th {\n",
              "        vertical-align: top;\n",
              "    }\n",
              "\n",
              "    .dataframe thead th {\n",
              "        text-align: right;\n",
              "    }\n",
              "</style>\n",
              "<table border=\"1\" class=\"dataframe\">\n",
              "  <thead>\n",
              "    <tr style=\"text-align: right;\">\n",
              "      <th></th>\n",
              "      <th>Height</th>\n",
              "      <th>Price</th>\n",
              "    </tr>\n",
              "  </thead>\n",
              "  <tbody>\n",
              "    <tr>\n",
              "      <th>0</th>\n",
              "      <td>1.0</td>\n",
              "      <td>550</td>\n",
              "    </tr>\n",
              "    <tr>\n",
              "      <th>1</th>\n",
              "      <td>3.0</td>\n",
              "      <td>566</td>\n",
              "    </tr>\n",
              "    <tr>\n",
              "      <th>2</th>\n",
              "      <td>4.0</td>\n",
              "      <td>558</td>\n",
              "    </tr>\n",
              "    <tr>\n",
              "      <th>3</th>\n",
              "      <td>3.0</td>\n",
              "      <td>784</td>\n",
              "    </tr>\n",
              "    <tr>\n",
              "      <th>4</th>\n",
              "      <td>5.0</td>\n",
              "      <td>333</td>\n",
              "    </tr>\n",
              "  </tbody>\n",
              "</table>\n",
              "</div>"
            ],
            "text/plain": [
              "   Height  Price\n",
              "0     1.0    550\n",
              "1     3.0    566\n",
              "2     4.0    558\n",
              "3     3.0    784\n",
              "4     5.0    333"
            ]
          },
          "metadata": {
            "tags": []
          },
          "execution_count": 51
        }
      ]
    },
    {
      "cell_type": "code",
      "metadata": {
        "collapsed": true,
        "id": "DtcnOhq3Ipa3",
        "colab": {
          "base_uri": "https://localhost:8080/"
        },
        "outputId": "522e8956-a8c1-4f79-cde3-859d06d308c5"
      },
      "source": [
        "unique_heights = df[\"Height\"].unique()\n",
        "counts = df[\"Height\"].value_counts()\n",
        "print(unique_heights)\n",
        "print(counts)\n"
      ],
      "execution_count": 52,
      "outputs": [
        {
          "output_type": "stream",
          "text": [
            "[1.  3.  4.  5.  2.  1.5 2.5]\n",
            "3.0    7\n",
            "1.0    6\n",
            "1.5    5\n",
            "2.0    4\n",
            "2.5    3\n",
            "5.0    1\n",
            "4.0    1\n",
            "Name: Height, dtype: int64\n"
          ],
          "name": "stdout"
        }
      ]
    },
    {
      "cell_type": "code",
      "metadata": {
        "colab": {
          "base_uri": "https://localhost:8080/"
        },
        "id": "tCkwiTu7NsoO",
        "outputId": "42962673-9b8b-47cc-87ef-f77116e959ea"
      },
      "source": [
        "likelihood_c1 = y1\n",
        "likelihood_c2 = y2\n",
        "prob_c1\n",
        "prob_c2"
      ],
      "execution_count": 53,
      "outputs": [
        {
          "output_type": "execute_result",
          "data": {
            "text/plain": [
              "0.14814814814814814"
            ]
          },
          "metadata": {
            "tags": []
          },
          "execution_count": 53
        }
      ]
    },
    {
      "cell_type": "code",
      "metadata": {
        "colab": {
          "base_uri": "https://localhost:8080/"
        },
        "id": "8_0_D8hkRI9M",
        "outputId": "8dd651bd-e8ab-468c-a381-e52d076bb3af"
      },
      "source": [
        "print(likelihood_c1)\n",
        "print(likelihood_c2)\n",
        "print(prob_c1)\n",
        "print(prob_c2)"
      ],
      "execution_count": 54,
      "outputs": [
        {
          "output_type": "stream",
          "text": [
            "[0.26086957 0.04347826 0.17391304 0.2173913  0.2173913  0.08695652]\n",
            "[0.25 0.25 0.25 0.25]\n",
            "0.8518518518518519\n",
            "0.14814814814814814\n"
          ],
          "name": "stdout"
        }
      ]
    },
    {
      "cell_type": "code",
      "metadata": {
        "colab": {
          "base_uri": "https://localhost:8080/"
        },
        "id": "rxgj7ZDTRAfN",
        "outputId": "9bca2cb2-cae2-4c92-dcfe-cfa31f73eb20"
      },
      "source": [
        "print(unique_c1)\n",
        "print(unique_c2)"
      ],
      "execution_count": 55,
      "outputs": [
        {
          "output_type": "stream",
          "text": [
            "dict_keys([3.0, 4.0, 2.0, 1.0, 1.5, 2.5])\n",
            "dict_keys([1.0, 5.0, 3.0, 2.5])\n"
          ],
          "name": "stdout"
        }
      ]
    },
    {
      "cell_type": "code",
      "metadata": {
        "colab": {
          "base_uri": "https://localhost:8080/"
        },
        "id": "754IN_BnOAfG",
        "outputId": "9b95cdb4-430d-45f1-e0bb-3cbe1932a157"
      },
      "source": [
        "posterior_c1 = []\n",
        "i=0\n",
        "for height in unique_c1:\n",
        "  posterior_c1.append((likelihood_c1[i]* prob_c1)/ ( counts[height] /df.shape[0]))\n",
        "  i= i+1\n",
        "\n",
        "# for better understanding\n",
        "dict_posterior_c1 = {}\n",
        "i = 0\n",
        "for height in unique_c1:\n",
        "  dict_posterior_c1[height] = posterior_c1[i]\n",
        "  i +=1\n",
        "\n",
        "dict_posterior_c1"
      ],
      "execution_count": 56,
      "outputs": [
        {
          "output_type": "execute_result",
          "data": {
            "text/plain": [
              "{1.0: 0.8333333333333334,\n",
              " 1.5: 1.0,\n",
              " 2.0: 1.0,\n",
              " 2.5: 0.6666666666666666,\n",
              " 3.0: 0.8571428571428571,\n",
              " 4.0: 1.0}"
            ]
          },
          "metadata": {
            "tags": []
          },
          "execution_count": 56
        }
      ]
    },
    {
      "cell_type": "code",
      "metadata": {
        "colab": {
          "base_uri": "https://localhost:8080/"
        },
        "id": "A-amahytTMFb",
        "outputId": "fc6271e6-392f-4f13-8468-e6aaebd03f15"
      },
      "source": [
        "posterior_c2 = []\n",
        "i=0\n",
        "for height in unique_c2:\n",
        "  posterior_c2.append((likelihood_c2[i]* prob_c2)/ ( counts[height] /df.shape[0]))\n",
        "  i= i+1\n",
        "\n",
        "# for better understanding\n",
        "dict_posterior_c2 = {}\n",
        "i = 0\n",
        "for height in unique_c2:\n",
        "  dict_posterior_c2[height] = posterior_c2[i]\n",
        "  i +=1\n",
        "\n",
        "dict_posterior_c2\n"
      ],
      "execution_count": 57,
      "outputs": [
        {
          "output_type": "execute_result",
          "data": {
            "text/plain": [
              "{1.0: 0.16666666666666666,\n",
              " 2.5: 0.3333333333333333,\n",
              " 3.0: 0.14285714285714285,\n",
              " 5.0: 1.0}"
            ]
          },
          "metadata": {
            "tags": []
          },
          "execution_count": 57
        }
      ]
    },
    {
      "cell_type": "markdown",
      "metadata": {
        "id": "9tNzBLq8PtDF"
      },
      "source": [
        "Plot P(C1|x) and P(C2|x)"
      ]
    },
    {
      "cell_type": "code",
      "metadata": {
        "id": "V4buNIKIIsjD",
        "colab": {
          "base_uri": "https://localhost:8080/",
          "height": 502
        },
        "outputId": "a1ec8621-d35a-4ae4-d3b6-1395cf27b089"
      },
      "source": [
        "sns.pointplot(list(unique_c1), posterior_c1, linestyles=\"--\",markers =['x'] )\n",
        "sns.pointplot(list(unique_c2), posterior_c2,linestyles='-',markers=['o'])\n",
        "plt.xlabel(\"x\")\n",
        "plt.ylabel(\"P(c|x)\")\n",
        "plt.legend(labels = ['C1','C2'])\n",
        "plt.show()"
      ],
      "execution_count": 58,
      "outputs": [
        {
          "output_type": "display_data",
          "data": {
            "image/png": "[encoded data removed]",
            "text/plain": [
              "<Figure size 576x576 with 1 Axes>"
            ]
          },
          "metadata": {
            "tags": []
          }
        }
      ]
    },
    {
      "cell_type": "markdown",
      "metadata": {
        "id": "PHufzKbiCF7Q"
      },
      "source": [
        "# Dataset 2"
      ]
    },
    {
      "cell_type": "markdown",
      "metadata": {
        "id": "wjmO4tOgJHxF"
      },
      "source": [
        "Read dataset. c1 contains two features of class 1 and c2 contains the two features for class 2. "
      ]
    },
    {
      "cell_type": "code",
      "metadata": {
        "id": "LFNPgrUtjI3l"
      },
      "source": [
        "df_c1 = pd.read_csv('/content/c1.csv')\n",
        "df_c2 = pd.read_csv('/content/c2.csv')\n",
        "class1_train = df_c1.to_numpy()\n",
        "class2_train = df_c2.to_numpy()"
      ],
      "execution_count": 59,
      "outputs": []
    },
    {
      "cell_type": "code",
      "metadata": {
        "colab": {
          "base_uri": "https://localhost:8080/"
        },
        "id": "0Dth6xwIE6Ah",
        "outputId": "8f7ce272-dcc8-43e7-dba3-ea1d7113c855"
      },
      "source": [
        "df_c1.shape"
      ],
      "execution_count": 60,
      "outputs": [
        {
          "output_type": "execute_result",
          "data": {
            "text/plain": [
              "(160, 2)"
            ]
          },
          "metadata": {
            "tags": []
          },
          "execution_count": 60
        }
      ]
    },
    {
      "cell_type": "code",
      "metadata": {
        "colab": {
          "base_uri": "https://localhost:8080/",
          "height": 191
        },
        "id": "CmA--YmyE_sF",
        "outputId": "dde8f4fe-da14-4aef-82b0-1fcfd8341486"
      },
      "source": [
        "df_c1.head()"
      ],
      "execution_count": 61,
      "outputs": [
        {
          "output_type": "execute_result",
          "data": {
            "text/html": [
              "<div>\n",
              "<style scoped>\n",
              "    .dataframe tbody tr th:only-of-type {\n",
              "        vertical-align: middle;\n",
              "    }\n",
              "\n",
              "    .dataframe tbody tr th {\n",
              "        vertical-align: top;\n",
              "    }\n",
              "\n",
              "    .dataframe thead th {\n",
              "        text-align: right;\n",
              "    }\n",
              "</style>\n",
              "<table border=\"1\" class=\"dataframe\">\n",
              "  <thead>\n",
              "    <tr style=\"text-align: right;\">\n",
              "      <th></th>\n",
              "      <th>x1</th>\n",
              "      <th>x2</th>\n",
              "    </tr>\n",
              "  </thead>\n",
              "  <tbody>\n",
              "    <tr>\n",
              "      <th>0</th>\n",
              "      <td>0.320478</td>\n",
              "      <td>0.481092</td>\n",
              "    </tr>\n",
              "    <tr>\n",
              "      <th>1</th>\n",
              "      <td>0.050691</td>\n",
              "      <td>0.096400</td>\n",
              "    </tr>\n",
              "    <tr>\n",
              "      <th>2</th>\n",
              "      <td>3.748470</td>\n",
              "      <td>0.403931</td>\n",
              "    </tr>\n",
              "    <tr>\n",
              "      <th>3</th>\n",
              "      <td>2.256374</td>\n",
              "      <td>2.089962</td>\n",
              "    </tr>\n",
              "    <tr>\n",
              "      <th>4</th>\n",
              "      <td>1.421454</td>\n",
              "      <td>1.243629</td>\n",
              "    </tr>\n",
              "  </tbody>\n",
              "</table>\n",
              "</div>"
            ],
            "text/plain": [
              "         x1        x2\n",
              "0  0.320478  0.481092\n",
              "1  0.050691  0.096400\n",
              "2  3.748470  0.403931\n",
              "3  2.256374  2.089962\n",
              "4  1.421454  1.243629"
            ]
          },
          "metadata": {
            "tags": []
          },
          "execution_count": 61
        }
      ]
    },
    {
      "cell_type": "code",
      "metadata": {
        "colab": {
          "base_uri": "https://localhost:8080/"
        },
        "id": "0JWzoMPyE8KO",
        "outputId": "2575ff0e-5649-4cda-933e-bf3b1ffa1e2d"
      },
      "source": [
        "df_c2.shape"
      ],
      "execution_count": 62,
      "outputs": [
        {
          "output_type": "execute_result",
          "data": {
            "text/plain": [
              "(39, 2)"
            ]
          },
          "metadata": {
            "tags": []
          },
          "execution_count": 62
        }
      ]
    },
    {
      "cell_type": "code",
      "metadata": {
        "colab": {
          "base_uri": "https://localhost:8080/",
          "height": 191
        },
        "id": "nvrDwUpkFCoF",
        "outputId": "152a3fbf-d5dc-4b7d-e87e-73e01e6cd316"
      },
      "source": [
        "df_c2.head()"
      ],
      "execution_count": 63,
      "outputs": [
        {
          "output_type": "execute_result",
          "data": {
            "text/html": [
              "<div>\n",
              "<style scoped>\n",
              "    .dataframe tbody tr th:only-of-type {\n",
              "        vertical-align: middle;\n",
              "    }\n",
              "\n",
              "    .dataframe tbody tr th {\n",
              "        vertical-align: top;\n",
              "    }\n",
              "\n",
              "    .dataframe thead th {\n",
              "        text-align: right;\n",
              "    }\n",
              "</style>\n",
              "<table border=\"1\" class=\"dataframe\">\n",
              "  <thead>\n",
              "    <tr style=\"text-align: right;\">\n",
              "      <th></th>\n",
              "      <th>x1</th>\n",
              "      <th>x2</th>\n",
              "    </tr>\n",
              "  </thead>\n",
              "  <tbody>\n",
              "    <tr>\n",
              "      <th>0</th>\n",
              "      <td>-0.779019</td>\n",
              "      <td>1.163869</td>\n",
              "    </tr>\n",
              "    <tr>\n",
              "      <th>1</th>\n",
              "      <td>-1.345146</td>\n",
              "      <td>-2.323707</td>\n",
              "    </tr>\n",
              "    <tr>\n",
              "      <th>2</th>\n",
              "      <td>-0.528361</td>\n",
              "      <td>-1.594005</td>\n",
              "    </tr>\n",
              "    <tr>\n",
              "      <th>3</th>\n",
              "      <td>-0.904174</td>\n",
              "      <td>-1.306116</td>\n",
              "    </tr>\n",
              "    <tr>\n",
              "      <th>4</th>\n",
              "      <td>-1.019487</td>\n",
              "      <td>-1.336907</td>\n",
              "    </tr>\n",
              "  </tbody>\n",
              "</table>\n",
              "</div>"
            ],
            "text/plain": [
              "         x1        x2\n",
              "0 -0.779019  1.163869\n",
              "1 -1.345146 -2.323707\n",
              "2 -0.528361 -1.594005\n",
              "3 -0.904174 -1.306116\n",
              "4 -1.019487 -1.336907"
            ]
          },
          "metadata": {
            "tags": []
          },
          "execution_count": 63
        }
      ]
    },
    {
      "cell_type": "markdown",
      "metadata": {
        "id": "mBk8Z1cUJQ4m"
      },
      "source": [
        "Print the data"
      ]
    },
    {
      "cell_type": "markdown",
      "metadata": {
        "id": "LxzezuKoW237"
      },
      "source": [
        "# Create the labels from the given data."
      ]
    },
    {
      "cell_type": "code",
      "metadata": {
        "colab": {
          "base_uri": "https://localhost:8080/"
        },
        "id": "nyc-0P38jr17",
        "outputId": "126b7720-1714-4956-87bc-8c6cb1b199ba"
      },
      "source": [
        "# class1_train gives the features corresponding to class1\n",
        "# class2_train gices the features corresponding to class2\n",
        "print(class1_train.shape)\n",
        "print(class1_train)\n",
        "print(type(class2_train))\n",
        "print(class2_train.shape)\n",
        "print(type(class1_train))\n",
        "print(class2_train)"
      ],
      "execution_count": 64,
      "outputs": [
        {
          "output_type": "stream",
          "text": [
            "(160, 2)\n",
            "[[ 3.20478053e-01  4.81092097e-01]\n",
            " [ 5.06909985e-02  9.63995041e-02]\n",
            " [ 3.74846984e+00  4.03931041e-01]\n",
            " [ 2.25637447e+00  2.08996208e+00]\n",
            " [ 1.42145382e+00  1.24362901e+00]\n",
            " [ 4.08062705e-01  9.24810050e-01]\n",
            " [ 1.60681941e+00  4.75268430e-01]\n",
            " [ 1.57397678e+00  1.60394699e+00]\n",
            " [ 1.73121450e+00  2.43452464e+00]\n",
            " [ 9.30696141e-01  2.12345759e-01]\n",
            " [ 1.43750641e+00 -2.84913595e-01]\n",
            " [-4.91480512e-01  2.70506180e-01]\n",
            " [ 2.35052206e+00  2.34923853e+00]\n",
            " [ 1.06032568e+00  2.25909849e-01]\n",
            " [ 2.23321779e+00  1.18800751e+00]\n",
            " [-3.36602971e-01  8.26100949e-01]\n",
            " [ 1.21051794e+00  3.59324046e-01]\n",
            " [ 1.95878231e+00  2.81435856e+00]\n",
            " [ 5.35856323e-01 -1.54336636e-01]\n",
            " [ 2.89423945e+00  1.71311383e+00]\n",
            " [ 1.38569352e+00  1.74692600e+00]\n",
            " [ 1.27854113e+00 -3.70841388e-01]\n",
            " [-9.07354159e-02  2.42044784e+00]\n",
            " [ 9.07143282e-01  5.69730755e-01]\n",
            " [ 2.28848082e+00  1.68559588e+00]\n",
            " [-1.53479431e-01 -3.95808482e-01]\n",
            " [ 2.40208659e+00  4.41623125e-01]\n",
            " [ 1.21455553e+00  1.51675544e+00]\n",
            " [ 3.15059021e+00  2.15931522e+00]\n",
            " [ 1.61705139e-01  2.27584873e-01]\n",
            " [ 3.76563297e-01  2.39668017e+00]\n",
            " [-7.80093524e-02  1.29550862e+00]\n",
            " [ 7.93102203e-01  7.18138670e-01]\n",
            " [ 6.38655629e-01  1.71512068e+00]\n",
            " [ 1.17419310e+00  1.21156020e+00]\n",
            " [ 7.82910083e-01  1.83746859e+00]\n",
            " [ 1.56704382e+00  2.32571221e+00]\n",
            " [ 1.34640435e+00  1.53574863e+00]\n",
            " [ 1.48100091e+00  1.97369049e+00]\n",
            " [ 1.32115969e-01  3.72019145e+00]\n",
            " [ 6.47153893e-01  1.90929459e+00]\n",
            " [ 8.34537190e-01  4.36696082e-01]\n",
            " [ 1.79097819e+00  4.97727218e-01]\n",
            " [ 1.65613457e-01  4.48146568e-01]\n",
            " [ 1.77382987e+00  3.59584258e-01]\n",
            " [ 2.81055454e-01  1.86934895e+00]\n",
            " [-5.41514032e-01 -1.78206678e+00]\n",
            " [-3.17104082e-03  5.82448438e-01]\n",
            " [ 2.65977524e-01  7.45623206e-01]\n",
            " [ 1.67998755e+00  1.47524432e+00]\n",
            " [-7.69278364e-02  5.51096714e-01]\n",
            " [ 5.31289201e-01  1.23125697e+00]\n",
            " [-1.35464199e+00  2.31165217e+00]\n",
            " [ 1.86463296e+00  1.04276634e+00]\n",
            " [ 1.37080655e-01  9.59573148e-01]\n",
            " [ 6.72782686e-01  1.33101489e+00]\n",
            " [ 2.71373259e-01  2.09255502e+00]\n",
            " [ 4.90872899e-01  1.42871276e+00]\n",
            " [ 8.44245750e-01  1.45908004e+00]\n",
            " [-1.41755824e-01  1.60526601e+00]\n",
            " [-5.43108759e-01  2.55483216e+00]\n",
            " [ 1.86662852e+00 -4.95533153e-01]\n",
            " [ 1.62968289e+00 -2.07118592e-01]\n",
            " [-9.41519515e-02  1.63625097e+00]\n",
            " [-2.79426133e-01  1.41589476e+00]\n",
            " [-6.83401357e-01  9.43997185e-01]\n",
            " [ 2.84099543e+00  1.68822895e+00]\n",
            " [ 2.49599528e-01  1.30062987e+00]\n",
            " [ 7.00035666e-01 -2.71102265e-01]\n",
            " [-4.03926837e-01  2.10141031e+00]\n",
            " [ 1.06378846e-02  1.07368558e+00]\n",
            " [ 8.79023000e-01 -5.53299817e-01]\n",
            " [ 7.96222695e-01  2.03630162e+00]\n",
            " [ 1.63923033e+00  5.28634691e-01]\n",
            " [ 3.47535578e-01  2.31594124e+00]\n",
            " [ 1.09034673e+00  5.81402834e-01]\n",
            " [ 1.59950909e+00  1.57251835e+00]\n",
            " [ 1.71809918e+00  1.69350589e+00]\n",
            " [-3.26992419e-01  1.26337157e+00]\n",
            " [ 1.45715845e+00 -5.77884572e-01]\n",
            " [ 2.29163646e+00 -1.67802437e+00]\n",
            " [ 1.53354517e+00  1.41717632e+00]\n",
            " [ 1.25734675e+00  2.27775563e+00]\n",
            " [-3.97442350e-01  4.97510207e-01]\n",
            " [ 1.85502902e+00  1.63659070e+00]\n",
            " [ 1.66070698e+00  4.62049120e-01]\n",
            " [ 1.83500805e+00  4.78981246e-01]\n",
            " [-4.48501805e-01  6.91542368e-01]\n",
            " [ 1.33206620e+00  2.51223858e-01]\n",
            " [ 5.34460573e-01  1.36866125e+00]\n",
            " [ 3.08028369e+00  2.13323258e+00]\n",
            " [ 2.56037183e+00  1.20455583e+00]\n",
            " [-8.12853105e-01  6.72161126e-01]\n",
            " [ 6.08373202e-01  1.45279870e-01]\n",
            " [ 1.64903113e+00  1.84257012e+00]\n",
            " [ 7.64268036e-01  1.19328978e-01]\n",
            " [-1.54616074e+00  1.54949478e+00]\n",
            " [ 1.12912699e-01  5.20482737e-01]\n",
            " [ 6.26671034e-01  2.19932279e+00]\n",
            " [ 4.37228150e-01  1.51231575e+00]\n",
            " [ 6.20802826e-01 -3.75429035e-02]\n",
            " [-2.32788588e-01  1.16106876e+00]\n",
            " [ 5.47319033e-01  1.32959599e+00]\n",
            " [-5.08058110e-01  5.65862993e-01]\n",
            " [-1.12255957e-01  1.66569447e+00]\n",
            " [ 1.10432791e+00  1.45039760e-01]\n",
            " [ 4.76066716e-01  4.74144853e-01]\n",
            " [ 1.50196813e+00  1.84635107e+00]\n",
            " [ 2.23265492e+00  1.75318958e+00]\n",
            " [ 2.29377019e+00  1.30509813e+00]\n",
            " [ 9.07942796e-01  7.00611759e-01]\n",
            " [ 1.13254903e+00  1.02626596e+00]\n",
            " [ 8.54065000e-01  1.38844087e+00]\n",
            " [ 6.53905976e-01  2.38008826e-01]\n",
            " [ 1.71254571e+00  1.23857520e+00]\n",
            " [ 1.50098858e+00  1.38288967e+00]\n",
            " [ 4.78423464e-01  8.05416806e-01]\n",
            " [ 3.17753682e-01  1.13624769e+00]\n",
            " [ 1.50595214e+00  2.16815705e+00]\n",
            " [ 1.02321995e+00  4.24118866e-01]\n",
            " [ 8.91047866e-01  3.42817869e-01]\n",
            " [ 1.19797585e+00  1.46254751e+00]\n",
            " [ 1.29278402e+00  1.79121697e+00]\n",
            " [ 7.57546960e-01  5.19767193e-01]\n",
            " [ 1.21450536e+00  4.66844731e-01]\n",
            " [ 2.89530342e+00  3.02859786e+00]\n",
            " [ 1.88832348e-01  1.57914801e+00]\n",
            " [ 1.95222684e+00  2.00068827e+00]\n",
            " [ 3.16808561e-01 -4.96124630e-01]\n",
            " [ 8.98482736e-01  2.01440669e+00]\n",
            " [ 2.69468703e+00  2.18881682e-01]\n",
            " [ 1.94441669e-01  3.99373790e-01]\n",
            " [-1.64156190e-01  1.05062882e+00]\n",
            " [ 1.47536889e+00  6.46124625e-01]\n",
            " [ 1.07130560e-01  5.99864878e-01]\n",
            " [ 9.50165257e-01  2.29633934e+00]\n",
            " [ 3.69413795e-01  1.78269675e+00]\n",
            " [ 3.65390197e-01  1.71821839e+00]\n",
            " [ 1.83836715e+00 -1.54973354e-01]\n",
            " [-2.14790517e-01  8.24905710e-01]\n",
            " [ 1.85458954e+00  1.56737735e-01]\n",
            " [ 8.35193143e-01 -1.27234055e-01]\n",
            " [ 2.22949907e+00  7.09936040e-01]\n",
            " [ 1.21839345e+00  3.42619229e-01]\n",
            " [ 1.58295425e+00 -2.06538409e-01]\n",
            " [ 1.02094589e+00 -8.53956382e-02]\n",
            " [ 2.49658753e+00  2.34057083e+00]\n",
            " [ 6.11183752e-01  9.48687274e-01]\n",
            " [ 1.14635245e+00  5.81664167e-01]\n",
            " [ 2.13218993e+00  1.00272506e+00]\n",
            " [ 5.11547343e-01  7.53061210e-01]\n",
            " [ 1.41787065e-01  9.70052104e-01]\n",
            " [ 1.76369632e+00 -1.45803711e+00]\n",
            " [-1.15921000e+00  6.25002729e-01]\n",
            " [ 3.92831716e-01  5.79477737e-01]\n",
            " [ 3.83431563e+00  2.57879379e+00]\n",
            " [ 1.69017776e+00  2.13917001e-01]\n",
            " [ 6.10302214e-01  7.98047113e-01]\n",
            " [ 1.64545215e+00  9.80061156e-01]\n",
            " [ 2.18614787e+00  1.65524566e+00]]\n",
            "<class 'numpy.ndarray'>\n",
            "(39, 2)\n",
            "<class 'numpy.ndarray'>\n",
            "[[-0.7790189   1.16386885]\n",
            " [-1.34514566 -2.32370674]\n",
            " [-0.52836145 -1.59400495]\n",
            " [-0.90417352 -1.30611604]\n",
            " [-1.01948659 -1.33690662]\n",
            " [ 0.4017355  -0.1928143 ]\n",
            " [ 0.17997268 -0.36784276]\n",
            " [-1.75219243  0.23416112]\n",
            " [-1.33590287 -0.64121032]\n",
            " [-1.84374181 -1.15351502]\n",
            " [ 0.23512604 -0.4820237 ]\n",
            " [-0.83293518 -1.15616973]\n",
            " [-2.40313726 -0.81073131]\n",
            " [-0.20163836  0.1471181 ]\n",
            " [-1.42599684 -2.38405297]\n",
            " [-1.0061799  -0.35767457]\n",
            " [-0.09423858 -1.45204129]\n",
            " [-0.28991801 -1.0782606 ]\n",
            " [-2.44713737 -1.15621129]\n",
            " [ 0.59801799 -0.32144022]\n",
            " [-1.0064447  -1.030278  ]\n",
            " [-0.82970779 -0.05044485]\n",
            " [-0.76248959 -0.84384686]\n",
            " [-3.32471301 -1.06813795]\n",
            " [-1.48557176 -1.87571896]\n",
            " [-0.99962918  0.58229286]\n",
            " [ 0.8557429   0.56950641]\n",
            " [-2.72520704 -2.81035423]\n",
            " [-3.70248416 -1.81223506]\n",
            " [-0.63945063 -0.40306483]\n",
            " [-1.01456455 -1.98684012]\n",
            " [-0.80974435 -1.12047576]\n",
            " [-2.18284159  0.04264866]\n",
            " [-3.11712168 -2.84635664]\n",
            " [-0.20157447 -1.0574348 ]\n",
            " [-1.12415544 -0.48861234]\n",
            " [ 0.60064777 -0.38262217]\n",
            " [ 0.16293271  0.20020738]\n",
            " [-0.86757022 -2.73055969]]\n"
          ],
          "name": "stdout"
        }
      ]
    },
    {
      "cell_type": "markdown",
      "metadata": {
        "id": "R-wrTyMums4P"
      },
      "source": [
        "# Plotting the distribution of samples."
      ]
    },
    {
      "cell_type": "code",
      "metadata": {
        "colab": {
          "base_uri": "https://localhost:8080/",
          "height": 502
        },
        "id": "NcpXarchmsbk",
        "outputId": "8755fac5-0bf8-4a3b-e738-8b952e70399a"
      },
      "source": [
        "import seaborn as sns\n",
        "sns.scatterplot(class1_train[:,0],class1_train[:,1],marker='.')\n",
        "sns.scatterplot(class2_train[:,0],class2_train[:,1],marker='x')\n",
        "plt.xlabel(\"x1\")\n",
        "plt.ylabel('x2')\n",
        "plt.legend(['c1','c2'])\n",
        "plt.show()\n"
      ],
      "execution_count": 65,
      "outputs": [
        {
          "output_type": "display_data",
          "data": {
            "image/png": "[encoded data removed]",
            "text/plain": [
              "<Figure size 576x576 with 1 Axes>"
            ]
          },
          "metadata": {
            "tags": []
          }
        }
      ]
    },
    {
      "cell_type": "markdown",
      "metadata": {
        "id": "gIoL--pDl4CC"
      },
      "source": [
        "# Determine Prior Probabilities"
      ]
    },
    {
      "cell_type": "code",
      "metadata": {
        "id": "7hLlZv9Ejv-r"
      },
      "source": [
        "no_of_samples = len(class1_train)+len(class2_train)"
      ],
      "execution_count": 66,
      "outputs": []
    },
    {
      "cell_type": "code",
      "metadata": {
        "colab": {
          "base_uri": "https://localhost:8080/"
        },
        "id": "6Qt2AcJgmGNl",
        "outputId": "1ee39c99-8fda-4cfb-e616-cc3048240721"
      },
      "source": [
        "prob_c1 = len(class1_train)/no_of_samples\n",
        "prob_c1"
      ],
      "execution_count": 67,
      "outputs": [
        {
          "output_type": "execute_result",
          "data": {
            "text/plain": [
              "0.8040201005025126"
            ]
          },
          "metadata": {
            "tags": []
          },
          "execution_count": 67
        }
      ]
    },
    {
      "cell_type": "code",
      "metadata": {
        "colab": {
          "base_uri": "https://localhost:8080/"
        },
        "id": "MPtKL9a1mHfj",
        "outputId": "9fed658f-ee76-4ae7-dd5f-a231268bbba6"
      },
      "source": [
        "prob_c2 = len(class2_train)/no_of_samples\n",
        "prob_c2"
      ],
      "execution_count": 68,
      "outputs": [
        {
          "output_type": "execute_result",
          "data": {
            "text/plain": [
              "0.19597989949748743"
            ]
          },
          "metadata": {
            "tags": []
          },
          "execution_count": 68
        }
      ]
    },
    {
      "cell_type": "markdown",
      "metadata": {
        "id": "rWiy1D4pajQk"
      },
      "source": [
        "Plotting the prior"
      ]
    },
    {
      "cell_type": "code",
      "metadata": {
        "colab": {
          "base_uri": "https://localhost:8080/",
          "height": 594
        },
        "id": "27dp41Fbai0D",
        "outputId": "06665730-813d-4574-f79e-76d3b81dc7be"
      },
      "source": [
        "#Requires proper labelling\n",
        "f = plt.figure()\n",
        "f.set_figwidth(10)\n",
        "f.set_figheight(10)\n",
        "sns.distplot(class1_train,label='C1')\n",
        "sns.distplot(class2_train)\n",
        "plt.show()"
      ],
      "execution_count": 69,
      "outputs": [
        {
          "output_type": "display_data",
          "data": {
            "image/png": "[encoded data removed]",
            "text/plain": [
              "<Figure size 720x720 with 1 Axes>"
            ]
          },
          "metadata": {
            "tags": []
          }
        }
      ]
    },
    {
      "cell_type": "markdown",
      "metadata": {
        "id": "e1o8kAn0Jer9"
      },
      "source": [
        "# Plot the data distribution and the histogram of feature 1 and feature 2 in the x axis and the y -axis respectively. The distribution of feature 1 wil be along the top of the x-axis and feature 2 along the right of the y axis."
      ]
    },
    {
      "cell_type": "code",
      "metadata": {
        "colab": {
          "base_uri": "https://localhost:8080/",
          "height": 202
        },
        "id": "ZK-7mb04sFLY",
        "outputId": "60e76c1d-1b28-4124-fe74-f9aae859180b"
      },
      "source": [
        "df_c1_class = df_c1\n",
        "df_c1_class[\"class\"]= 'c1'\n",
        "df_c2_class = df_c2\n",
        "df_c2_class[\"class\"]= 'c2'\n",
        "df_c2_class.head()"
      ],
      "execution_count": 70,
      "outputs": [
        {
          "output_type": "execute_result",
          "data": {
            "text/html": [
              "<div>\n",
              "<style scoped>\n",
              "    .dataframe tbody tr th:only-of-type {\n",
              "        vertical-align: middle;\n",
              "    }\n",
              "\n",
              "    .dataframe tbody tr th {\n",
              "        vertical-align: top;\n",
              "    }\n",
              "\n",
              "    .dataframe thead th {\n",
              "        text-align: right;\n",
              "    }\n",
              "</style>\n",
              "<table border=\"1\" class=\"dataframe\">\n",
              "  <thead>\n",
              "    <tr style=\"text-align: right;\">\n",
              "      <th></th>\n",
              "      <th>x1</th>\n",
              "      <th>x2</th>\n",
              "      <th>class</th>\n",
              "    </tr>\n",
              "  </thead>\n",
              "  <tbody>\n",
              "    <tr>\n",
              "      <th>0</th>\n",
              "      <td>-0.779019</td>\n",
              "      <td>1.163869</td>\n",
              "      <td>c2</td>\n",
              "    </tr>\n",
              "    <tr>\n",
              "      <th>1</th>\n",
              "      <td>-1.345146</td>\n",
              "      <td>-2.323707</td>\n",
              "      <td>c2</td>\n",
              "    </tr>\n",
              "    <tr>\n",
              "      <th>2</th>\n",
              "      <td>-0.528361</td>\n",
              "      <td>-1.594005</td>\n",
              "      <td>c2</td>\n",
              "    </tr>\n",
              "    <tr>\n",
              "      <th>3</th>\n",
              "      <td>-0.904174</td>\n",
              "      <td>-1.306116</td>\n",
              "      <td>c2</td>\n",
              "    </tr>\n",
              "    <tr>\n",
              "      <th>4</th>\n",
              "      <td>-1.019487</td>\n",
              "      <td>-1.336907</td>\n",
              "      <td>c2</td>\n",
              "    </tr>\n",
              "  </tbody>\n",
              "</table>\n",
              "</div>"
            ],
            "text/plain": [
              "         x1        x2 class\n",
              "0 -0.779019  1.163869    c2\n",
              "1 -1.345146 -2.323707    c2\n",
              "2 -0.528361 -1.594005    c2\n",
              "3 -0.904174 -1.306116    c2\n",
              "4 -1.019487 -1.336907    c2"
            ]
          },
          "metadata": {
            "tags": []
          },
          "execution_count": 70
        }
      ]
    },
    {
      "cell_type": "code",
      "metadata": {
        "collapsed": true,
        "id": "ZOPTrRqRsacG"
      },
      "source": [
        "# concatenating dataframes for each class\n",
        "frames = [df_c1_class, df_c2_class]\n",
        "result = pd.concat(frames)"
      ],
      "execution_count": 71,
      "outputs": []
    },
    {
      "cell_type": "code",
      "metadata": {
        "colab": {
          "base_uri": "https://localhost:8080/",
          "height": 202
        },
        "id": "eEMnoOvzquyN",
        "outputId": "722d10d3-3d93-4cbe-f963-5b634ac80048"
      },
      "source": [
        "result.head()"
      ],
      "execution_count": 72,
      "outputs": [
        {
          "output_type": "execute_result",
          "data": {
            "text/html": [
              "<div>\n",
              "<style scoped>\n",
              "    .dataframe tbody tr th:only-of-type {\n",
              "        vertical-align: middle;\n",
              "    }\n",
              "\n",
              "    .dataframe tbody tr th {\n",
              "        vertical-align: top;\n",
              "    }\n",
              "\n",
              "    .dataframe thead th {\n",
              "        text-align: right;\n",
              "    }\n",
              "</style>\n",
              "<table border=\"1\" class=\"dataframe\">\n",
              "  <thead>\n",
              "    <tr style=\"text-align: right;\">\n",
              "      <th></th>\n",
              "      <th>x1</th>\n",
              "      <th>x2</th>\n",
              "      <th>class</th>\n",
              "    </tr>\n",
              "  </thead>\n",
              "  <tbody>\n",
              "    <tr>\n",
              "      <th>0</th>\n",
              "      <td>0.320478</td>\n",
              "      <td>0.481092</td>\n",
              "      <td>c1</td>\n",
              "    </tr>\n",
              "    <tr>\n",
              "      <th>1</th>\n",
              "      <td>0.050691</td>\n",
              "      <td>0.096400</td>\n",
              "      <td>c1</td>\n",
              "    </tr>\n",
              "    <tr>\n",
              "      <th>2</th>\n",
              "      <td>3.748470</td>\n",
              "      <td>0.403931</td>\n",
              "      <td>c1</td>\n",
              "    </tr>\n",
              "    <tr>\n",
              "      <th>3</th>\n",
              "      <td>2.256374</td>\n",
              "      <td>2.089962</td>\n",
              "      <td>c1</td>\n",
              "    </tr>\n",
              "    <tr>\n",
              "      <th>4</th>\n",
              "      <td>1.421454</td>\n",
              "      <td>1.243629</td>\n",
              "      <td>c1</td>\n",
              "    </tr>\n",
              "  </tbody>\n",
              "</table>\n",
              "</div>"
            ],
            "text/plain": [
              "         x1        x2 class\n",
              "0  0.320478  0.481092    c1\n",
              "1  0.050691  0.096400    c1\n",
              "2  3.748470  0.403931    c1\n",
              "3  2.256374  2.089962    c1\n",
              "4  1.421454  1.243629    c1"
            ]
          },
          "metadata": {
            "tags": []
          },
          "execution_count": 72
        }
      ]
    },
    {
      "cell_type": "code",
      "metadata": {
        "colab": {
          "base_uri": "https://localhost:8080/",
          "height": 725
        },
        "id": "tV-ZAd1tq3Yq",
        "outputId": "a04a5d68-abe4-4a11-9b76-e2ccc6df3233"
      },
      "source": [
        "s = sns.JointGrid(data= result, x=\"x1\", y=\"x2\",  height=10, hue=\"class\")\n",
        "g = s.plot(sns.scatterplot, sns.histplot)"
      ],
      "execution_count": 73,
      "outputs": [
        {
          "output_type": "display_data",
          "data": {
            "image/png": "[encoded data removed]",
            "text/plain": [
              "<Figure size 720x720 with 3 Axes>"
            ]
          },
          "metadata": {
            "tags": []
          }
        }
      ]
    },
    {
      "cell_type": "markdown",
      "metadata": {
        "id": "L5Ac6doH6sui"
      },
      "source": [
        "# Plot count of unique element for each class"
      ]
    },
    {
      "cell_type": "code",
      "metadata": {
        "colab": {
          "base_uri": "https://localhost:8080/"
        },
        "id": "lAn7Q_zEt263",
        "outputId": "2b852def-6b9a-41b8-ea2e-85276ed716ac"
      },
      "source": [
        "df_c1_class.shape"
      ],
      "execution_count": 74,
      "outputs": [
        {
          "output_type": "execute_result",
          "data": {
            "text/plain": [
              "(160, 3)"
            ]
          },
          "metadata": {
            "tags": []
          },
          "execution_count": 74
        }
      ]
    },
    {
      "cell_type": "code",
      "metadata": {
        "colab": {
          "base_uri": "https://localhost:8080/"
        },
        "id": "OlpWf980uB7B",
        "outputId": "7f5d749a-b1b1-4ac4-8c8d-3e04956c6435"
      },
      "source": [
        "df_c2_class.shape"
      ],
      "execution_count": 75,
      "outputs": [
        {
          "output_type": "execute_result",
          "data": {
            "text/plain": [
              "(39, 3)"
            ]
          },
          "metadata": {
            "tags": []
          },
          "execution_count": 75
        }
      ]
    },
    {
      "cell_type": "code",
      "metadata": {
        "id": "IEiKOaSq0hui"
      },
      "source": [
        "result['class'].iloc[:159]= 1\n",
        "result['class'].iloc[160:]= 2\n"
      ],
      "execution_count": 76,
      "outputs": []
    },
    {
      "cell_type": "code",
      "metadata": {
        "id": "xdhRI34d00SP"
      },
      "source": [
        "bin_x1 = pd.cut(result[\"x1\"],right=False,bins=8,labels=[1,2,3,4,5,6,7,8])\n",
        "bin_x2 = pd.cut(result[\"x2\"],right=False,bins=8,labels=[1,2,3,4,5,6,7,8])\n",
        "result[\"x1_bins\"]= bin_x1\n",
        "result[\"x2_bins\"] = bin_x2"
      ],
      "execution_count": 77,
      "outputs": []
    },
    {
      "cell_type": "code",
      "metadata": {
        "colab": {
          "base_uri": "https://localhost:8080/",
          "height": 202
        },
        "id": "kw8wtAhU4oo0",
        "outputId": "90c934c4-3833-4241-d07e-22d3a8f4e709"
      },
      "source": [
        "result.head()"
      ],
      "execution_count": 78,
      "outputs": [
        {
          "output_type": "execute_result",
          "data": {
            "text/html": [
              "<div>\n",
              "<style scoped>\n",
              "    .dataframe tbody tr th:only-of-type {\n",
              "        vertical-align: middle;\n",
              "    }\n",
              "\n",
              "    .dataframe tbody tr th {\n",
              "        vertical-align: top;\n",
              "    }\n",
              "\n",
              "    .dataframe thead th {\n",
              "        text-align: right;\n",
              "    }\n",
              "</style>\n",
              "<table border=\"1\" class=\"dataframe\">\n",
              "  <thead>\n",
              "    <tr style=\"text-align: right;\">\n",
              "      <th></th>\n",
              "      <th>x1</th>\n",
              "      <th>x2</th>\n",
              "      <th>class</th>\n",
              "      <th>x1_bins</th>\n",
              "      <th>x2_bins</th>\n",
              "    </tr>\n",
              "  </thead>\n",
              "  <tbody>\n",
              "    <tr>\n",
              "      <th>0</th>\n",
              "      <td>0.320478</td>\n",
              "      <td>0.481092</td>\n",
              "      <td>1</td>\n",
              "      <td>5</td>\n",
              "      <td>5</td>\n",
              "    </tr>\n",
              "    <tr>\n",
              "      <th>1</th>\n",
              "      <td>0.050691</td>\n",
              "      <td>0.096400</td>\n",
              "      <td>1</td>\n",
              "      <td>4</td>\n",
              "      <td>4</td>\n",
              "    </tr>\n",
              "    <tr>\n",
              "      <th>2</th>\n",
              "      <td>3.748470</td>\n",
              "      <td>0.403931</td>\n",
              "      <td>1</td>\n",
              "      <td>8</td>\n",
              "      <td>4</td>\n",
              "    </tr>\n",
              "    <tr>\n",
              "      <th>3</th>\n",
              "      <td>2.256374</td>\n",
              "      <td>2.089962</td>\n",
              "      <td>1</td>\n",
              "      <td>7</td>\n",
              "      <td>7</td>\n",
              "    </tr>\n",
              "    <tr>\n",
              "      <th>4</th>\n",
              "      <td>1.421454</td>\n",
              "      <td>1.243629</td>\n",
              "      <td>1</td>\n",
              "      <td>6</td>\n",
              "      <td>5</td>\n",
              "    </tr>\n",
              "  </tbody>\n",
              "</table>\n",
              "</div>"
            ],
            "text/plain": [
              "         x1        x2 class x1_bins x2_bins\n",
              "0  0.320478  0.481092     1       5       5\n",
              "1  0.050691  0.096400     1       4       4\n",
              "2  3.748470  0.403931     1       8       4\n",
              "3  2.256374  2.089962     1       7       7\n",
              "4  1.421454  1.243629     1       6       5"
            ]
          },
          "metadata": {
            "tags": []
          },
          "execution_count": 78
        }
      ]
    },
    {
      "cell_type": "code",
      "metadata": {
        "id": "G38fqAQM1wm-"
      },
      "source": [
        "class1_train11 = pd.DataFrame()\n",
        "class2_train22 = pd.DataFrame()\n",
        "class1_train11[\"x1\"] = bin_x1.iloc[:160]\n",
        "class1_train11[\"x2\"] = bin_x2.iloc[:160]\n",
        "class2_train22[\"x1\"] = bin_x1.iloc[160:]\n",
        "class2_train22[\"x2\"] = bin_x2.iloc[160:]"
      ],
      "execution_count": 79,
      "outputs": []
    },
    {
      "cell_type": "code",
      "metadata": {
        "colab": {
          "base_uri": "https://localhost:8080/"
        },
        "id": "yC_IPCGU1_aS",
        "outputId": "381e5435-6247-4179-e3fa-403538fa0891"
      },
      "source": [
        "class1_train11.shape"
      ],
      "execution_count": 80,
      "outputs": [
        {
          "output_type": "execute_result",
          "data": {
            "text/plain": [
              "(160, 2)"
            ]
          },
          "metadata": {
            "tags": []
          },
          "execution_count": 80
        }
      ]
    },
    {
      "cell_type": "code",
      "metadata": {
        "colab": {
          "base_uri": "https://localhost:8080/"
        },
        "id": "DbHEf24X2Fyq",
        "outputId": "33f82e4f-31fa-400b-c8d8-c3545ce31efa"
      },
      "source": [
        "class2_train22.shape"
      ],
      "execution_count": 81,
      "outputs": [
        {
          "output_type": "execute_result",
          "data": {
            "text/plain": [
              "(39, 2)"
            ]
          },
          "metadata": {
            "tags": []
          },
          "execution_count": 81
        }
      ]
    },
    {
      "cell_type": "code",
      "metadata": {
        "id": "6s93fTqB297J"
      },
      "source": [
        "class1_train1 = class1_train11.to_numpy()\n",
        "class2_train2 = class2_train22.to_numpy()"
      ],
      "execution_count": 82,
      "outputs": []
    },
    {
      "cell_type": "code",
      "metadata": {
        "colab": {
          "base_uri": "https://localhost:8080/"
        },
        "id": "L1Jkm7n02_WE",
        "outputId": "e4a81a0b-0eb2-47dc-c0ef-3deadb7bd8f0"
      },
      "source": [
        "class1_train1"
      ],
      "execution_count": 83,
      "outputs": [
        {
          "output_type": "execute_result",
          "data": {
            "text/plain": [
              "array([[5, 5],\n",
              "       [4, 4],\n",
              "       [8, 4],\n",
              "       [7, 7],\n",
              "       [6, 5],\n",
              "       [5, 5],\n",
              "       [6, 5],\n",
              "       [6, 6],\n",
              "       [6, 7],\n",
              "       [5, 4],\n",
              "       [6, 4],\n",
              "       [4, 4],\n",
              "       [7, 7],\n",
              "       [6, 4],\n",
              "       [7, 5],\n",
              "       [4, 5],\n",
              "       [6, 4],\n",
              "       [7, 7],\n",
              "       [5, 4],\n",
              "       [8, 6],\n",
              "       [6, 6],\n",
              "       [6, 4],\n",
              "       [4, 7],\n",
              "       [5, 5],\n",
              "       [7, 6],\n",
              "       [4, 3],\n",
              "       [7, 5],\n",
              "       [6, 6],\n",
              "       [8, 7],\n",
              "       [5, 4],\n",
              "       [5, 7],\n",
              "       [4, 6],\n",
              "       [5, 5],\n",
              "       [5, 6],\n",
              "       [6, 5],\n",
              "       [5, 6],\n",
              "       [6, 7],\n",
              "       [6, 6],\n",
              "       [6, 6],\n",
              "       [5, 8],\n",
              "       [5, 6],\n",
              "       [5, 4],\n",
              "       [6, 5],\n",
              "       [5, 5],\n",
              "       [6, 4],\n",
              "       [5, 6],\n",
              "       [4, 2],\n",
              "       [4, 5],\n",
              "       [5, 5],\n",
              "       [6, 6],\n",
              "       [4, 5],\n",
              "       [5, 5],\n",
              "       [3, 7],\n",
              "       [6, 5],\n",
              "       [5, 5],\n",
              "       [5, 6],\n",
              "       [5, 7],\n",
              "       [5, 6],\n",
              "       [5, 6],\n",
              "       [4, 6],\n",
              "       [4, 7],\n",
              "       [6, 3],\n",
              "       [6, 4],\n",
              "       [4, 6],\n",
              "       [4, 6],\n",
              "       [4, 5],\n",
              "       [7, 6],\n",
              "       [5, 6],\n",
              "       [5, 4],\n",
              "       [4, 7],\n",
              "       [4, 5],\n",
              "       [5, 3],\n",
              "       [5, 6],\n",
              "       [6, 5],\n",
              "       [5, 7],\n",
              "       [6, 5],\n",
              "       [6, 6],\n",
              "       [6, 6],\n",
              "       [4, 6],\n",
              "       [6, 3],\n",
              "       [7, 2],\n",
              "       [6, 6],\n",
              "       [6, 7],\n",
              "       [4, 5],\n",
              "       [6, 6],\n",
              "       [6, 5],\n",
              "       [6, 5],\n",
              "       [4, 5],\n",
              "       [6, 4],\n",
              "       [5, 6],\n",
              "       [8, 7],\n",
              "       [7, 5],\n",
              "       [4, 5],\n",
              "       [5, 4],\n",
              "       [6, 6],\n",
              "       [5, 4],\n",
              "       [3, 6],\n",
              "       [5, 5],\n",
              "       [5, 7],\n",
              "       [5, 6],\n",
              "       [5, 4],\n",
              "       [4, 5],\n",
              "       [5, 6],\n",
              "       [4, 5],\n",
              "       [4, 6],\n",
              "       [6, 4],\n",
              "       [5, 5],\n",
              "       [6, 6],\n",
              "       [7, 6],\n",
              "       [7, 6],\n",
              "       [5, 5],\n",
              "       [6, 5],\n",
              "       [5, 6],\n",
              "       [5, 4],\n",
              "       [6, 5],\n",
              "       [6, 6],\n",
              "       [5, 5],\n",
              "       [5, 5],\n",
              "       [6, 7],\n",
              "       [6, 4],\n",
              "       [5, 4],\n",
              "       [6, 6],\n",
              "       [6, 6],\n",
              "       [5, 5],\n",
              "       [6, 5],\n",
              "       [8, 8],\n",
              "       [5, 6],\n",
              "       [7, 6],\n",
              "       [5, 3],\n",
              "       [5, 6],\n",
              "       [7, 4],\n",
              "       [5, 4],\n",
              "       [4, 5],\n",
              "       [6, 5],\n",
              "       [5, 5],\n",
              "       [5, 7],\n",
              "       [5, 6],\n",
              "       [5, 6],\n",
              "       [6, 4],\n",
              "       [4, 5],\n",
              "       [6, 4],\n",
              "       [5, 4],\n",
              "       [7, 5],\n",
              "       [6, 4],\n",
              "       [6, 4],\n",
              "       [6, 4],\n",
              "       [7, 7],\n",
              "       [5, 5],\n",
              "       [6, 5],\n",
              "       [7, 5],\n",
              "       [5, 5],\n",
              "       [5, 5],\n",
              "       [6, 2],\n",
              "       [3, 5],\n",
              "       [5, 5],\n",
              "       [8, 7],\n",
              "       [6, 4],\n",
              "       [5, 5],\n",
              "       [6, 5],\n",
              "       [7, 6]], dtype=object)"
            ]
          },
          "metadata": {
            "tags": []
          },
          "execution_count": 83
        }
      ]
    },
    {
      "cell_type": "code",
      "metadata": {
        "colab": {
          "base_uri": "https://localhost:8080/"
        },
        "id": "F0NTqCx43IFt",
        "outputId": "42c3b252-6c9b-43da-ebf9-46510ad8f3c5"
      },
      "source": [
        "class2_train2"
      ],
      "execution_count": 84,
      "outputs": [
        {
          "output_type": "execute_result",
          "data": {
            "text/plain": [
              "array([[4, 5],\n",
              "       [3, 1],\n",
              "       [4, 2],\n",
              "       [3, 2],\n",
              "       [3, 2],\n",
              "       [5, 4],\n",
              "       [5, 4],\n",
              "       [3, 4],\n",
              "       [3, 3],\n",
              "       [2, 3],\n",
              "       [5, 3],\n",
              "       [4, 3],\n",
              "       [2, 3],\n",
              "       [4, 4],\n",
              "       [3, 1],\n",
              "       [3, 4],\n",
              "       [4, 2],\n",
              "       [4, 3],\n",
              "       [2, 3],\n",
              "       [5, 4],\n",
              "       [3, 3],\n",
              "       [4, 4],\n",
              "       [4, 3],\n",
              "       [1, 3],\n",
              "       [3, 2],\n",
              "       [3, 5],\n",
              "       [5, 5],\n",
              "       [2, 1],\n",
              "       [1, 2],\n",
              "       [4, 3],\n",
              "       [3, 2],\n",
              "       [4, 3],\n",
              "       [2, 4],\n",
              "       [1, 1],\n",
              "       [4, 3],\n",
              "       [3, 3],\n",
              "       [5, 4],\n",
              "       [5, 4],\n",
              "       [4, 1]], dtype=object)"
            ]
          },
          "metadata": {
            "tags": []
          },
          "execution_count": 84
        }
      ]
    },
    {
      "cell_type": "code",
      "metadata": {
        "colab": {
          "base_uri": "https://localhost:8080/",
          "height": 202
        },
        "id": "2sIu7ShI0szX",
        "outputId": "608bed12-3f13-48e0-9cad-cadf4f0ed0cf"
      },
      "source": [
        "result.head()"
      ],
      "execution_count": 85,
      "outputs": [
        {
          "output_type": "execute_result",
          "data": {
            "text/html": [
              "<div>\n",
              "<style scoped>\n",
              "    .dataframe tbody tr th:only-of-type {\n",
              "        vertical-align: middle;\n",
              "    }\n",
              "\n",
              "    .dataframe tbody tr th {\n",
              "        vertical-align: top;\n",
              "    }\n",
              "\n",
              "    .dataframe thead th {\n",
              "        text-align: right;\n",
              "    }\n",
              "</style>\n",
              "<table border=\"1\" class=\"dataframe\">\n",
              "  <thead>\n",
              "    <tr style=\"text-align: right;\">\n",
              "      <th></th>\n",
              "      <th>x1</th>\n",
              "      <th>x2</th>\n",
              "      <th>class</th>\n",
              "      <th>x1_bins</th>\n",
              "      <th>x2_bins</th>\n",
              "    </tr>\n",
              "  </thead>\n",
              "  <tbody>\n",
              "    <tr>\n",
              "      <th>0</th>\n",
              "      <td>0.320478</td>\n",
              "      <td>0.481092</td>\n",
              "      <td>1</td>\n",
              "      <td>5</td>\n",
              "      <td>5</td>\n",
              "    </tr>\n",
              "    <tr>\n",
              "      <th>1</th>\n",
              "      <td>0.050691</td>\n",
              "      <td>0.096400</td>\n",
              "      <td>1</td>\n",
              "      <td>4</td>\n",
              "      <td>4</td>\n",
              "    </tr>\n",
              "    <tr>\n",
              "      <th>2</th>\n",
              "      <td>3.748470</td>\n",
              "      <td>0.403931</td>\n",
              "      <td>1</td>\n",
              "      <td>8</td>\n",
              "      <td>4</td>\n",
              "    </tr>\n",
              "    <tr>\n",
              "      <th>3</th>\n",
              "      <td>2.256374</td>\n",
              "      <td>2.089962</td>\n",
              "      <td>1</td>\n",
              "      <td>7</td>\n",
              "      <td>7</td>\n",
              "    </tr>\n",
              "    <tr>\n",
              "      <th>4</th>\n",
              "      <td>1.421454</td>\n",
              "      <td>1.243629</td>\n",
              "      <td>1</td>\n",
              "      <td>6</td>\n",
              "      <td>5</td>\n",
              "    </tr>\n",
              "  </tbody>\n",
              "</table>\n",
              "</div>"
            ],
            "text/plain": [
              "         x1        x2 class x1_bins x2_bins\n",
              "0  0.320478  0.481092     1       5       5\n",
              "1  0.050691  0.096400     1       4       4\n",
              "2  3.748470  0.403931     1       8       4\n",
              "3  2.256374  2.089962     1       7       7\n",
              "4  1.421454  1.243629     1       6       5"
            ]
          },
          "metadata": {
            "tags": []
          },
          "execution_count": 85
        }
      ]
    },
    {
      "cell_type": "code",
      "metadata": {
        "colab": {
          "base_uri": "https://localhost:8080/",
          "height": 502
        },
        "id": "Z0IB4WiP6zWv",
        "outputId": "7fefb7f2-49b3-4cd8-a370-5d45359e9d65"
      },
      "source": [
        "# now that the data is divided into bins , we can plot the count of elements belonging to each unique bin\n",
        "plt.hist(class1_train1[:,0])\n",
        "plt.xlabel(\"x1 in c1\")\n",
        "plt.ylabel(\"Count\")\n",
        "plt.show()"
      ],
      "execution_count": 86,
      "outputs": [
        {
          "output_type": "display_data",
          "data": {
            "image/png": "[encoded data removed]",
            "text/plain": [
              "<Figure size 576x576 with 1 Axes>"
            ]
          },
          "metadata": {
            "tags": []
          }
        }
      ]
    },
    {
      "cell_type": "code",
      "metadata": {
        "colab": {
          "base_uri": "https://localhost:8080/",
          "height": 502
        },
        "id": "o851t86-7dxp",
        "outputId": "e40241b0-8608-4689-fa7e-bf369cfe08b8"
      },
      "source": [
        "# x2 in c1\n",
        "plt.hist(class1_train1[:,1])\n",
        "plt.xlabel(\"x2 in c1\")\n",
        "plt.ylabel(\"Count\")\n",
        "plt.show()"
      ],
      "execution_count": 87,
      "outputs": [
        {
          "output_type": "display_data",
          "data": {
            "image/png": "[encoded data removed]",
            "text/plain": [
              "<Figure size 576x576 with 1 Axes>"
            ]
          },
          "metadata": {
            "tags": []
          }
        }
      ]
    },
    {
      "cell_type": "code",
      "metadata": {
        "colab": {
          "base_uri": "https://localhost:8080/",
          "height": 502
        },
        "id": "jOgw2UXo7L9p",
        "outputId": "1a452c99-1619-4b6d-a4be-807265b83cc6"
      },
      "source": [
        "# x1 in c2\n",
        "plt.hist(class2_train2[:,0])\n",
        "plt.xlabel(\"x1 in c2\")\n",
        "plt.ylabel(\"Count\")\n",
        "plt.show()"
      ],
      "execution_count": 88,
      "outputs": [
        {
          "output_type": "display_data",
          "data": {
            "image/png": "[encoded data removed]",
            "text/plain": [
              "<Figure size 576x576 with 1 Axes>"
            ]
          },
          "metadata": {
            "tags": []
          }
        }
      ]
    },
    {
      "cell_type": "code",
      "metadata": {
        "colab": {
          "base_uri": "https://localhost:8080/",
          "height": 502
        },
        "id": "moCQOeA57maI",
        "outputId": "d1fb07eb-67d6-44a2-d73a-c66a0db57714"
      },
      "source": [
        "# x2 in c2\n",
        "plt.hist(class2_train2[:,1])\n",
        "plt.xlabel(\"x2 in c2\")\n",
        "plt.ylabel(\"Count\")\n",
        "plt.show()"
      ],
      "execution_count": 89,
      "outputs": [
        {
          "output_type": "display_data",
          "data": {
            "image/png": "[encoded data removed]",
            "text/plain": [
              "<Figure size 576x576 with 1 Axes>"
            ]
          },
          "metadata": {
            "tags": []
          }
        }
      ]
    },
    {
      "cell_type": "markdown",
      "metadata": {
        "id": "mCYW-UAFy-bl"
      },
      "source": [
        "# Plot the Posterior Probability for each class"
      ]
    },
    {
      "cell_type": "code",
      "metadata": {
        "id": "SYb5bxWh0Utl"
      },
      "source": [
        "from collections import Counter\n",
        "x1_total = result['x1_bins']\n",
        "unique_x1_total = Counter(x1_total).keys() \n",
        "count_unique_x1_total = list(Counter(x1_total).values())\n",
        "\n",
        "x2_total = result['x2_bins']\n",
        "unique_x2_total = Counter(x2_total).keys() \n",
        "count_unique_x2_total = list(Counter(x2_total).values()) \n",
        "\n",
        "x1_c1 = class1_train1[:,0]\n",
        "unique_x1_c1 = Counter(x1_c1).keys() \n",
        "count_unique_x1_c1 = list(Counter(x1_c1).values()) \n",
        "\n",
        "x2_c1 = class1_train1[:,1]\n",
        "unique_x2_c1 = Counter(x2_c1).keys() \n",
        "count_unique_x2_c1 = list(Counter(x2_c1).values()) \n",
        "\n",
        "x1_c2 = class2_train2[:,0]\n",
        "unique_x1_c2 = Counter(x1_c2).keys() \n",
        "count_unique_x1_c2 = list(Counter(x1_c2).values())\n",
        "\n",
        "x2_c2 = class2_train2[:,1]\n",
        "unique_x2_c2 = Counter(x2_c2).keys() \n",
        "count_unique_x2_c2 = list(Counter(x2_c2).values())\n",
        "# unique_c1 = Counter(x).keys() \n",
        "# count_unique_c1 = list(Counter(x).values()) \n",
        "# x = class2_train[:,0]\n",
        "# unique_c2 = Counter(x).keys() \n",
        "# count_unique_c2 = list(Counter(x).values()) "
      ],
      "execution_count": 90,
      "outputs": []
    },
    {
      "cell_type": "code",
      "metadata": {
        "colab": {
          "base_uri": "https://localhost:8080/"
        },
        "id": "NQ-ziWowucuD",
        "outputId": "6baa6683-faab-4e38-c7e1-99e65fdbc58c"
      },
      "source": [
        "\n",
        "unique_x1_total"
      ],
      "execution_count": 91,
      "outputs": [
        {
          "output_type": "execute_result",
          "data": {
            "text/plain": [
              "dict_keys([5, 4, 8, 7, 6, 3, 2, 1])"
            ]
          },
          "metadata": {
            "tags": []
          },
          "execution_count": 91
        }
      ]
    },
    {
      "cell_type": "code",
      "metadata": {
        "colab": {
          "base_uri": "https://localhost:8080/"
        },
        "id": "9SC93abG_Onq",
        "outputId": "e7b3eabd-4576-42ac-f24f-51cf5c0c99c4"
      },
      "source": [
        "count_unique_x1_total"
      ],
      "execution_count": 92,
      "outputs": [
        {
          "output_type": "execute_result",
          "data": {
            "text/plain": [
              "[64, 37, 6, 17, 52, 15, 5, 3]"
            ]
          },
          "metadata": {
            "tags": []
          },
          "execution_count": 92
        }
      ]
    },
    {
      "cell_type": "code",
      "metadata": {
        "colab": {
          "base_uri": "https://localhost:8080/"
        },
        "id": "HvYBS5KG_Zp4",
        "outputId": "eb30ee1f-3ad1-4e98-d812-930dd004d8a5"
      },
      "source": [
        "unique_x2_total"
      ],
      "execution_count": 93,
      "outputs": [
        {
          "output_type": "execute_result",
          "data": {
            "text/plain": [
              "dict_keys([5, 4, 7, 6, 3, 8, 2, 1])"
            ]
          },
          "metadata": {
            "tags": []
          },
          "execution_count": 93
        }
      ]
    },
    {
      "cell_type": "code",
      "metadata": {
        "colab": {
          "base_uri": "https://localhost:8080/"
        },
        "id": "Y2A_7zHP_a2e",
        "outputId": "c4321cab-d5ff-4661-a76f-408b3264f653"
      },
      "source": [
        "count_unique_x2_total"
      ],
      "execution_count": 94,
      "outputs": [
        {
          "output_type": "execute_result",
          "data": {
            "text/plain": [
              "[56, 41, 20, 46, 19, 2, 10, 5]"
            ]
          },
          "metadata": {
            "tags": []
          },
          "execution_count": 94
        }
      ]
    },
    {
      "cell_type": "code",
      "metadata": {
        "colab": {
          "base_uri": "https://localhost:8080/"
        },
        "id": "RKmPBXBJCZyw",
        "outputId": "03e13a51-5585-437e-e743-acbbcc195b2d"
      },
      "source": [
        "unique_x2_c1"
      ],
      "execution_count": 95,
      "outputs": [
        {
          "output_type": "execute_result",
          "data": {
            "text/plain": [
              "dict_keys([5, 4, 7, 6, 3, 8, 2])"
            ]
          },
          "metadata": {
            "tags": []
          },
          "execution_count": 95
        }
      ]
    },
    {
      "cell_type": "code",
      "metadata": {
        "colab": {
          "base_uri": "https://localhost:8080/"
        },
        "id": "XKs-tlNsCbHg",
        "outputId": "f2b5bc9a-bc03-4284-d98e-862b55edd769"
      },
      "source": [
        "unique_x2_c2"
      ],
      "execution_count": 96,
      "outputs": [
        {
          "output_type": "execute_result",
          "data": {
            "text/plain": [
              "dict_keys([5, 1, 2, 4, 3])"
            ]
          },
          "metadata": {
            "tags": []
          },
          "execution_count": 96
        }
      ]
    },
    {
      "cell_type": "code",
      "metadata": {
        "colab": {
          "base_uri": "https://localhost:8080/",
          "height": 502
        },
        "id": "ZqyKXNvpejD7",
        "outputId": "13875cd5-9703-4605-80d1-3513c221e1e2"
      },
      "source": [
        "# plotting likelihood for x1 \n",
        "y1_c1 = np.array(count_unique_x1_c1)/len(x1_c1)\n",
        "sns.pointplot(list(unique_x1_c1),y1_c1, linestyles=\"--\",markers =['x'] )\n",
        "y1_c2 = np.array(count_unique_x1_c2)/len(x1_c2)\n",
        "sns.pointplot(list(unique_x1_c2),y1_c2,linestyles='-',markers=['o'])\n",
        "plt.legend(labels = ['c1','c2'])\n",
        "plt.xlabel(\"bin(x)\")\n",
        "plt.ylabel(\"P(x1|c)\")\n",
        "plt.show()"
      ],
      "execution_count": 97,
      "outputs": [
        {
          "output_type": "display_data",
          "data": {
            "image/png": "[encoded data removed]",
            "text/plain": [
              "<Figure size 576x576 with 1 Axes>"
            ]
          },
          "metadata": {
            "tags": []
          }
        }
      ]
    },
    {
      "cell_type": "code",
      "metadata": {
        "colab": {
          "base_uri": "https://localhost:8080/"
        },
        "id": "3MUNNbFxAgDp",
        "outputId": "c369cf92-7977-4b7a-c90c-8eea5dfe2b77"
      },
      "source": [
        "unique_x2_c2"
      ],
      "execution_count": 98,
      "outputs": [
        {
          "output_type": "execute_result",
          "data": {
            "text/plain": [
              "dict_keys([5, 1, 2, 4, 3])"
            ]
          },
          "metadata": {
            "tags": []
          },
          "execution_count": 98
        }
      ]
    },
    {
      "cell_type": "code",
      "metadata": {
        "colab": {
          "base_uri": "https://localhost:8080/"
        },
        "id": "4X6HmEd8Ad2b",
        "outputId": "d08dba92-a38e-48f1-9daf-334347a4dc1d"
      },
      "source": [
        "count_unique_x2_c2"
      ],
      "execution_count": 99,
      "outputs": [
        {
          "output_type": "execute_result",
          "data": {
            "text/plain": [
              "[3, 5, 7, 10, 14]"
            ]
          },
          "metadata": {
            "tags": []
          },
          "execution_count": 99
        }
      ]
    },
    {
      "cell_type": "code",
      "metadata": {
        "colab": {
          "base_uri": "https://localhost:8080/"
        },
        "id": "HLGhQmTBAtMa",
        "outputId": "48443d00-8016-4240-bdb9-a2b4f839a3e7"
      },
      "source": [
        "len(x2_c2)"
      ],
      "execution_count": 100,
      "outputs": [
        {
          "output_type": "execute_result",
          "data": {
            "text/plain": [
              "39"
            ]
          },
          "metadata": {
            "tags": []
          },
          "execution_count": 100
        }
      ]
    },
    {
      "cell_type": "code",
      "metadata": {
        "colab": {
          "base_uri": "https://localhost:8080/",
          "height": 502
        },
        "id": "MgSAsaUuANFa",
        "outputId": "cce15632-f373-4e41-b754-e9b231fbb2d5"
      },
      "source": [
        "# plotting likelihood for x2\n",
        "y2_c1 = np.array(count_unique_x2_c1)/len(x2_c1)\n",
        "sns.pointplot(list(unique_x2_c1),y2_c1, linestyles=\"--\",markers =['x'] )\n",
        "y2_c2 = np.array(count_unique_x2_c2)/len(x2_c2)\n",
        "sns.pointplot(list(unique_x2_c2),y2_c2,linestyles='-',markers=['o'])\n",
        "plt.legend(labels = ['c1','c2'])\n",
        "plt.xlabel(\"bin(x)\")\n",
        "plt.ylabel(\"P(x2|c)\")\n",
        "plt.show()"
      ],
      "execution_count": 101,
      "outputs": [
        {
          "output_type": "display_data",
          "data": {
            "image/png": "[encoded data removed]",
            "text/plain": [
              "<Figure size 576x576 with 1 Axes>"
            ]
          },
          "metadata": {
            "tags": []
          }
        }
      ]
    },
    {
      "cell_type": "code",
      "metadata": {
        "colab": {
          "base_uri": "https://localhost:8080/"
        },
        "id": "WyNKfT20Ge9K",
        "outputId": "bcbaf3d0-a34e-4e6d-d58f-70e0e0c4f201"
      },
      "source": [
        "count_unique_x1_total"
      ],
      "execution_count": 102,
      "outputs": [
        {
          "output_type": "execute_result",
          "data": {
            "text/plain": [
              "[64, 37, 6, 17, 52, 15, 5, 3]"
            ]
          },
          "metadata": {
            "tags": []
          },
          "execution_count": 102
        }
      ]
    },
    {
      "cell_type": "code",
      "metadata": {
        "id": "Y-_i9ODHGm_O"
      },
      "source": [
        "prob_x1 = np.array(count_unique_x1_total)/len(x1_total)"
      ],
      "execution_count": 103,
      "outputs": []
    },
    {
      "cell_type": "code",
      "metadata": {
        "colab": {
          "base_uri": "https://localhost:8080/"
        },
        "id": "CSRrvg7SHBgE",
        "outputId": "7c38c753-b370-48a3-cc0c-ef7f362f2084"
      },
      "source": [
        "prob_x1"
      ],
      "execution_count": 104,
      "outputs": [
        {
          "output_type": "execute_result",
          "data": {
            "text/plain": [
              "array([0.32160804, 0.18592965, 0.03015075, 0.08542714, 0.26130653,\n",
              "       0.07537688, 0.02512563, 0.01507538])"
            ]
          },
          "metadata": {
            "tags": []
          },
          "execution_count": 104
        }
      ]
    },
    {
      "cell_type": "code",
      "metadata": {
        "colab": {
          "base_uri": "https://localhost:8080/"
        },
        "id": "TSj3UAKCHHq0",
        "outputId": "6d53dea9-4e61-4381-b89f-bcddef38fb79"
      },
      "source": [
        "unique_x1_total"
      ],
      "execution_count": 105,
      "outputs": [
        {
          "output_type": "execute_result",
          "data": {
            "text/plain": [
              "dict_keys([5, 4, 8, 7, 6, 3, 2, 1])"
            ]
          },
          "metadata": {
            "tags": []
          },
          "execution_count": 105
        }
      ]
    },
    {
      "cell_type": "code",
      "metadata": {
        "colab": {
          "base_uri": "https://localhost:8080/"
        },
        "id": "C2nsxwEKHrd-",
        "outputId": "90584f39-19bd-4078-83b5-a209eb6abb8f"
      },
      "source": [
        "unique_x1_c1"
      ],
      "execution_count": 106,
      "outputs": [
        {
          "output_type": "execute_result",
          "data": {
            "text/plain": [
              "dict_keys([5, 4, 8, 7, 6, 3])"
            ]
          },
          "metadata": {
            "tags": []
          },
          "execution_count": 106
        }
      ]
    },
    {
      "cell_type": "code",
      "metadata": {
        "colab": {
          "base_uri": "https://localhost:8080/"
        },
        "id": "X2ZSysx8H0bU",
        "outputId": "f5077297-d486-4d0a-834b-3f8afa759bf7"
      },
      "source": [
        "y1_c1"
      ],
      "execution_count": 107,
      "outputs": [
        {
          "output_type": "execute_result",
          "data": {
            "text/plain": [
              "array([0.35625, 0.15625, 0.0375 , 0.10625, 0.325  , 0.01875])"
            ]
          },
          "metadata": {
            "tags": []
          },
          "execution_count": 107
        }
      ]
    },
    {
      "cell_type": "code",
      "metadata": {
        "colab": {
          "base_uri": "https://localhost:8080/"
        },
        "id": "5ScqLuNCNn0F",
        "outputId": "a516846e-cf4c-4c00-ceae-51bdf9e03954"
      },
      "source": [
        "unique_x1_c2"
      ],
      "execution_count": 108,
      "outputs": [
        {
          "output_type": "execute_result",
          "data": {
            "text/plain": [
              "dict_keys([4, 3, 5, 2, 1])"
            ]
          },
          "metadata": {
            "tags": []
          },
          "execution_count": 108
        }
      ]
    },
    {
      "cell_type": "code",
      "metadata": {
        "colab": {
          "base_uri": "https://localhost:8080/"
        },
        "id": "qg5gFsIjNqWI",
        "outputId": "379e5bf6-cf86-4070-babe-3c13fc0cc4e5"
      },
      "source": [
        "y1_c2"
      ],
      "execution_count": 109,
      "outputs": [
        {
          "output_type": "execute_result",
          "data": {
            "text/plain": [
              "array([0.30769231, 0.30769231, 0.17948718, 0.12820513, 0.07692308])"
            ]
          },
          "metadata": {
            "tags": []
          },
          "execution_count": 109
        }
      ]
    },
    {
      "cell_type": "code",
      "metadata": {
        "colab": {
          "base_uri": "https://localhost:8080/"
        },
        "id": "WCTVRcc5IxPk",
        "outputId": "eef49cb9-831c-4908-ab75-04edd658870b"
      },
      "source": [
        "counts_x1 = result[\"x1_bins\"].value_counts()\n",
        "counts_x1"
      ],
      "execution_count": 110,
      "outputs": [
        {
          "output_type": "execute_result",
          "data": {
            "text/plain": [
              "5    64\n",
              "6    52\n",
              "4    37\n",
              "7    17\n",
              "3    15\n",
              "8     6\n",
              "2     5\n",
              "1     3\n",
              "Name: x1_bins, dtype: int64"
            ]
          },
          "metadata": {
            "tags": []
          },
          "execution_count": 110
        }
      ]
    },
    {
      "cell_type": "code",
      "metadata": {
        "collapsed": true,
        "id": "3-CD4d940-pt"
      },
      "source": [
        "# P(c1|x1) = p(x1|c1)*p(c1)/ p(x1)\n",
        "# P(c2|x1) = p(x1|c2)*p(c2)/ p(x1)\n",
        "prob_c1 \n",
        "prob_c2\n",
        "y1_c1 \n",
        "y1_c2\n",
        "prob_c1_x1 = []\n",
        "i=0\n",
        "for x in (unique_x1_c1):\n",
        "  numerator = y1_c1[i] * prob_c1\n",
        "  if( x in list(unique_x1_c2)):\n",
        "     ind_x1_c2 = list(unique_x1_c2).index(x)\n",
        "     denominator = y1_c1[i] *prob_c1 + y1_c2[ind_x1_c2]* prob_c2\n",
        "     prob_c1_x1.append(numerator/denominator)\n",
        "  else:\n",
        "     denominator = y1_c1[i] *prob_c1 \n",
        "     prob_c1_x1.append(numerator/denominator)\n",
        "  i = i+1\n",
        "\n",
        "prob_c2_x1 = []\n",
        "i=0\n",
        "for x in (unique_x1_c2):\n",
        "  numerator = y1_c2[i] * prob_c2\n",
        "  if( x in list(unique_x1_c1)):\n",
        "     ind_x1_c1= list(unique_x1_c1).index(x)\n",
        "     denominator = y1_c2[i] *prob_c2 + y1_c1[ind_x1_c1]* prob_c1\n",
        "     prob_c2_x1.append(numerator/denominator)\n",
        "  else:\n",
        "     denominator = y1_c2[i] *prob_c2 \n",
        "     prob_c2_x1.append(numerator/denominator)\n",
        "  i = i+1\n"
      ],
      "execution_count": 111,
      "outputs": []
    },
    {
      "cell_type": "code",
      "metadata": {
        "colab": {
          "base_uri": "https://localhost:8080/",
          "height": 502
        },
        "id": "GXKJeSnUQG9Q",
        "outputId": "fc5228d9-c8db-4fa2-86cc-3aa519557911"
      },
      "source": [
        "sns.pointplot(list(unique_x1_c1), prob_c1_x1, linestyles=\"--\",markers =['x'] )\n",
        "sns.pointplot(list(unique_x1_c2), prob_c2_x1 ,linestyles='-',markers=['o'])\n",
        "plt.xlabel(\"bin(x)\")\n",
        "plt.ylabel(\"P(c|x1)\")\n",
        "plt.legend(labels = ['C1','C2'])\n",
        "plt.show()\n",
        "\n"
      ],
      "execution_count": 112,
      "outputs": [
        {
          "output_type": "display_data",
          "data": {
            "image/png": "[encoded data removed]",
            "text/plain": [
              "<Figure size 576x576 with 1 Axes>"
            ]
          },
          "metadata": {
            "tags": []
          }
        }
      ]
    },
    {
      "cell_type": "code",
      "metadata": {
        "collapsed": true,
        "id": "ZnvGAaHj7tHe"
      },
      "source": [
        "# P(c1|x2) = p(x2|c1)*p(c1)/ p(x2)\n",
        "# P(c2|x2) = p(x2|c2)*p(c2)/ p(x2)\n",
        "\n",
        "prob_c1 \n",
        "prob_c2\n",
        "y2_c1 \n",
        "y2_c2\n",
        "prob_c1_x2 = []\n",
        "i=0\n",
        "for x in (unique_x2_c1):\n",
        "  numerator = y2_c1[i] * prob_c1\n",
        "  if( x in list(unique_x2_c2)):\n",
        "     ind_x2_c2 = list(unique_x2_c2).index(x)\n",
        "     denominator = y2_c1[i] *prob_c1 + y2_c2[ind_x2_c2]* prob_c2\n",
        "     prob_c1_x2.append(numerator/denominator)\n",
        "  else:\n",
        "     denominator = y2_c1[i] *prob_c1 \n",
        "     prob_c1_x2.append(numerator/denominator)\n",
        "  i = i+1\n",
        "\n",
        "prob_c2_x2 = []\n",
        "i=0\n",
        "for x in (unique_x2_c2):\n",
        "  numerator = y2_c2[i] * prob_c2\n",
        "  if( x in list(unique_x2_c1)):\n",
        "     ind_x2_c1= list(unique_x2_c1).index(x)\n",
        "     denominator = y2_c2[i] *prob_c2 + y2_c1[ind_x2_c1]* prob_c1\n",
        "     prob_c2_x2.append(numerator/denominator)\n",
        "  else:\n",
        "     denominator = y2_c2[i] *prob_c2 \n",
        "     prob_c2_x2.append(numerator/denominator)\n",
        "  i = i+1\n"
      ],
      "execution_count": 113,
      "outputs": []
    },
    {
      "cell_type": "code",
      "metadata": {
        "collapsed": true,
        "id": "Cb4H7n8W1ga0",
        "colab": {
          "base_uri": "https://localhost:8080/",
          "height": 502
        },
        "outputId": "829e6e98-7766-4b20-a322-3b6fb2f3a315"
      },
      "source": [
        "sns.pointplot(list(unique_x2_c1), prob_c1_x2, linestyles=\"--\",markers =['x'] )\n",
        "sns.pointplot(list(unique_x2_c2), prob_c2_x2 ,linestyles='-',markers=['o'])\n",
        "plt.xlabel(\"bin(x)\")\n",
        "plt.ylabel(\"P(c|x2)\")\n",
        "plt.legend(labels = ['C1','C2'])\n",
        "plt.show()"
      ],
      "execution_count": 114,
      "outputs": [
        {
          "output_type": "display_data",
          "data": {
            "image/png": "[encoded data removed]",
            "text/plain": [
              "<Figure size 576x576 with 1 Axes>"
            ]
          },
          "metadata": {
            "tags": []
          }
        }
      ]
    },
    {
      "cell_type": "markdown",
      "metadata": {
        "id": "ioYI3x2nQs1S"
      },
      "source": [
        "# In the report please explain the plots that you are getting clearly explaining the reason ."
      ]
    }
  ]
}