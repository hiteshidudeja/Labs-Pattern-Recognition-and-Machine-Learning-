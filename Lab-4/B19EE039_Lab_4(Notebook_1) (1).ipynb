{
  "nbformat": 4,
  "nbformat_minor": 0,
  "metadata": {
    "colab": {
      "name": "B19EE039 Lab 4(Notebook-1).ipynb",
      "provenance": [],
      "collapsed_sections": []
    },
    "kernelspec": {
      "name": "python3",
      "display_name": "Python 3"
    },
    "language_info": {
      "name": "python"
    }
  },
  "cells": [
    {
      "cell_type": "markdown",
      "metadata": {
        "id": "pWh_IvaskTKS"
      },
      "source": [
        "Please copy the notebook to your drive and write your code in it."
      ]
    },
    {
      "cell_type": "markdown",
      "metadata": {
        "id": "vWet7nnnQReB"
      },
      "source": [
        "# New section"
      ]
    },
    {
      "cell_type": "markdown",
      "metadata": {
        "id": "K_PgySJunoX-"
      },
      "source": [
        "Import necessary libraries"
      ]
    },
    {
      "cell_type": "code",
      "metadata": {
        "id": "tWSAr9XukTbn"
      },
      "source": [
        "import numpy as np \n",
        "import pandas as pd \n",
        "import seaborn as sns\n",
        "from sklearn.preprocessing import LabelEncoder\n",
        "from sklearn.utils import shuffle\n",
        "from sklearn.model_selection import train_test_split\n",
        "from sklearn import tree\n",
        "from sklearn.model_selection import cross_val_score\n",
        "from sklearn.ensemble import AdaBoostClassifier\n",
        "from sklearn.model_selection import GridSearchCV\n",
        "from sklearn import metrics\n",
        "import warnings\n",
        "warnings.filterwarnings('ignore')"
      ],
      "execution_count": 425,
      "outputs": []
    },
    {
      "cell_type": "markdown",
      "metadata": {
        "id": "5feEPRCSkTls"
      },
      "source": [
        "Read Dataset from csv file"
      ]
    },
    {
      "cell_type": "code",
      "metadata": {
        "id": "HoNvSh2LkTsa"
      },
      "source": [
        " iris= pd.read_csv('/content/Iris.csv')"
      ],
      "execution_count": 426,
      "outputs": []
    },
    {
      "cell_type": "markdown",
      "metadata": {
        "id": "yvDum9LekT0W"
      },
      "source": [
        "Preview dataset"
      ]
    },
    {
      "cell_type": "code",
      "metadata": {
        "id": "svknh4PmkT_c",
        "colab": {
          "base_uri": "https://localhost:8080/",
          "height": 202
        },
        "outputId": "cd07b386-0483-4718-db58-3ff2c70bfdb4"
      },
      "source": [
        "iris.head()"
      ],
      "execution_count": 427,
      "outputs": [
        {
          "output_type": "execute_result",
          "data": {
            "text/html": [
              "<div>\n",
              "<style scoped>\n",
              "    .dataframe tbody tr th:only-of-type {\n",
              "        vertical-align: middle;\n",
              "    }\n",
              "\n",
              "    .dataframe tbody tr th {\n",
              "        vertical-align: top;\n",
              "    }\n",
              "\n",
              "    .dataframe thead th {\n",
              "        text-align: right;\n",
              "    }\n",
              "</style>\n",
              "<table border=\"1\" class=\"dataframe\">\n",
              "  <thead>\n",
              "    <tr style=\"text-align: right;\">\n",
              "      <th></th>\n",
              "      <th>Id</th>\n",
              "      <th>SepalLengthCm</th>\n",
              "      <th>SepalWidthCm</th>\n",
              "      <th>PetalLengthCm</th>\n",
              "      <th>PetalWidthCm</th>\n",
              "      <th>Species</th>\n",
              "    </tr>\n",
              "  </thead>\n",
              "  <tbody>\n",
              "    <tr>\n",
              "      <th>0</th>\n",
              "      <td>1</td>\n",
              "      <td>5.1</td>\n",
              "      <td>3.5</td>\n",
              "      <td>1.4</td>\n",
              "      <td>0.2</td>\n",
              "      <td>Iris-setosa</td>\n",
              "    </tr>\n",
              "    <tr>\n",
              "      <th>1</th>\n",
              "      <td>2</td>\n",
              "      <td>4.9</td>\n",
              "      <td>3.0</td>\n",
              "      <td>1.4</td>\n",
              "      <td>0.2</td>\n",
              "      <td>Iris-setosa</td>\n",
              "    </tr>\n",
              "    <tr>\n",
              "      <th>2</th>\n",
              "      <td>3</td>\n",
              "      <td>4.7</td>\n",
              "      <td>3.2</td>\n",
              "      <td>1.3</td>\n",
              "      <td>0.2</td>\n",
              "      <td>Iris-setosa</td>\n",
              "    </tr>\n",
              "    <tr>\n",
              "      <th>3</th>\n",
              "      <td>4</td>\n",
              "      <td>4.6</td>\n",
              "      <td>3.1</td>\n",
              "      <td>1.5</td>\n",
              "      <td>0.2</td>\n",
              "      <td>Iris-setosa</td>\n",
              "    </tr>\n",
              "    <tr>\n",
              "      <th>4</th>\n",
              "      <td>5</td>\n",
              "      <td>5.0</td>\n",
              "      <td>3.6</td>\n",
              "      <td>1.4</td>\n",
              "      <td>0.2</td>\n",
              "      <td>Iris-setosa</td>\n",
              "    </tr>\n",
              "  </tbody>\n",
              "</table>\n",
              "</div>"
            ],
            "text/plain": [
              "   Id  SepalLengthCm  SepalWidthCm  PetalLengthCm  PetalWidthCm      Species\n",
              "0   1            5.1           3.5            1.4           0.2  Iris-setosa\n",
              "1   2            4.9           3.0            1.4           0.2  Iris-setosa\n",
              "2   3            4.7           3.2            1.3           0.2  Iris-setosa\n",
              "3   4            4.6           3.1            1.5           0.2  Iris-setosa\n",
              "4   5            5.0           3.6            1.4           0.2  Iris-setosa"
            ]
          },
          "metadata": {
            "tags": []
          },
          "execution_count": 427
        }
      ]
    },
    {
      "cell_type": "markdown",
      "metadata": {
        "id": "GmAit9xXkUGt"
      },
      "source": [
        "Declare feature vector and target variable"
      ]
    },
    {
      "cell_type": "code",
      "metadata": {
        "id": "Kdyk57aWBRxo"
      },
      "source": [
        "features = [\"SepalLengthCm\", \"SepalWidthCm\", \"PetalLengthCm\", \"PetalWidthCm\"]"
      ],
      "execution_count": 428,
      "outputs": []
    },
    {
      "cell_type": "code",
      "metadata": {
        "id": "KtMcE-oPfVZA",
        "colab": {
          "base_uri": "https://localhost:8080/"
        },
        "outputId": "d24b7156-d7b4-4063-c5b4-615a3c1a905f"
      },
      "source": [
        "iris.shape"
      ],
      "execution_count": 429,
      "outputs": [
        {
          "output_type": "execute_result",
          "data": {
            "text/plain": [
              "(150, 6)"
            ]
          },
          "metadata": {
            "tags": []
          },
          "execution_count": 429
        }
      ]
    },
    {
      "cell_type": "code",
      "metadata": {
        "id": "B23DPIqCkUN5",
        "colab": {
          "base_uri": "https://localhost:8080/"
        },
        "outputId": "33e811d1-186d-4c7f-cea7-1df3e4cf5f3b"
      },
      "source": [
        "X = iris[features]\n",
        "y = iris[[\"Species\"]]\n",
        "iris[\"Species\"].value_counts()"
      ],
      "execution_count": 430,
      "outputs": [
        {
          "output_type": "execute_result",
          "data": {
            "text/plain": [
              "Iris-setosa        50\n",
              "Iris-versicolor    50\n",
              "Iris-virginica     50\n",
              "Name: Species, dtype: int64"
            ]
          },
          "metadata": {
            "tags": []
          },
          "execution_count": 430
        }
      ]
    },
    {
      "cell_type": "code",
      "metadata": {
        "id": "ych6cc1xelaR",
        "colab": {
          "base_uri": "https://localhost:8080/",
          "height": 568
        },
        "outputId": "95d8a2c0-af4d-4512-9747-d9ff4b836db7"
      },
      "source": [
        "# Plot the distribution of the target variable.\n",
        "iris['Species'].value_counts().plot.bar()"
      ],
      "execution_count": 431,
      "outputs": [
        {
          "output_type": "execute_result",
          "data": {
            "text/plain": [
              "<matplotlib.axes._subplots.AxesSubplot at 0x7f092c110310>"
            ]
          },
          "metadata": {
            "tags": []
          },
          "execution_count": 431
        },
        {
          "output_type": "display_data",
          "data": {
            "image/png": "[encoded data removed]",
            "text/plain": [
              "<Figure size 576x576 with 1 Axes>"
            ]
          },
          "metadata": {
            "tags": []
          }
        }
      ]
    },
    {
      "cell_type": "code",
      "metadata": {
        "id": "Donc65r0f3ZJ",
        "colab": {
          "base_uri": "https://localhost:8080/",
          "height": 382
        },
        "outputId": "678e4e7c-0225-4de5-fb72-6a971ebc2331"
      },
      "source": [
        "# Plot the distribution of the target variable. (using seaborn)\n",
        "sns.displot(iris, x=\"Species\", shrink=.8)\n"
      ],
      "execution_count": 432,
      "outputs": [
        {
          "output_type": "execute_result",
          "data": {
            "text/plain": [
              "<seaborn.axisgrid.FacetGrid at 0x7f092836a450>"
            ]
          },
          "metadata": {
            "tags": []
          },
          "execution_count": 432
        },
        {
          "output_type": "display_data",
          "data": {
            "image/png": "[encoded data removed]",
            "text/plain": [
              "<Figure size 360x360 with 1 Axes>"
            ]
          },
          "metadata": {
            "tags": []
          }
        }
      ]
    },
    {
      "cell_type": "code",
      "metadata": {
        "id": "fzq38spygXra",
        "colab": {
          "base_uri": "https://localhost:8080/",
          "height": 1000
        },
        "outputId": "fd676e95-9670-46ee-c526-b6773c332252"
      },
      "source": [
        "# Visualize the distribution of data for every feature.\n",
        "# for i in range (0,iris.shape[1]):\n",
        "sns.relplot(x=features[0], y=\"Species\", hue=\"Species\", data=iris);\n",
        "sns.relplot(x=features[1], y=\"Species\", hue=\"Species\", data=iris);\n",
        "sns.relplot(x=features[2], y=\"Species\", hue=\"Species\", data=iris);\n",
        "sns.relplot(x=features[3], y=\"Species\", hue=\"Species\", data=iris);"
      ],
      "execution_count": 433,
      "outputs": [
        {
          "output_type": "display_data",
          "data": {
            "image/png": "[encoded data removed]",
            "text/plain": [
              "<Figure size 474.35x360 with 1 Axes>"
            ]
          },
          "metadata": {
            "tags": []
          }
        },
        {
          "output_type": "display_data",
          "data": {
            "image/png": "[encoded data removed]",
            "text/plain": [
              "<Figure size 474.35x360 with 1 Axes>"
            ]
          },
          "metadata": {
            "tags": []
          }
        },
        {
          "output_type": "display_data",
          "data": {
            "image/png": "[encoded data removed]",
            "text/plain": [
              "<Figure size 474.35x360 with 1 Axes>"
            ]
          },
          "metadata": {
            "tags": []
          }
        },
        {
          "output_type": "display_data",
          "data": {
            "image/png": "[encoded data removed]",
            "text/plain": [
              "<Figure size 474.35x360 with 1 Axes>"
            ]
          },
          "metadata": {
            "tags": []
          }
        }
      ]
    },
    {
      "cell_type": "markdown",
      "metadata": {
        "id": "2XygJwltkUV8"
      },
      "source": [
        "Replace categorical data with numbers"
      ]
    },
    {
      "cell_type": "code",
      "metadata": {
        "id": "4Hm0QmE5kUcv",
        "colab": {
          "base_uri": "https://localhost:8080/",
          "height": 416
        },
        "outputId": "8c26c27a-7b6b-4bba-c906-f13d9a4e6c68"
      },
      "source": [
        "le = LabelEncoder()\n",
        "iris['Species'] = le.fit_transform(iris['Species'])\n",
        "iris.head(80)"
      ],
      "execution_count": 434,
      "outputs": [
        {
          "output_type": "execute_result",
          "data": {
            "text/html": [
              "<div>\n",
              "<style scoped>\n",
              "    .dataframe tbody tr th:only-of-type {\n",
              "        vertical-align: middle;\n",
              "    }\n",
              "\n",
              "    .dataframe tbody tr th {\n",
              "        vertical-align: top;\n",
              "    }\n",
              "\n",
              "    .dataframe thead th {\n",
              "        text-align: right;\n",
              "    }\n",
              "</style>\n",
              "<table border=\"1\" class=\"dataframe\">\n",
              "  <thead>\n",
              "    <tr style=\"text-align: right;\">\n",
              "      <th></th>\n",
              "      <th>Id</th>\n",
              "      <th>SepalLengthCm</th>\n",
              "      <th>SepalWidthCm</th>\n",
              "      <th>PetalLengthCm</th>\n",
              "      <th>PetalWidthCm</th>\n",
              "      <th>Species</th>\n",
              "    </tr>\n",
              "  </thead>\n",
              "  <tbody>\n",
              "    <tr>\n",
              "      <th>0</th>\n",
              "      <td>1</td>\n",
              "      <td>5.1</td>\n",
              "      <td>3.5</td>\n",
              "      <td>1.4</td>\n",
              "      <td>0.2</td>\n",
              "      <td>0</td>\n",
              "    </tr>\n",
              "    <tr>\n",
              "      <th>1</th>\n",
              "      <td>2</td>\n",
              "      <td>4.9</td>\n",
              "      <td>3.0</td>\n",
              "      <td>1.4</td>\n",
              "      <td>0.2</td>\n",
              "      <td>0</td>\n",
              "    </tr>\n",
              "    <tr>\n",
              "      <th>2</th>\n",
              "      <td>3</td>\n",
              "      <td>4.7</td>\n",
              "      <td>3.2</td>\n",
              "      <td>1.3</td>\n",
              "      <td>0.2</td>\n",
              "      <td>0</td>\n",
              "    </tr>\n",
              "    <tr>\n",
              "      <th>3</th>\n",
              "      <td>4</td>\n",
              "      <td>4.6</td>\n",
              "      <td>3.1</td>\n",
              "      <td>1.5</td>\n",
              "      <td>0.2</td>\n",
              "      <td>0</td>\n",
              "    </tr>\n",
              "    <tr>\n",
              "      <th>4</th>\n",
              "      <td>5</td>\n",
              "      <td>5.0</td>\n",
              "      <td>3.6</td>\n",
              "      <td>1.4</td>\n",
              "      <td>0.2</td>\n",
              "      <td>0</td>\n",
              "    </tr>\n",
              "    <tr>\n",
              "      <th>...</th>\n",
              "      <td>...</td>\n",
              "      <td>...</td>\n",
              "      <td>...</td>\n",
              "      <td>...</td>\n",
              "      <td>...</td>\n",
              "      <td>...</td>\n",
              "    </tr>\n",
              "    <tr>\n",
              "      <th>75</th>\n",
              "      <td>76</td>\n",
              "      <td>6.6</td>\n",
              "      <td>3.0</td>\n",
              "      <td>4.4</td>\n",
              "      <td>1.4</td>\n",
              "      <td>1</td>\n",
              "    </tr>\n",
              "    <tr>\n",
              "      <th>76</th>\n",
              "      <td>77</td>\n",
              "      <td>6.8</td>\n",
              "      <td>2.8</td>\n",
              "      <td>4.8</td>\n",
              "      <td>1.4</td>\n",
              "      <td>1</td>\n",
              "    </tr>\n",
              "    <tr>\n",
              "      <th>77</th>\n",
              "      <td>78</td>\n",
              "      <td>6.7</td>\n",
              "      <td>3.0</td>\n",
              "      <td>5.0</td>\n",
              "      <td>1.7</td>\n",
              "      <td>1</td>\n",
              "    </tr>\n",
              "    <tr>\n",
              "      <th>78</th>\n",
              "      <td>79</td>\n",
              "      <td>6.0</td>\n",
              "      <td>2.9</td>\n",
              "      <td>4.5</td>\n",
              "      <td>1.5</td>\n",
              "      <td>1</td>\n",
              "    </tr>\n",
              "    <tr>\n",
              "      <th>79</th>\n",
              "      <td>80</td>\n",
              "      <td>5.7</td>\n",
              "      <td>2.6</td>\n",
              "      <td>3.5</td>\n",
              "      <td>1.0</td>\n",
              "      <td>1</td>\n",
              "    </tr>\n",
              "  </tbody>\n",
              "</table>\n",
              "<p>80 rows × 6 columns</p>\n",
              "</div>"
            ],
            "text/plain": [
              "    Id  SepalLengthCm  SepalWidthCm  PetalLengthCm  PetalWidthCm  Species\n",
              "0    1            5.1           3.5            1.4           0.2        0\n",
              "1    2            4.9           3.0            1.4           0.2        0\n",
              "2    3            4.7           3.2            1.3           0.2        0\n",
              "3    4            4.6           3.1            1.5           0.2        0\n",
              "4    5            5.0           3.6            1.4           0.2        0\n",
              "..  ..            ...           ...            ...           ...      ...\n",
              "75  76            6.6           3.0            4.4           1.4        1\n",
              "76  77            6.8           2.8            4.8           1.4        1\n",
              "77  78            6.7           3.0            5.0           1.7        1\n",
              "78  79            6.0           2.9            4.5           1.5        1\n",
              "79  80            5.7           2.6            3.5           1.0        1\n",
              "\n",
              "[80 rows x 6 columns]"
            ]
          },
          "metadata": {
            "tags": []
          },
          "execution_count": 434
        }
      ]
    },
    {
      "cell_type": "markdown",
      "metadata": {
        "id": "RI0h1oYZkUk3"
      },
      "source": [
        "Split data into train and test sets"
      ]
    },
    {
      "cell_type": "code",
      "metadata": {
        "id": "xw_HfqlPkUro",
        "colab": {
          "base_uri": "https://localhost:8080/",
          "height": 416
        },
        "outputId": "90e2b804-deee-4212-c5bb-f37610ebbbfd"
      },
      "source": [
        "iris = shuffle(iris)\n",
        "iris.head(80)"
      ],
      "execution_count": 435,
      "outputs": [
        {
          "output_type": "execute_result",
          "data": {
            "text/html": [
              "<div>\n",
              "<style scoped>\n",
              "    .dataframe tbody tr th:only-of-type {\n",
              "        vertical-align: middle;\n",
              "    }\n",
              "\n",
              "    .dataframe tbody tr th {\n",
              "        vertical-align: top;\n",
              "    }\n",
              "\n",
              "    .dataframe thead th {\n",
              "        text-align: right;\n",
              "    }\n",
              "</style>\n",
              "<table border=\"1\" class=\"dataframe\">\n",
              "  <thead>\n",
              "    <tr style=\"text-align: right;\">\n",
              "      <th></th>\n",
              "      <th>Id</th>\n",
              "      <th>SepalLengthCm</th>\n",
              "      <th>SepalWidthCm</th>\n",
              "      <th>PetalLengthCm</th>\n",
              "      <th>PetalWidthCm</th>\n",
              "      <th>Species</th>\n",
              "    </tr>\n",
              "  </thead>\n",
              "  <tbody>\n",
              "    <tr>\n",
              "      <th>13</th>\n",
              "      <td>14</td>\n",
              "      <td>4.3</td>\n",
              "      <td>3.0</td>\n",
              "      <td>1.1</td>\n",
              "      <td>0.1</td>\n",
              "      <td>0</td>\n",
              "    </tr>\n",
              "    <tr>\n",
              "      <th>105</th>\n",
              "      <td>106</td>\n",
              "      <td>7.6</td>\n",
              "      <td>3.0</td>\n",
              "      <td>6.6</td>\n",
              "      <td>2.1</td>\n",
              "      <td>2</td>\n",
              "    </tr>\n",
              "    <tr>\n",
              "      <th>74</th>\n",
              "      <td>75</td>\n",
              "      <td>6.4</td>\n",
              "      <td>2.9</td>\n",
              "      <td>4.3</td>\n",
              "      <td>1.3</td>\n",
              "      <td>1</td>\n",
              "    </tr>\n",
              "    <tr>\n",
              "      <th>50</th>\n",
              "      <td>51</td>\n",
              "      <td>7.0</td>\n",
              "      <td>3.2</td>\n",
              "      <td>4.7</td>\n",
              "      <td>1.4</td>\n",
              "      <td>1</td>\n",
              "    </tr>\n",
              "    <tr>\n",
              "      <th>46</th>\n",
              "      <td>47</td>\n",
              "      <td>5.1</td>\n",
              "      <td>3.8</td>\n",
              "      <td>1.6</td>\n",
              "      <td>0.2</td>\n",
              "      <td>0</td>\n",
              "    </tr>\n",
              "    <tr>\n",
              "      <th>...</th>\n",
              "      <td>...</td>\n",
              "      <td>...</td>\n",
              "      <td>...</td>\n",
              "      <td>...</td>\n",
              "      <td>...</td>\n",
              "      <td>...</td>\n",
              "    </tr>\n",
              "    <tr>\n",
              "      <th>84</th>\n",
              "      <td>85</td>\n",
              "      <td>5.4</td>\n",
              "      <td>3.0</td>\n",
              "      <td>4.5</td>\n",
              "      <td>1.5</td>\n",
              "      <td>1</td>\n",
              "    </tr>\n",
              "    <tr>\n",
              "      <th>59</th>\n",
              "      <td>60</td>\n",
              "      <td>5.2</td>\n",
              "      <td>2.7</td>\n",
              "      <td>3.9</td>\n",
              "      <td>1.4</td>\n",
              "      <td>1</td>\n",
              "    </tr>\n",
              "    <tr>\n",
              "      <th>147</th>\n",
              "      <td>148</td>\n",
              "      <td>6.5</td>\n",
              "      <td>3.0</td>\n",
              "      <td>5.2</td>\n",
              "      <td>2.0</td>\n",
              "      <td>2</td>\n",
              "    </tr>\n",
              "    <tr>\n",
              "      <th>111</th>\n",
              "      <td>112</td>\n",
              "      <td>6.4</td>\n",
              "      <td>2.7</td>\n",
              "      <td>5.3</td>\n",
              "      <td>1.9</td>\n",
              "      <td>2</td>\n",
              "    </tr>\n",
              "    <tr>\n",
              "      <th>61</th>\n",
              "      <td>62</td>\n",
              "      <td>5.9</td>\n",
              "      <td>3.0</td>\n",
              "      <td>4.2</td>\n",
              "      <td>1.5</td>\n",
              "      <td>1</td>\n",
              "    </tr>\n",
              "  </tbody>\n",
              "</table>\n",
              "<p>80 rows × 6 columns</p>\n",
              "</div>"
            ],
            "text/plain": [
              "      Id  SepalLengthCm  SepalWidthCm  PetalLengthCm  PetalWidthCm  Species\n",
              "13    14            4.3           3.0            1.1           0.1        0\n",
              "105  106            7.6           3.0            6.6           2.1        2\n",
              "74    75            6.4           2.9            4.3           1.3        1\n",
              "50    51            7.0           3.2            4.7           1.4        1\n",
              "46    47            5.1           3.8            1.6           0.2        0\n",
              "..   ...            ...           ...            ...           ...      ...\n",
              "84    85            5.4           3.0            4.5           1.5        1\n",
              "59    60            5.2           2.7            3.9           1.4        1\n",
              "147  148            6.5           3.0            5.2           2.0        2\n",
              "111  112            6.4           2.7            5.3           1.9        2\n",
              "61    62            5.9           3.0            4.2           1.5        1\n",
              "\n",
              "[80 rows x 6 columns]"
            ]
          },
          "metadata": {
            "tags": []
          },
          "execution_count": 435
        }
      ]
    },
    {
      "cell_type": "code",
      "metadata": {
        "id": "VyN_lBL4treO",
        "colab": {
          "base_uri": "https://localhost:8080/"
        },
        "outputId": "c88f6bf7-6e69-44fd-b6db-d0b186fd1285"
      },
      "source": [
        "# 80% for training and 20% for testing\n",
        "X_train, X_test, y_train, y_test = train_test_split( X, y, test_size=0.2)\n",
        "X_train.shape"
      ],
      "execution_count": 436,
      "outputs": [
        {
          "output_type": "execute_result",
          "data": {
            "text/plain": [
              "(120, 4)"
            ]
          },
          "metadata": {
            "tags": []
          },
          "execution_count": 436
        }
      ]
    },
    {
      "cell_type": "markdown",
      "metadata": {
        "id": "1z0gkDiNkUys"
      },
      "source": [
        "Base estimator(Decision Tree classifier) : a weak learner with max_depth=2"
      ]
    },
    {
      "cell_type": "code",
      "metadata": {
        "id": "7OaHtLK-kU5z"
      },
      "source": [
        "dt_clf = tree.DecisionTreeClassifier(max_depth = 2)"
      ],
      "execution_count": 437,
      "outputs": []
    },
    {
      "cell_type": "markdown",
      "metadata": {
        "id": "dO8d4jbfkVBo"
      },
      "source": [
        "Fit weak classifier"
      ]
    },
    {
      "cell_type": "code",
      "metadata": {
        "id": "-ajfhxelkVIc"
      },
      "source": [
        "dt_clf = dt_clf.fit(X_train,y_train)"
      ],
      "execution_count": 438,
      "outputs": []
    },
    {
      "cell_type": "code",
      "metadata": {
        "id": "ChvHbZh97cGT",
        "colab": {
          "base_uri": "https://localhost:8080/"
        },
        "outputId": "6cbe00a3-4f1a-4487-ddb3-98f61d2630e7"
      },
      "source": [
        "# cross validation\n",
        "scores = cross_val_score(dt_clf, X, y, cv=5)\n",
        "scores"
      ],
      "execution_count": 439,
      "outputs": [
        {
          "output_type": "execute_result",
          "data": {
            "text/plain": [
              "array([0.933333, 0.966667, 0.900000, 0.866667, 1.000000])"
            ]
          },
          "metadata": {
            "tags": []
          },
          "execution_count": 439
        }
      ]
    },
    {
      "cell_type": "markdown",
      "metadata": {
        "id": "uDdLYjRnkVP2"
      },
      "source": [
        "Calculate the accuracy by the weak learner"
      ]
    },
    {
      "cell_type": "code",
      "metadata": {
        "id": "2kcMADUMkVXD",
        "colab": {
          "base_uri": "https://localhost:8080/"
        },
        "outputId": "f7d640ba-af9c-48fa-a29b-bd555503424a"
      },
      "source": [
        "score_dt = dt_clf.score(X_test, y_test)\n",
        "score_dt"
      ],
      "execution_count": 440,
      "outputs": [
        {
          "output_type": "execute_result",
          "data": {
            "text/plain": [
              "0.9666666666666667"
            ]
          },
          "metadata": {
            "tags": []
          },
          "execution_count": 440
        }
      ]
    },
    {
      "cell_type": "markdown",
      "metadata": {
        "id": "v5d-qijEkVd1"
      },
      "source": [
        "Build the AdaBoost model with the the above decision tree and by increasing the number of trees from 1 to 5 with a step of 1 in the lines:\n",
        "\n",
        "Hint:   \n",
        "estimators = list(range(1, 5, 1))\n",
        "for n_est in estimators:\n",
        "\n"
      ]
    },
    {
      "cell_type": "code",
      "metadata": {
        "id": "ob26Gwx7kVjg",
        "colab": {
          "base_uri": "https://localhost:8080/"
        },
        "outputId": "0896dae2-2fc5-4d91-d2be-4131a2d3950c"
      },
      "source": [
        "# Ada_scores will give accuracy for 1,2,3 and 4 number of weak learners, \n",
        "estimators = list(range(1, 5, 1))\n",
        "ada_scores = []\n",
        "for n_est in estimators:\n",
        " ada_clf = AdaBoostClassifier(dt_clf, n_estimators=n_est)\n",
        " ada_clf.fit(X_train, y_train)\n",
        " ada_score = ada_clf.score(X_test, y_test)\n",
        " ada_scores.append(ada_score)\n",
        "ada_scores\n"
      ],
      "execution_count": 441,
      "outputs": [
        {
          "output_type": "execute_result",
          "data": {
            "text/plain": [
              "[0.9666666666666667,\n",
              " 0.9333333333333333,\n",
              " 0.9333333333333333,\n",
              " 0.9333333333333333]"
            ]
          },
          "metadata": {
            "tags": []
          },
          "execution_count": 441
        }
      ]
    },
    {
      "cell_type": "code",
      "metadata": {
        "id": "bTt4Gpei-arz",
        "colab": {
          "base_uri": "https://localhost:8080/"
        },
        "outputId": "1ebdb918-e8f0-450b-8d30-bd4c2a8780c7"
      },
      "source": [
        "# Find best parameter using grid search cv\n",
        "scorer = metrics.make_scorer(metrics.f1_score, average = 'weighted')\n",
        "parameters = {'n_estimators':[2,3,4]}\n",
        "grid_search = GridSearchCV(ada_clf, parameters, scoring=scorer, cv=5)\n",
        "grid_search.fit(X_train, y_train) \n",
        "print(grid_search.best_params_)"
      ],
      "execution_count": 442,
      "outputs": [
        {
          "output_type": "stream",
          "text": [
            "{'n_estimators': 4}\n"
          ],
          "name": "stdout"
        }
      ]
    },
    {
      "cell_type": "code",
      "metadata": {
        "id": "3Ju_iiXrCI4P",
        "colab": {
          "base_uri": "https://localhost:8080/"
        },
        "outputId": "9e905238-a571-405a-eb45-3cab2b8554ec"
      },
      "source": [
        "print(grid_search.best_score_) "
      ],
      "execution_count": 443,
      "outputs": [
        {
          "output_type": "stream",
          "text": [
            "0.9749346405228758\n"
          ],
          "name": "stdout"
        }
      ]
    },
    {
      "cell_type": "code",
      "metadata": {
        "colab": {
          "base_uri": "https://localhost:8080/"
        },
        "id": "JkcdxP85KUsH",
        "outputId": "1e573e12-839a-4318-8141-dcb7ca9c12ce"
      },
      "source": [
        "# cross validating for n_estimators = 2\n",
        "ada_cv_scores = cross_val_score(AdaBoostClassifier(dt_clf, n_estimators=2), X, y, cv=5)\n",
        "ada_cv_scores "
      ],
      "execution_count": 444,
      "outputs": [
        {
          "output_type": "execute_result",
          "data": {
            "text/plain": [
              "array([0.933333, 0.966667, 0.900000, 0.966667, 1.000000])"
            ]
          },
          "metadata": {
            "tags": []
          },
          "execution_count": 444
        }
      ]
    },
    {
      "cell_type": "code",
      "metadata": {
        "colab": {
          "base_uri": "https://localhost:8080/"
        },
        "id": "AZX_h5HQMPDO",
        "outputId": "47530284-9370-4dbe-9d9a-2b08d73d1a21"
      },
      "source": [
        "ada_mean_score = ada_cv_scores.mean()\n",
        "ada_mean_score"
      ],
      "execution_count": 445,
      "outputs": [
        {
          "output_type": "execute_result",
          "data": {
            "text/plain": [
              "0.9533333333333334"
            ]
          },
          "metadata": {
            "tags": []
          },
          "execution_count": 445
        }
      ]
    },
    {
      "cell_type": "markdown",
      "metadata": {
        "id": "k7u2bzw2lWPB"
      },
      "source": [
        "Plot the model performance"
      ]
    },
    {
      "cell_type": "code",
      "metadata": {
        "id": "_0IAGcgvlWW2"
      },
      "source": [
        "import matplotlib.pyplot as plt\n",
        "classifiers = [\"Decison tree\", \"Adaboost\"]\n",
        "accuracies = [score_dt, ada_mean_score]\n",
        "\n"
      ],
      "execution_count": 446,
      "outputs": []
    },
    {
      "cell_type": "code",
      "metadata": {
        "colab": {
          "base_uri": "https://localhost:8080/",
          "height": 342
        },
        "id": "b_LEGA2GTrOA",
        "outputId": "1399b47e-c0b3-4ee2-c37c-890ce20a4d11"
      },
      "source": [
        "import seaborn as sns\n",
        "fig_dims = (7, 5)\n",
        "fig, ax = plt.subplots(figsize=fig_dims)\n",
        "data = {\"Classifier\":classifiers ,\n",
        "        \"Accuracy\": accuracies}\n",
        "df = pd.DataFrame(data, columns=['Classifier', 'Accuracy'])\n",
        "plots = sns.barplot(x=\"Classifier\", y=\"Accuracy\", data=df)\n",
        "for bar in plots.patches:\n",
        "    plots.annotate(format(bar.get_height(), '.2f'), \n",
        "                   (bar.get_x() + bar.get_width() / 2, \n",
        "                    bar.get_height()), ha='center', va='center',\n",
        "                   size=15, xytext=(0, 8),\n",
        "                   textcoords='offset points')\n",
        "  "
      ],
      "execution_count": 447,
      "outputs": [
        {
          "output_type": "display_data",
          "data": {
            "image/png": "[encoded data removed]",
            "text/plain": [
              "<Figure size 504x360 with 1 Axes>"
            ]
          },
          "metadata": {
            "tags": []
          }
        }
      ]
    },
    {
      "cell_type": "markdown",
      "metadata": {
        "id": "q2q05WhRlWd8"
      },
      "source": [
        "#Bayes Classfication"
      ]
    },
    {
      "cell_type": "markdown",
      "metadata": {
        "id": "LNDGR9sJR5cS"
      },
      "source": [
        "# New Section"
      ]
    },
    {
      "cell_type": "markdown",
      "metadata": {
        "id": "Cx-Xp7XTlWrw"
      },
      "source": [
        "Import modules"
      ]
    },
    {
      "cell_type": "code",
      "metadata": {
        "id": "tcjNXGi6lWlO"
      },
      "source": [
        "from sklearn.naive_bayes import GaussianNB\n",
        "from sklearn.naive_bayes import MultinomialNB\n",
        "from sklearn.discriminant_analysis import LinearDiscriminantAnalysis"
      ],
      "execution_count": 448,
      "outputs": []
    },
    {
      "cell_type": "markdown",
      "metadata": {
        "id": "ACOoeaIflW5H"
      },
      "source": [
        "Naive Bayes algorithm using 5-fold cross validation "
      ]
    },
    {
      "cell_type": "code",
      "metadata": {
        "id": "uiHdJrUclW-_",
        "colab": {
          "base_uri": "https://localhost:8080/"
        },
        "outputId": "b612a6af-d793-4e51-991d-19d65ff55d73"
      },
      "source": [
        "# for gaussian naive bayes\n",
        "clf_bayes = GaussianNB()\n",
        "clf_bayes= clf_bayes.fit(X_train, y_train)\n",
        "clf_bayes.score(X_test, y_test)"
      ],
      "execution_count": 449,
      "outputs": [
        {
          "output_type": "execute_result",
          "data": {
            "text/plain": [
              "0.9333333333333333"
            ]
          },
          "metadata": {
            "tags": []
          },
          "execution_count": 449
        }
      ]
    },
    {
      "cell_type": "code",
      "metadata": {
        "colab": {
          "base_uri": "https://localhost:8080/"
        },
        "id": "irO3DeSWIgQY",
        "outputId": "07cbd979-f8d2-43b9-aa97-8cc07975b59e"
      },
      "source": [
        "# cross validation on gaussian naive bayes\n",
        "scores_bayes = cross_val_score(clf_bayes, X, y, cv=5)\n",
        "scores_bayes"
      ],
      "execution_count": 450,
      "outputs": [
        {
          "output_type": "execute_result",
          "data": {
            "text/plain": [
              "array([0.933333, 0.966667, 0.933333, 0.933333, 1.000000])"
            ]
          },
          "metadata": {
            "tags": []
          },
          "execution_count": 450
        }
      ]
    },
    {
      "cell_type": "markdown",
      "metadata": {
        "id": "kk1m1HOHlXGC"
      },
      "source": [
        "Plot the ROC AUC curve"
      ]
    },
    {
      "cell_type": "code",
      "metadata": {
        "colab": {
          "base_uri": "https://localhost:8080/",
          "height": 1000
        },
        "id": "M0NUbaTXXbYQ",
        "outputId": "e6ee229a-f829-42b3-b0a3-b07ffb59c35d"
      },
      "source": [
        "from sklearn.metrics import roc_curve, auc\n",
        "from sklearn.metrics import roc_auc_score\n",
        "from sklearn.multiclass import OneVsRestClassifier\n",
        "from sklearn.preprocessing import label_binarize\n",
        "import matplotlib.pyplot as plt\n",
        "\n",
        "\n",
        "y = label_binarize(y, classes=[0,1,2])\n",
        "n_classes = 3\n",
        "\n",
        "\n",
        "clf = OneVsRestClassifier(clf_bayes)\n",
        "y_score = clf.fit(X_train, y_train).predict(X_test)\n",
        "\n",
        "fpr = dict()\n",
        "tpr = dict()\n",
        "roc_auc = dict()\n",
        "for i in range(n_classes):\n",
        "    fpr[i], tpr[i], _ = roc_curve(np.array(pd.get_dummies(y_test))[:, i], np.array(pd.get_dummies(y_score))[:, i])\n",
        "    roc_auc[i] = auc(fpr[i], tpr[i])\n",
        "\n",
        "for i in range(n_classes):\n",
        "    plt.figure()\n",
        "    plt.plot(fpr[i], tpr[i], label='ROC curve (area = %0.2f)' % roc_auc[i])\n",
        "    plt.plot([0, 1], [0, 1], 'k--')\n",
        "    plt.xlabel('FPR')\n",
        "    plt.ylabel('TPR')\n",
        "    plt.title('ROC plot')\n",
        "    plt.legend(loc=\"lower right\")\n",
        "    plt.show()"
      ],
      "execution_count": 451,
      "outputs": [
        {
          "output_type": "display_data",
          "data": {
            "image/png": "[encoded data removed]",
            "text/plain": [
              "<Figure size 576x576 with 1 Axes>"
            ]
          },
          "metadata": {
            "tags": []
          }
        },
        {
          "output_type": "display_data",
          "data": {
            "image/png": "[encoded data removed]",
            "text/plain": [
              "<Figure size 576x576 with 1 Axes>"
            ]
          },
          "metadata": {
            "tags": []
          }
        },
        {
          "output_type": "display_data",
          "data": {
            "image/png": "[encoded data removed]",
            "text/plain": [
              "<Figure size 576x576 with 1 Axes>"
            ]
          },
          "metadata": {
            "tags": []
          }
        }
      ]
    },
    {
      "cell_type": "markdown",
      "metadata": {
        "id": "ohy9xGBWlXTn"
      },
      "source": [
        "Use logarithmic discriminant function to compute accuracy"
      ]
    },
    {
      "cell_type": "code",
      "metadata": {
        "id": "XDp7T7FcmMEq",
        "colab": {
          "base_uri": "https://localhost:8080/"
        },
        "outputId": "756def80-2d3c-4d28-b7f3-ec9d17710e4d"
      },
      "source": [
        "clf_lda = LinearDiscriminantAnalysis()\n",
        "clf_lda.fit(X_train, y_train)\n",
        "clf_lda.score(X_test, y_test)"
      ],
      "execution_count": 452,
      "outputs": [
        {
          "output_type": "execute_result",
          "data": {
            "text/plain": [
              "0.9333333333333333"
            ]
          },
          "metadata": {
            "tags": []
          },
          "execution_count": 452
        }
      ]
    },
    {
      "cell_type": "markdown",
      "metadata": {
        "id": "IQIMOZUSmM8M"
      },
      "source": [
        "Bayes risk"
      ]
    },
    {
      "cell_type": "code",
      "metadata": {
        "id": "ctp78sYAlXYX",
        "colab": {
          "base_uri": "https://localhost:8080/"
        },
        "outputId": "3e646845-51ed-4722-c0ce-cc85d92db2fd"
      },
      "source": [
        "# first we will find posterior probablities using gaussian distribution\n",
        "clf_bayes.classes_"
      ],
      "execution_count": 453,
      "outputs": [
        {
          "output_type": "execute_result",
          "data": {
            "text/plain": [
              "array(['Iris-setosa', 'Iris-versicolor', 'Iris-virginica'], dtype='<U15')"
            ]
          },
          "metadata": {
            "tags": []
          },
          "execution_count": 453
        }
      ]
    },
    {
      "cell_type": "code",
      "metadata": {
        "colab": {
          "base_uri": "https://localhost:8080/"
        },
        "id": "FzO11Puog5ov",
        "outputId": "989c6b68-c472-4427-be8a-2d482cb626d1"
      },
      "source": [
        "np.set_printoptions(formatter={'float_kind':'{:f}'.format})\n",
        "probab = clf_bayes.predict_proba(X_test)\n",
        "probab"
      ],
      "execution_count": 454,
      "outputs": [
        {
          "output_type": "execute_result",
          "data": {
            "text/plain": [
              "array([[1.000000, 0.000000, 0.000000],\n",
              "       [0.000000, 0.000001, 0.999999],\n",
              "       [0.000000, 0.000005, 0.999995],\n",
              "       [1.000000, 0.000000, 0.000000],\n",
              "       [1.000000, 0.000000, 0.000000],\n",
              "       [1.000000, 0.000000, 0.000000],\n",
              "       [0.000000, 0.000001, 0.999999],\n",
              "       [0.000000, 0.999897, 0.000103],\n",
              "       [0.000000, 0.999879, 0.000121],\n",
              "       [0.000000, 0.000000, 1.000000],\n",
              "       [1.000000, 0.000000, 0.000000],\n",
              "       [1.000000, 0.000000, 0.000000],\n",
              "       [0.000000, 0.999603, 0.000397],\n",
              "       [0.000000, 0.999453, 0.000547],\n",
              "       [1.000000, 0.000000, 0.000000],\n",
              "       [1.000000, 0.000000, 0.000000],\n",
              "       [0.000000, 0.000000, 1.000000],\n",
              "       [0.000000, 0.000000, 1.000000],\n",
              "       [0.000000, 0.999999, 0.000001],\n",
              "       [1.000000, 0.000000, 0.000000],\n",
              "       [0.000000, 0.001676, 0.998324],\n",
              "       [1.000000, 0.000000, 0.000000],\n",
              "       [0.000000, 0.991494, 0.008506],\n",
              "       [0.000000, 0.496186, 0.503814],\n",
              "       [0.000000, 0.103698, 0.896302],\n",
              "       [0.000000, 0.000000, 1.000000],\n",
              "       [1.000000, 0.000000, 0.000000],\n",
              "       [0.000000, 0.999556, 0.000444],\n",
              "       [1.000000, 0.000000, 0.000000],\n",
              "       [0.000000, 0.999409, 0.000591]])"
            ]
          },
          "metadata": {
            "tags": []
          },
          "execution_count": 454
        }
      ]
    },
    {
      "cell_type": "code",
      "metadata": {
        "colab": {
          "base_uri": "https://localhost:8080/"
        },
        "id": "1IEOdpQch4KH",
        "outputId": "695bf08a-d168-4415-bd59-bacb86ce3b69"
      },
      "source": [
        "# cross checking if the probablities sum to 1\n",
        "probab.sum(axis = 1)"
      ],
      "execution_count": 455,
      "outputs": [
        {
          "output_type": "execute_result",
          "data": {
            "text/plain": [
              "array([1.000000, 1.000000, 1.000000, 1.000000, 1.000000, 1.000000,\n",
              "       1.000000, 1.000000, 1.000000, 1.000000, 1.000000, 1.000000,\n",
              "       1.000000, 1.000000, 1.000000, 1.000000, 1.000000, 1.000000,\n",
              "       1.000000, 1.000000, 1.000000, 1.000000, 1.000000, 1.000000,\n",
              "       1.000000, 1.000000, 1.000000, 1.000000, 1.000000, 1.000000])"
            ]
          },
          "metadata": {
            "tags": []
          },
          "execution_count": 455
        }
      ]
    },
    {
      "cell_type": "code",
      "metadata": {
        "id": "YfjOE9CQiFFS"
      },
      "source": [
        "# to calculate bayes risk \n",
        "# risk(action) = \n",
        "loss = np.array([[1, 2, 3], [4, 5, 6], [7, 8, 9]])\n",
        "np.transpose(loss)\n",
        "# multiply with probab \n",
        "risk = np.matmul(probab , loss)"
      ],
      "execution_count": 456,
      "outputs": []
    },
    {
      "cell_type": "code",
      "metadata": {
        "colab": {
          "base_uri": "https://localhost:8080/"
        },
        "id": "0daBqR3utNnw",
        "outputId": "4a251321-4e8d-42bc-89e0-266097ad8f35"
      },
      "source": [
        "risk"
      ],
      "execution_count": 457,
      "outputs": [
        {
          "output_type": "execute_result",
          "data": {
            "text/plain": [
              "array([[1.000000, 2.000000, 3.000000],\n",
              "       [6.999998, 7.999998, 8.999998],\n",
              "       [6.999986, 7.999986, 8.999986],\n",
              "       [1.000000, 2.000000, 3.000000],\n",
              "       [1.000000, 2.000000, 3.000000],\n",
              "       [1.000000, 2.000000, 3.000000],\n",
              "       [6.999997, 7.999997, 8.999997],\n",
              "       [4.000310, 5.000310, 6.000310],\n",
              "       [4.000362, 5.000362, 6.000362],\n",
              "       [6.999999, 7.999999, 8.999999],\n",
              "       [1.000000, 2.000000, 3.000000],\n",
              "       [1.000000, 2.000000, 3.000000],\n",
              "       [4.001190, 5.001190, 6.001190],\n",
              "       [4.001640, 5.001640, 6.001640],\n",
              "       [1.000000, 2.000000, 3.000000],\n",
              "       [1.000000, 2.000000, 3.000000],\n",
              "       [7.000000, 8.000000, 9.000000],\n",
              "       [6.999999, 7.999999, 8.999999],\n",
              "       [4.000004, 5.000004, 6.000004],\n",
              "       [1.000000, 2.000000, 3.000000],\n",
              "       [6.994971, 7.994971, 8.994971],\n",
              "       [1.000000, 2.000000, 3.000000],\n",
              "       [4.025519, 5.025519, 6.025519],\n",
              "       [5.511443, 6.511443, 7.511443],\n",
              "       [6.688905, 7.688905, 8.688905],\n",
              "       [7.000000, 8.000000, 9.000000],\n",
              "       [1.000000, 2.000000, 3.000000],\n",
              "       [4.001332, 5.001332, 6.001332],\n",
              "       [1.000000, 2.000000, 3.000000],\n",
              "       [4.001772, 5.001772, 6.001772]])"
            ]
          },
          "metadata": {
            "tags": []
          },
          "execution_count": 457
        }
      ]
    },
    {
      "cell_type": "code",
      "metadata": {
        "id": "Liyy7dq9bboh"
      },
      "source": [
        "bayes_risk = risk.min(axis=1)"
      ],
      "execution_count": 499,
      "outputs": []
    },
    {
      "cell_type": "code",
      "metadata": {
        "colab": {
          "base_uri": "https://localhost:8080/"
        },
        "id": "LFxJN-izbkK7",
        "outputId": "3f4c07c7-3795-4067-ec19-a9917906ef1f"
      },
      "source": [
        "bayes_risk"
      ],
      "execution_count": 500,
      "outputs": [
        {
          "output_type": "execute_result",
          "data": {
            "text/plain": [
              "array([1.000000, 6.999998, 6.999986, 1.000000, 1.000000, 1.000000,\n",
              "       6.999997, 4.000310, 4.000362, 6.999999, 1.000000, 1.000000,\n",
              "       4.001190, 4.001640, 1.000000, 1.000000, 7.000000, 6.999999,\n",
              "       4.000004, 1.000000, 6.994971, 1.000000, 4.025519, 5.511443,\n",
              "       6.688905, 7.000000, 1.000000, 4.001332, 1.000000, 4.001772])"
            ]
          },
          "metadata": {
            "tags": []
          },
          "execution_count": 500
        }
      ]
    },
    {
      "cell_type": "code",
      "metadata": {
        "id": "tupXeQ1jtJYY"
      },
      "source": [
        "import matplotlib.pyplot as plt\n"
      ],
      "execution_count": 458,
      "outputs": []
    },
    {
      "cell_type": "markdown",
      "metadata": {
        "id": "yiYQaARKLNnW"
      },
      "source": [
        "**Real Life Dataset**"
      ]
    },
    {
      "cell_type": "markdown",
      "metadata": {
        "id": "rc0ZHmDRY8HT"
      },
      "source": [
        "Create the labels from the given data.\n",
        "Plot the distribution of samples using histogram.\n",
        "Determine the prior probability for both the classes.\n",
        "Determine the likelihood / class conditional probabilities for the classes. (Hint : Discretize the car heights into bins, you can use normalized histograms)\n",
        "Plot the count of each unique element for each class. (Please mention in the report why this plot is different from the distribution)\n",
        "Calculate the P(C1|x) and P(C2|x) i.e posterior probabilities and plot them in a single graph. [5 marks]\n"
      ]
    },
    {
      "cell_type": "code",
      "metadata": {
        "colab": {
          "base_uri": "https://localhost:8080/",
          "height": 202
        },
        "id": "rGTUg_PWnP1r",
        "outputId": "dea5a84b-1253-4475-f3dc-c99924fa37f3"
      },
      "source": [
        "iris.head()"
      ],
      "execution_count": 459,
      "outputs": [
        {
          "output_type": "execute_result",
          "data": {
            "text/html": [
              "<div>\n",
              "<style scoped>\n",
              "    .dataframe tbody tr th:only-of-type {\n",
              "        vertical-align: middle;\n",
              "    }\n",
              "\n",
              "    .dataframe tbody tr th {\n",
              "        vertical-align: top;\n",
              "    }\n",
              "\n",
              "    .dataframe thead th {\n",
              "        text-align: right;\n",
              "    }\n",
              "</style>\n",
              "<table border=\"1\" class=\"dataframe\">\n",
              "  <thead>\n",
              "    <tr style=\"text-align: right;\">\n",
              "      <th></th>\n",
              "      <th>Id</th>\n",
              "      <th>SepalLengthCm</th>\n",
              "      <th>SepalWidthCm</th>\n",
              "      <th>PetalLengthCm</th>\n",
              "      <th>PetalWidthCm</th>\n",
              "      <th>Species</th>\n",
              "    </tr>\n",
              "  </thead>\n",
              "  <tbody>\n",
              "    <tr>\n",
              "      <th>13</th>\n",
              "      <td>14</td>\n",
              "      <td>4.3</td>\n",
              "      <td>3.0</td>\n",
              "      <td>1.1</td>\n",
              "      <td>0.1</td>\n",
              "      <td>0</td>\n",
              "    </tr>\n",
              "    <tr>\n",
              "      <th>105</th>\n",
              "      <td>106</td>\n",
              "      <td>7.6</td>\n",
              "      <td>3.0</td>\n",
              "      <td>6.6</td>\n",
              "      <td>2.1</td>\n",
              "      <td>2</td>\n",
              "    </tr>\n",
              "    <tr>\n",
              "      <th>74</th>\n",
              "      <td>75</td>\n",
              "      <td>6.4</td>\n",
              "      <td>2.9</td>\n",
              "      <td>4.3</td>\n",
              "      <td>1.3</td>\n",
              "      <td>1</td>\n",
              "    </tr>\n",
              "    <tr>\n",
              "      <th>50</th>\n",
              "      <td>51</td>\n",
              "      <td>7.0</td>\n",
              "      <td>3.2</td>\n",
              "      <td>4.7</td>\n",
              "      <td>1.4</td>\n",
              "      <td>1</td>\n",
              "    </tr>\n",
              "    <tr>\n",
              "      <th>46</th>\n",
              "      <td>47</td>\n",
              "      <td>5.1</td>\n",
              "      <td>3.8</td>\n",
              "      <td>1.6</td>\n",
              "      <td>0.2</td>\n",
              "      <td>0</td>\n",
              "    </tr>\n",
              "  </tbody>\n",
              "</table>\n",
              "</div>"
            ],
            "text/plain": [
              "      Id  SepalLengthCm  SepalWidthCm  PetalLengthCm  PetalWidthCm  Species\n",
              "13    14            4.3           3.0            1.1           0.1        0\n",
              "105  106            7.6           3.0            6.6           2.1        2\n",
              "74    75            6.4           2.9            4.3           1.3        1\n",
              "50    51            7.0           3.2            4.7           1.4        1\n",
              "46    47            5.1           3.8            1.6           0.2        0"
            ]
          },
          "metadata": {
            "tags": []
          },
          "execution_count": 459
        }
      ]
    },
    {
      "cell_type": "code",
      "metadata": {
        "id": "Wb1w9FOuL2If"
      },
      "source": [
        "iris_vis = iris[['SepalLengthCm', 'Species']]"
      ],
      "execution_count": 460,
      "outputs": []
    },
    {
      "cell_type": "code",
      "metadata": {
        "colab": {
          "base_uri": "https://localhost:8080/",
          "height": 202
        },
        "id": "zAGkrDqVM2ko",
        "outputId": "a815ee77-db06-4209-f3c2-f7d41d3ab5f5"
      },
      "source": [
        "iris_vis.head()"
      ],
      "execution_count": 461,
      "outputs": [
        {
          "output_type": "execute_result",
          "data": {
            "text/html": [
              "<div>\n",
              "<style scoped>\n",
              "    .dataframe tbody tr th:only-of-type {\n",
              "        vertical-align: middle;\n",
              "    }\n",
              "\n",
              "    .dataframe tbody tr th {\n",
              "        vertical-align: top;\n",
              "    }\n",
              "\n",
              "    .dataframe thead th {\n",
              "        text-align: right;\n",
              "    }\n",
              "</style>\n",
              "<table border=\"1\" class=\"dataframe\">\n",
              "  <thead>\n",
              "    <tr style=\"text-align: right;\">\n",
              "      <th></th>\n",
              "      <th>SepalLengthCm</th>\n",
              "      <th>Species</th>\n",
              "    </tr>\n",
              "  </thead>\n",
              "  <tbody>\n",
              "    <tr>\n",
              "      <th>13</th>\n",
              "      <td>4.3</td>\n",
              "      <td>0</td>\n",
              "    </tr>\n",
              "    <tr>\n",
              "      <th>105</th>\n",
              "      <td>7.6</td>\n",
              "      <td>2</td>\n",
              "    </tr>\n",
              "    <tr>\n",
              "      <th>74</th>\n",
              "      <td>6.4</td>\n",
              "      <td>1</td>\n",
              "    </tr>\n",
              "    <tr>\n",
              "      <th>50</th>\n",
              "      <td>7.0</td>\n",
              "      <td>1</td>\n",
              "    </tr>\n",
              "    <tr>\n",
              "      <th>46</th>\n",
              "      <td>5.1</td>\n",
              "      <td>0</td>\n",
              "    </tr>\n",
              "  </tbody>\n",
              "</table>\n",
              "</div>"
            ],
            "text/plain": [
              "     SepalLengthCm  Species\n",
              "13             4.3        0\n",
              "105            7.6        2\n",
              "74             6.4        1\n",
              "50             7.0        1\n",
              "46             5.1        0"
            ]
          },
          "metadata": {
            "tags": []
          },
          "execution_count": 461
        }
      ]
    },
    {
      "cell_type": "code",
      "metadata": {
        "colab": {
          "base_uri": "https://localhost:8080/"
        },
        "id": "WS2CwXKoM6e-",
        "outputId": "2357bf52-3e3a-4d1a-bda0-36428ff00883"
      },
      "source": [
        "iris_vis.shape"
      ],
      "execution_count": 462,
      "outputs": [
        {
          "output_type": "execute_result",
          "data": {
            "text/plain": [
              "(150, 2)"
            ]
          },
          "metadata": {
            "tags": []
          },
          "execution_count": 462
        }
      ]
    },
    {
      "cell_type": "code",
      "metadata": {
        "id": "auGWP94pM98T"
      },
      "source": [
        "iris_vis_data = iris_vis.to_numpy()"
      ],
      "execution_count": 463,
      "outputs": []
    },
    {
      "cell_type": "markdown",
      "metadata": {
        "id": "SZoyq1lmfzlg"
      },
      "source": [
        "# Create the labels from the data"
      ]
    },
    {
      "cell_type": "code",
      "metadata": {
        "id": "7t-UTRW0T9zr"
      },
      "source": [
        "x_c1 = []\n",
        "x_c2 = []\n",
        "x_c3 = []\n",
        "for i in range(iris_vis_data.shape[0]):\n",
        "  if(iris_vis_data[i][1]== 0):\n",
        "    x_c1.append(iris_vis_data[i][0])\n",
        "  elif (iris_vis_data[i][1]== 1):\n",
        "    x_c2.append(iris_vis_data[i][0])\n",
        "  elif (iris_vis_data[i][1]== 2):\n",
        "     x_c3.append(iris_vis_data[i][0])"
      ],
      "execution_count": 464,
      "outputs": []
    },
    {
      "cell_type": "code",
      "metadata": {
        "colab": {
          "base_uri": "https://localhost:8080/"
        },
        "id": "n0ipjVcMUCwU",
        "outputId": "02363845-8f4a-4b11-d15c-10cb493f1f8b"
      },
      "source": [
        "print(x_c1)\n",
        "print(x_c2)\n",
        "print(x_c3)"
      ],
      "execution_count": 465,
      "outputs": [
        {
          "output_type": "stream",
          "text": [
            "[4.3, 5.1, 4.8, 5.0, 5.1, 4.8, 5.5, 5.2, 4.4, 5.4, 4.9, 5.8, 4.9, 5.7, 5.0, 5.1, 5.1, 5.0, 5.7, 5.2, 5.1, 5.0, 4.7, 5.1, 4.9, 4.4, 4.6, 4.6, 5.5, 4.8, 4.8, 5.0, 5.3, 4.7, 5.0, 4.8, 5.1, 4.6, 5.1, 5.0, 5.4, 5.0, 4.6, 5.2, 5.4, 5.4, 4.5, 4.4, 4.9, 5.4]\n",
            "[6.4, 7.0, 5.8, 4.9, 5.0, 5.5, 6.6, 6.4, 5.0, 5.7, 5.6, 6.3, 5.6, 6.1, 6.0, 6.2, 5.8, 6.1, 5.5, 5.7, 6.3, 6.6, 6.9, 6.2, 6.3, 6.7, 6.0, 5.9, 5.1, 5.4, 5.2, 5.9, 5.7, 6.0, 6.1, 5.5, 5.8, 5.7, 6.7, 5.7, 6.1, 6.7, 6.5, 6.8, 5.5, 5.6, 5.5, 6.0, 5.6, 5.6]\n",
            "[7.6, 6.9, 6.4, 6.1, 7.7, 6.7, 7.7, 7.9, 7.7, 6.0, 6.9, 7.4, 6.5, 6.4, 5.6, 6.3, 7.3, 7.2, 6.3, 5.9, 6.5, 4.9, 6.8, 6.5, 6.4, 6.0, 7.2, 6.9, 6.5, 5.8, 6.7, 6.1, 5.8, 6.7, 6.3, 5.8, 6.2, 6.3, 7.2, 6.8, 6.7, 6.4, 6.2, 6.7, 5.7, 7.7, 6.3, 6.3, 6.4, 7.1]\n"
          ],
          "name": "stdout"
        }
      ]
    },
    {
      "cell_type": "markdown",
      "metadata": {
        "id": "FX6DCU8hZSlb"
      },
      "source": [
        "# Plotting the distribution of samples."
      ]
    },
    {
      "cell_type": "code",
      "metadata": {
        "id": "zYtm2jI-PUEF"
      },
      "source": [
        "import seaborn as sns\n",
        "sns.set(rc={'figure.figsize':(8,8)})\n",
        "x = iris_vis_data[:,0]\n"
      ],
      "execution_count": 466,
      "outputs": []
    },
    {
      "cell_type": "code",
      "metadata": {
        "colab": {
          "base_uri": "https://localhost:8080/",
          "height": 502
        },
        "id": "ivYO08AkPrxl",
        "outputId": "93a69c22-92e9-420b-9979-3a96f6d04cb0"
      },
      "source": [
        "#This gives a clear idea\n",
        "plt.hist(x)\n",
        "plt.xlabel(\"SepalLengthCm\")\n",
        "plt.ylabel(\"Count\")\n",
        "plt.show()"
      ],
      "execution_count": 467,
      "outputs": [
        {
          "output_type": "display_data",
          "data": {
            "image/png": "[encoded data removed]",
            "text/plain": [
              "<Figure size 576x576 with 1 Axes>"
            ]
          },
          "metadata": {
            "tags": []
          }
        }
      ]
    },
    {
      "cell_type": "markdown",
      "metadata": {
        "id": "h7SxR0k8Z0Gb"
      },
      "source": [
        "# Prior Probabilities for both the classes"
      ]
    },
    {
      "cell_type": "code",
      "metadata": {
        "colab": {
          "base_uri": "https://localhost:8080/"
        },
        "id": "51CGV_xBP7EG",
        "outputId": "baee5e34-a143-4434-9bda-5f11c1b0a831"
      },
      "source": [
        "iris_vis['Species'].unique()"
      ],
      "execution_count": 468,
      "outputs": [
        {
          "output_type": "execute_result",
          "data": {
            "text/plain": [
              "array([0, 2, 1])"
            ]
          },
          "metadata": {
            "tags": []
          },
          "execution_count": 468
        }
      ]
    },
    {
      "cell_type": "code",
      "metadata": {
        "colab": {
          "base_uri": "https://localhost:8080/"
        },
        "id": "FeW7kdqZQxTk",
        "outputId": "0e2ba902-20db-4c2c-fd88-e794d61f4b37"
      },
      "source": [
        " iris_vis['Species'].value_counts()"
      ],
      "execution_count": 469,
      "outputs": [
        {
          "output_type": "execute_result",
          "data": {
            "text/plain": [
              "2    50\n",
              "1    50\n",
              "0    50\n",
              "Name: Species, dtype: int64"
            ]
          },
          "metadata": {
            "tags": []
          },
          "execution_count": 469
        }
      ]
    },
    {
      "cell_type": "code",
      "metadata": {
        "colab": {
          "base_uri": "https://localhost:8080/"
        },
        "id": "MylMA9kgQ5Gs",
        "outputId": "ea6646ab-116e-4731-c4a6-627d671a8f6e"
      },
      "source": [
        "prob_c1 = 50/ len(iris_vis_data)\n",
        "prob_c2 = 50/ len(iris_vis_data)\n",
        "prob_c3 = 50/ len(iris_vis_data)\n",
        "print(\"Prior Class 1:\",prob_c1)\n",
        "print(\"Prior Class 2:\",prob_c2)\n",
        "print(\"Prior Class 3:\",prob_c3)"
      ],
      "execution_count": 470,
      "outputs": [
        {
          "output_type": "stream",
          "text": [
            "Prior Class 1: 0.3333333333333333\n",
            "Prior Class 2: 0.3333333333333333\n",
            "Prior Class 3: 0.3333333333333333\n"
          ],
          "name": "stdout"
        }
      ]
    },
    {
      "cell_type": "markdown",
      "metadata": {
        "id": "sgwtwrGxauph"
      },
      "source": [
        "# Unique Values"
      ]
    },
    {
      "cell_type": "code",
      "metadata": {
        "colab": {
          "base_uri": "https://localhost:8080/"
        },
        "id": "fy4dnEJwTcyE",
        "outputId": "a5ce1c17-59ed-4f7f-ffbb-f2bdfc0bcf87"
      },
      "source": [
        "iris_vis['SepalLengthCm'].unique()"
      ],
      "execution_count": 471,
      "outputs": [
        {
          "output_type": "execute_result",
          "data": {
            "text/plain": [
              "array([4.300000, 7.600000, 6.400000, 7.000000, 5.100000, 6.900000,\n",
              "       4.800000, 5.800000, 5.000000, 4.900000, 5.500000, 6.600000,\n",
              "       6.100000, 5.200000, 7.700000, 6.700000, 4.400000, 5.700000,\n",
              "       5.600000, 5.400000, 6.300000, 7.900000, 6.000000, 6.200000,\n",
              "       7.400000, 6.500000, 7.300000, 7.200000, 5.900000, 6.800000,\n",
              "       4.700000, 4.600000, 5.300000, 4.500000, 7.100000])"
            ]
          },
          "metadata": {
            "tags": []
          },
          "execution_count": 471
        }
      ]
    },
    {
      "cell_type": "code",
      "metadata": {
        "colab": {
          "base_uri": "https://localhost:8080/"
        },
        "id": "6wRlNTEHR4ya",
        "outputId": "391d0b0f-fa4d-475e-e81c-2c8ef3914fe1"
      },
      "source": [
        "iris_vis['SepalLengthCm'].value_counts()"
      ],
      "execution_count": 472,
      "outputs": [
        {
          "output_type": "execute_result",
          "data": {
            "text/plain": [
              "5.0    10\n",
              "5.1     9\n",
              "6.3     9\n",
              "5.7     8\n",
              "6.7     8\n",
              "6.4     7\n",
              "5.8     7\n",
              "5.5     7\n",
              "6.0     6\n",
              "6.1     6\n",
              "5.4     6\n",
              "4.9     6\n",
              "5.6     6\n",
              "4.8     5\n",
              "6.5     5\n",
              "4.6     4\n",
              "6.9     4\n",
              "7.7     4\n",
              "5.2     4\n",
              "6.2     4\n",
              "5.9     3\n",
              "6.8     3\n",
              "7.2     3\n",
              "4.4     3\n",
              "4.7     2\n",
              "6.6     2\n",
              "7.1     1\n",
              "7.6     1\n",
              "7.4     1\n",
              "4.5     1\n",
              "4.3     1\n",
              "7.3     1\n",
              "5.3     1\n",
              "7.9     1\n",
              "7.0     1\n",
              "Name: SepalLengthCm, dtype: int64"
            ]
          },
          "metadata": {
            "tags": []
          },
          "execution_count": 472
        }
      ]
    },
    {
      "cell_type": "code",
      "metadata": {
        "id": "p3amd5ZjVZLk"
      },
      "source": [
        "from collections import Counter\n",
        "unique_c1 = Counter(x_c1).keys() \n",
        "count_unique_c1 = list(Counter(x_c1).values()) \n",
        "unique_c2 = Counter(x_c2).keys() \n",
        "count_unique_c2 = list(Counter(x_c2).values()) \n",
        "unique_c3 = Counter(x_c3).keys() \n",
        "count_unique_c3 = list(Counter(x_c3).values()) \n"
      ],
      "execution_count": 473,
      "outputs": []
    },
    {
      "cell_type": "code",
      "metadata": {
        "colab": {
          "base_uri": "https://localhost:8080/"
        },
        "id": "woNpF7ULVr8C",
        "outputId": "fc19eda2-58b9-45f7-9d45-93ad08784a2b"
      },
      "source": [
        "unique_c1"
      ],
      "execution_count": 474,
      "outputs": [
        {
          "output_type": "execute_result",
          "data": {
            "text/plain": [
              "dict_keys([4.3, 5.1, 4.8, 5.0, 5.5, 5.2, 4.4, 5.4, 4.9, 5.8, 5.7, 4.7, 4.6, 5.3, 4.5])"
            ]
          },
          "metadata": {
            "tags": []
          },
          "execution_count": 474
        }
      ]
    },
    {
      "cell_type": "code",
      "metadata": {
        "colab": {
          "base_uri": "https://localhost:8080/"
        },
        "id": "0-SBK_FOVtJH",
        "outputId": "6fcb76a6-c3f3-418d-cf32-9c155f9bd703"
      },
      "source": [
        "count_unique_c1"
      ],
      "execution_count": 475,
      "outputs": [
        {
          "output_type": "execute_result",
          "data": {
            "text/plain": [
              "[1, 8, 5, 8, 2, 3, 3, 5, 4, 1, 2, 2, 4, 1, 1]"
            ]
          },
          "metadata": {
            "tags": []
          },
          "execution_count": 475
        }
      ]
    },
    {
      "cell_type": "code",
      "metadata": {
        "colab": {
          "base_uri": "https://localhost:8080/",
          "height": 502
        },
        "id": "l0NsDcmUa-rq",
        "outputId": "cb0a83af-f3d1-438b-88ee-0e292fed8211"
      },
      "source": [
        "sns.lineplot(list(unique_c1),count_unique_c1)\n",
        "plt.xlabel(\"SepalLengthCm\")\n",
        "plt.ylabel(\"Count in c1\")\n",
        "plt.show()\n",
        "# from graph it is clear that maximum count in c_1 for one of the sepal lengths is 8 "
      ],
      "execution_count": 476,
      "outputs": [
        {
          "output_type": "display_data",
          "data": {
            "image/png": "[encoded data removed]",
            "text/plain": [
              "<Figure size 576x576 with 1 Axes>"
            ]
          },
          "metadata": {
            "tags": []
          }
        }
      ]
    },
    {
      "cell_type": "code",
      "metadata": {
        "colab": {
          "base_uri": "https://localhost:8080/"
        },
        "id": "K-Ymw_SBe9un",
        "outputId": "d1d748c8-28c3-45cf-c3f4-c97a2ff6555d"
      },
      "source": [
        "unique_c2"
      ],
      "execution_count": 477,
      "outputs": [
        {
          "output_type": "execute_result",
          "data": {
            "text/plain": [
              "dict_keys([6.4, 7.0, 5.8, 4.9, 5.0, 5.5, 6.6, 5.7, 5.6, 6.3, 6.1, 6.0, 6.2, 6.9, 6.7, 5.9, 5.1, 5.4, 5.2, 6.5, 6.8])"
            ]
          },
          "metadata": {
            "tags": []
          },
          "execution_count": 477
        }
      ]
    },
    {
      "cell_type": "code",
      "metadata": {
        "colab": {
          "base_uri": "https://localhost:8080/"
        },
        "id": "66wTqkk4e-Nm",
        "outputId": "7df98a2b-64c8-458b-d1dc-776f479ddae6"
      },
      "source": [
        "count_unique_c2"
      ],
      "execution_count": 478,
      "outputs": [
        {
          "output_type": "execute_result",
          "data": {
            "text/plain": [
              "[2, 1, 3, 1, 2, 5, 2, 5, 5, 3, 4, 4, 2, 1, 3, 2, 1, 1, 1, 1, 1]"
            ]
          },
          "metadata": {
            "tags": []
          },
          "execution_count": 478
        }
      ]
    },
    {
      "cell_type": "code",
      "metadata": {
        "colab": {
          "base_uri": "https://localhost:8080/",
          "height": 502
        },
        "id": "zA1ywBMMcRzw",
        "outputId": "68c27046-de60-4e64-8dfe-8058fd250eb0"
      },
      "source": [
        "sns.lineplot(list(unique_c2),count_unique_c2)\n",
        "plt.xlabel(\"SepalLengthCm\")\n",
        "plt.ylabel(\"Count in c2\")\n",
        "plt.show()\n",
        "# from graph"
      ],
      "execution_count": 479,
      "outputs": [
        {
          "output_type": "display_data",
          "data": {
            "image/png": "[encoded data removed]",
            "text/plain": [
              "<Figure size 576x576 with 1 Axes>"
            ]
          },
          "metadata": {
            "tags": []
          }
        }
      ]
    },
    {
      "cell_type": "code",
      "metadata": {
        "colab": {
          "base_uri": "https://localhost:8080/"
        },
        "id": "IzHwGA5tgQyy",
        "outputId": "984a696f-e533-4920-b550-8f36a2cc9adb"
      },
      "source": [
        "unique_c3"
      ],
      "execution_count": 480,
      "outputs": [
        {
          "output_type": "execute_result",
          "data": {
            "text/plain": [
              "dict_keys([7.6, 6.9, 6.4, 6.1, 7.7, 6.7, 7.9, 6.0, 7.4, 6.5, 5.6, 6.3, 7.3, 7.2, 5.9, 4.9, 6.8, 5.8, 6.2, 5.7, 7.1])"
            ]
          },
          "metadata": {
            "tags": []
          },
          "execution_count": 480
        }
      ]
    },
    {
      "cell_type": "code",
      "metadata": {
        "colab": {
          "base_uri": "https://localhost:8080/"
        },
        "id": "Ro7PGHLZgTCn",
        "outputId": "f557adb6-e413-4ac1-8fc8-a99dfeae3804"
      },
      "source": [
        "count_unique_c3"
      ],
      "execution_count": 481,
      "outputs": [
        {
          "output_type": "execute_result",
          "data": {
            "text/plain": [
              "[1, 3, 5, 2, 4, 5, 1, 2, 1, 4, 1, 6, 1, 3, 1, 1, 2, 3, 2, 1, 1]"
            ]
          },
          "metadata": {
            "tags": []
          },
          "execution_count": 481
        }
      ]
    },
    {
      "cell_type": "code",
      "metadata": {
        "colab": {
          "base_uri": "https://localhost:8080/",
          "height": 502
        },
        "id": "Vukg3JZ9gVl2",
        "outputId": "e091d1e5-8ec4-4933-c8d5-c42a48233ef7"
      },
      "source": [
        "sns.lineplot(list(unique_c3),count_unique_c3)\n",
        "plt.xlabel(\"SepalLengthCm\")\n",
        "plt.ylabel(\"Count in c3\")\n",
        "plt.show()"
      ],
      "execution_count": 482,
      "outputs": [
        {
          "output_type": "display_data",
          "data": {
            "image/png": "[encoded data removed]",
            "text/plain": [
              "<Figure size 576x576 with 1 Axes>"
            ]
          },
          "metadata": {
            "tags": []
          }
        }
      ]
    },
    {
      "cell_type": "markdown",
      "metadata": {
        "id": "nvTJlyDig6GZ"
      },
      "source": [
        "# Likelihood"
      ]
    },
    {
      "cell_type": "code",
      "metadata": {
        "id": "PfkhyO9BVxwJ"
      },
      "source": [
        "y1 = np.array(count_unique_c1)/len(x_c1)\n",
        "y2 = np.array(count_unique_c2)/len(x_c2)\n",
        "y3 = np.array(count_unique_c3)/len(x_c3)"
      ],
      "execution_count": 483,
      "outputs": []
    },
    {
      "cell_type": "code",
      "metadata": {
        "colab": {
          "base_uri": "https://localhost:8080/"
        },
        "id": "MrYFv40eEfLC",
        "outputId": "13e4f469-2c14-423a-dfaa-65328fac6c14"
      },
      "source": [
        "y1"
      ],
      "execution_count": 484,
      "outputs": [
        {
          "output_type": "execute_result",
          "data": {
            "text/plain": [
              "array([0.020000, 0.160000, 0.100000, 0.160000, 0.040000, 0.060000,\n",
              "       0.060000, 0.100000, 0.080000, 0.020000, 0.040000, 0.040000,\n",
              "       0.080000, 0.020000, 0.020000])"
            ]
          },
          "metadata": {
            "tags": []
          },
          "execution_count": 484
        }
      ]
    },
    {
      "cell_type": "code",
      "metadata": {
        "colab": {
          "base_uri": "https://localhost:8080/"
        },
        "id": "yBTNUAmOEiJ7",
        "outputId": "dd0a154d-30e5-4003-89b8-eef9a23ea659"
      },
      "source": [
        "y2"
      ],
      "execution_count": 485,
      "outputs": [
        {
          "output_type": "execute_result",
          "data": {
            "text/plain": [
              "array([0.040000, 0.020000, 0.060000, 0.020000, 0.040000, 0.100000,\n",
              "       0.040000, 0.100000, 0.100000, 0.060000, 0.080000, 0.080000,\n",
              "       0.040000, 0.020000, 0.060000, 0.040000, 0.020000, 0.020000,\n",
              "       0.020000, 0.020000, 0.020000])"
            ]
          },
          "metadata": {
            "tags": []
          },
          "execution_count": 485
        }
      ]
    },
    {
      "cell_type": "code",
      "metadata": {
        "colab": {
          "base_uri": "https://localhost:8080/"
        },
        "id": "KArZ9FyuEjkB",
        "outputId": "3b61a915-24b4-47bb-a0ee-5d148e61b0f3"
      },
      "source": [
        "y3"
      ],
      "execution_count": 486,
      "outputs": [
        {
          "output_type": "execute_result",
          "data": {
            "text/plain": [
              "array([0.020000, 0.060000, 0.100000, 0.040000, 0.080000, 0.100000,\n",
              "       0.020000, 0.040000, 0.020000, 0.080000, 0.020000, 0.120000,\n",
              "       0.020000, 0.060000, 0.020000, 0.020000, 0.040000, 0.060000,\n",
              "       0.040000, 0.020000, 0.020000])"
            ]
          },
          "metadata": {
            "tags": []
          },
          "execution_count": 486
        }
      ]
    },
    {
      "cell_type": "code",
      "metadata": {
        "colab": {
          "base_uri": "https://localhost:8080/",
          "height": 502
        },
        "id": "mKDIHQZL6NnF",
        "outputId": "c71ee674-017a-4735-e194-f1d596a02874"
      },
      "source": [
        "sns.pointplot(list(unique_c1),y1, linestyles=\"--\",markers =['x'] )\n",
        "sns.pointplot(list(unique_c2),y2,linestyles='-',markers=['o'])\n",
        "sns.pointplot(list(unique_c3),y3,linestyles=':',markers=['o'])\n",
        "plt.legend(labels = ['c1','c2','c3'])\n",
        "plt.xlabel(\"SepalLengthCm\")\n",
        "plt.ylabel(\"P (SepalLengthCm | c)\")\n",
        "plt.show()"
      ],
      "execution_count": 487,
      "outputs": [
        {
          "output_type": "display_data",
          "data": {
            "image/png": "[encoded data removed]",
            "text/plain": [
              "<Figure size 576x576 with 1 Axes>"
            ]
          },
          "metadata": {
            "tags": []
          }
        }
      ]
    },
    {
      "cell_type": "code",
      "metadata": {
        "id": "dHQyq6Vq6NeN"
      },
      "source": [
        ""
      ],
      "execution_count": 487,
      "outputs": []
    },
    {
      "cell_type": "code",
      "metadata": {
        "id": "WETQwNybYg3C"
      },
      "source": [
        "likelihood_c1 = y1\n",
        "likelihood_c2 = y2\n",
        "likelihood_c3 = y3"
      ],
      "execution_count": 488,
      "outputs": []
    },
    {
      "cell_type": "code",
      "metadata": {
        "id": "SljDZTTxY6L6"
      },
      "source": [
        "unique_heights = iris_vis['SepalLengthCm'].unique()\n",
        "counts = iris_vis['SepalLengthCm'].value_counts()\n"
      ],
      "execution_count": 489,
      "outputs": []
    },
    {
      "cell_type": "code",
      "metadata": {
        "id": "n0-qdjoHjWcu",
        "colab": {
          "base_uri": "https://localhost:8080/"
        },
        "outputId": "d2c0df00-6cde-4c13-e2d8-9a7e0efba4b1"
      },
      "source": [
        "print(unique_heights)\n",
        "print(counts)"
      ],
      "execution_count": 490,
      "outputs": [
        {
          "output_type": "stream",
          "text": [
            "[4.300000 7.600000 6.400000 7.000000 5.100000 6.900000 4.800000 5.800000\n",
            " 5.000000 4.900000 5.500000 6.600000 6.100000 5.200000 7.700000 6.700000\n",
            " 4.400000 5.700000 5.600000 5.400000 6.300000 7.900000 6.000000 6.200000\n",
            " 7.400000 6.500000 7.300000 7.200000 5.900000 6.800000 4.700000 4.600000\n",
            " 5.300000 4.500000 7.100000]\n",
            "5.0    10\n",
            "5.1     9\n",
            "6.3     9\n",
            "5.7     8\n",
            "6.7     8\n",
            "6.4     7\n",
            "5.8     7\n",
            "5.5     7\n",
            "6.0     6\n",
            "6.1     6\n",
            "5.4     6\n",
            "4.9     6\n",
            "5.6     6\n",
            "4.8     5\n",
            "6.5     5\n",
            "4.6     4\n",
            "6.9     4\n",
            "7.7     4\n",
            "5.2     4\n",
            "6.2     4\n",
            "5.9     3\n",
            "6.8     3\n",
            "7.2     3\n",
            "4.4     3\n",
            "4.7     2\n",
            "6.6     2\n",
            "7.1     1\n",
            "7.6     1\n",
            "7.4     1\n",
            "4.5     1\n",
            "4.3     1\n",
            "7.3     1\n",
            "5.3     1\n",
            "7.9     1\n",
            "7.0     1\n",
            "Name: SepalLengthCm, dtype: int64\n"
          ],
          "name": "stdout"
        }
      ]
    },
    {
      "cell_type": "code",
      "metadata": {
        "id": "Y4Jz0VQWZXXS"
      },
      "source": [
        "posterior_c1 = []\n",
        "i=0\n",
        "for height in unique_c1:\n",
        "  posterior_c1.append((likelihood_c1[i]* prob_c1)/ ( counts[height] /iris_vis.shape[0]))\n",
        "  i= i+1\n",
        "\n",
        "# for better understanding\n",
        "dict_posterior_c1 = {}\n",
        "i = 0\n",
        "for height in unique_c1:\n",
        "  dict_posterior_c1[height] = posterior_c1[i]\n",
        "  i +=1\n",
        "\n"
      ],
      "execution_count": 491,
      "outputs": []
    },
    {
      "cell_type": "code",
      "metadata": {
        "colab": {
          "base_uri": "https://localhost:8080/"
        },
        "id": "OCButfe3jPJQ",
        "outputId": "b66434af-94b9-4f52-869e-acd1adba0896"
      },
      "source": [
        "dict_posterior_c1"
      ],
      "execution_count": 492,
      "outputs": [
        {
          "output_type": "execute_result",
          "data": {
            "text/plain": [
              "{4.3: 0.9999999999999999,\n",
              " 4.4: 0.9999999999999998,\n",
              " 4.5: 0.9999999999999999,\n",
              " 4.6: 0.9999999999999999,\n",
              " 4.7: 0.9999999999999999,\n",
              " 4.8: 1.0,\n",
              " 4.9: 0.6666666666666666,\n",
              " 5.0: 0.7999999999999999,\n",
              " 5.1: 0.8888888888888888,\n",
              " 5.2: 0.7499999999999999,\n",
              " 5.3: 0.9999999999999999,\n",
              " 5.4: 0.8333333333333333,\n",
              " 5.5: 0.2857142857142857,\n",
              " 5.7: 0.24999999999999997,\n",
              " 5.8: 0.14285714285714285}"
            ]
          },
          "metadata": {
            "tags": []
          },
          "execution_count": 492
        }
      ]
    },
    {
      "cell_type": "code",
      "metadata": {
        "id": "hNN4g0jQaTk6"
      },
      "source": [
        "posterior_c2 = []\n",
        "i=0\n",
        "for height in unique_c2:\n",
        "  posterior_c2.append((likelihood_c2[i]* prob_c2)/ ( counts[height] /iris_vis.shape[0]))\n",
        "  i= i+1\n",
        "\n",
        "# for better understanding\n",
        "dict_posterior_c2 = {}\n",
        "i = 0\n",
        "for height in unique_c2:\n",
        "  dict_posterior_c2[height] = posterior_c2[i]\n",
        "  i +=1\n",
        "\n"
      ],
      "execution_count": 493,
      "outputs": []
    },
    {
      "cell_type": "code",
      "metadata": {
        "colab": {
          "base_uri": "https://localhost:8080/"
        },
        "id": "RMj3NqC9jMhn",
        "outputId": "77df6734-011e-4cf0-efb6-49bec8b4d632"
      },
      "source": [
        "dict_posterior_c2"
      ],
      "execution_count": 494,
      "outputs": [
        {
          "output_type": "execute_result",
          "data": {
            "text/plain": [
              "{4.9: 0.16666666666666666,\n",
              " 5.0: 0.19999999999999998,\n",
              " 5.1: 0.1111111111111111,\n",
              " 5.2: 0.24999999999999997,\n",
              " 5.4: 0.16666666666666666,\n",
              " 5.5: 0.7142857142857142,\n",
              " 5.6: 0.8333333333333333,\n",
              " 5.7: 0.625,\n",
              " 5.8: 0.4285714285714285,\n",
              " 5.9: 0.6666666666666666,\n",
              " 6.0: 0.6666666666666666,\n",
              " 6.1: 0.6666666666666666,\n",
              " 6.2: 0.49999999999999994,\n",
              " 6.3: 0.3333333333333333,\n",
              " 6.4: 0.2857142857142857,\n",
              " 6.5: 0.19999999999999998,\n",
              " 6.6: 0.9999999999999999,\n",
              " 6.7: 0.37499999999999994,\n",
              " 6.8: 0.3333333333333333,\n",
              " 6.9: 0.24999999999999997,\n",
              " 7.0: 0.9999999999999999}"
            ]
          },
          "metadata": {
            "tags": []
          },
          "execution_count": 494
        }
      ]
    },
    {
      "cell_type": "code",
      "metadata": {
        "id": "Rdsa7wYTazLB"
      },
      "source": [
        "posterior_c3 = []\n",
        "i=0\n",
        "for height in unique_c3:\n",
        "  posterior_c3.append((likelihood_c3[i]* prob_c3)/ ( counts[height] /iris_vis.shape[0]))\n",
        "  i= i+1\n",
        "\n",
        "# for better understanding\n",
        "dict_posterior_c3 = {}\n",
        "i = 0\n",
        "for height in unique_c3:\n",
        "  dict_posterior_c3[height] = posterior_c3[i]\n",
        "  i +=1\n"
      ],
      "execution_count": 495,
      "outputs": []
    },
    {
      "cell_type": "code",
      "metadata": {
        "colab": {
          "base_uri": "https://localhost:8080/"
        },
        "id": "LbHnJpfPjJcL",
        "outputId": "ef719920-d379-4679-a38d-6dc8341294ee"
      },
      "source": [
        "dict_posterior_c3"
      ],
      "execution_count": 496,
      "outputs": [
        {
          "output_type": "execute_result",
          "data": {
            "text/plain": [
              "{4.9: 0.16666666666666666,\n",
              " 5.6: 0.16666666666666666,\n",
              " 5.7: 0.12499999999999999,\n",
              " 5.8: 0.4285714285714285,\n",
              " 5.9: 0.3333333333333333,\n",
              " 6.0: 0.3333333333333333,\n",
              " 6.1: 0.3333333333333333,\n",
              " 6.2: 0.49999999999999994,\n",
              " 6.3: 0.6666666666666666,\n",
              " 6.4: 0.7142857142857142,\n",
              " 6.5: 0.7999999999999999,\n",
              " 6.7: 0.625,\n",
              " 6.8: 0.6666666666666666,\n",
              " 6.9: 0.7499999999999999,\n",
              " 7.1: 0.9999999999999999,\n",
              " 7.2: 0.9999999999999998,\n",
              " 7.3: 0.9999999999999999,\n",
              " 7.4: 0.9999999999999999,\n",
              " 7.6: 0.9999999999999999,\n",
              " 7.7: 0.9999999999999999,\n",
              " 7.9: 0.9999999999999999}"
            ]
          },
          "metadata": {
            "tags": []
          },
          "execution_count": 496
        }
      ]
    },
    {
      "cell_type": "code",
      "metadata": {
        "colab": {
          "base_uri": "https://localhost:8080/",
          "height": 574
        },
        "id": "c-topWF7bJlF",
        "outputId": "21f2ad8d-f509-4f91-b10c-3cd0b297ffae"
      },
      "source": [
        "fig_dims = (16, 9)\n",
        "fig, ax = plt.subplots(figsize=fig_dims)\n",
        "sns.pointplot(list(unique_c1),posterior_c1, linestyles=\"--\",markers =['x'] )\n",
        "sns.pointplot(list(unique_c2),posterior_c2,linestyles='-',markers=['o'])\n",
        "sns.pointplot(list(unique_c3),posterior_c3, linestyles=\":\",markers =['x'] )\n",
        "plt.xlabel(\"SepalLengthCm\")\n",
        "plt.ylabel(\"P(c |SepalLengthCm \")\n"
      ],
      "execution_count": 497,
      "outputs": [
        {
          "output_type": "execute_result",
          "data": {
            "text/plain": [
              "Text(0, 0.5, 'P(c |SepalLengthCm ')"
            ]
          },
          "metadata": {
            "tags": []
          },
          "execution_count": 497
        },
        {
          "output_type": "display_data",
          "data": {
            "image/png": "[encoded data removed]",
            "text/plain": [
              "<Figure size 1152x648 with 1 Axes>"
            ]
          },
          "metadata": {
            "tags": []
          }
        }
      ]
    },
    {
      "cell_type": "markdown",
      "metadata": {
        "id": "NrPIsoKeTDpX"
      },
      "source": [
        "[Decision Tree](https://https://scikit-learn.org/stable/modules/generated/sklearn.tree.DecisionTreeClassifier.html)\n",
        "\n",
        "[Adaboost Explaination](https://https://towardsdatascience.com/understanding-adaboost-2f94f22d5bfe)\n",
        "\n",
        "[Adaboost](https://scikit-learn.org/stable/modules/generated/sklearn.ensemble.AdaBoostClassifier.html)\n",
        "\n",
        "[Naive Bayes](https://https://scikit-learn.org/stable/modules/naive_bayes.html)\n",
        "\n",
        "\n",
        "[Bayes Risk](https://drive.google.com/file/d/14oDBVaOWt6y5kSceIPLK59v3iNu9PjWb/view)\n",
        "\n",
        "[Discriminant function](https://drive.google.com/file/d/1ggLEGpgcwEen1lec5VW1Gqjp9nQI0-rM/view)\n",
        "\n",
        "[Discriminant function analysis](https://scikit-learn.org/stable/modules/generated/sklearn.discriminant_analysis.LinearDiscriminantAnalysis.html)\n",
        "\n",
        "\n",
        "\n",
        "\n"
      ]
    }
  ]
}